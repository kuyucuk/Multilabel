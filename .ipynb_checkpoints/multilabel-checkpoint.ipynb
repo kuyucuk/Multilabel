{
 "cells": [
  {
   "cell_type": "code",
   "execution_count": 1,
   "metadata": {},
   "outputs": [],
   "source": [
    "import numpy as np # linear algebra\n",
    "import pandas as pd # data processing, CSV file I/O (e.g. pd.read_csv)\n",
    "\n",
    "from sklearn.feature_extraction.text import HashingVectorizer\n",
    "from sklearn.feature_extraction.text import TfidfVectorizer\n",
    "from sklearn.feature_extraction.text import CountVectorizer\n",
    "from sklearn.linear_model import LogisticRegression\n",
    "from sklearn.multiclass import OneVsRestClassifier\n",
    "from sklearn.pipeline import Pipeline"
   ]
  },
  {
   "cell_type": "code",
   "execution_count": 2,
   "metadata": {},
   "outputs": [],
   "source": [
    "train = pd.read_excel('input/train.xls')\n",
    "sikayetsayisi=len(train)\n",
    "yontem=CountVectorizer"
   ]
  },
  {
   "cell_type": "code",
   "execution_count": 3,
   "metadata": {},
   "outputs": [
    {
     "name": "stdout",
     "output_type": "stream",
     "text": [
      "<class 'pandas.core.frame.DataFrame'>\n",
      "RangeIndex: 1887 entries, 0 to 1886\n",
      "Data columns (total 10 columns):\n",
      " #   Column                                         Non-Null Count  Dtype \n",
      "---  ------                                         --------------  ----- \n",
      " 0   id                                             1887 non-null   int64 \n",
      " 1   icerik                                         1887 non-null   object\n",
      " 2   Gecikti veya Dağıtıma Çıkmadı                  1887 non-null   int64 \n",
      " 3   Evde yok notu düşüldü veya Kapıya Getirilmedi  1887 non-null   int64 \n",
      " 4   Telefonlara Cevap Verilmedi                    1887 non-null   int64 \n",
      " 5   İade Süreci                                    1887 non-null   int64 \n",
      " 6   Teslim Alınmadı veya Teslim Edilmedi           1887 non-null   int64 \n",
      " 7   Kötü Diyalog Veya Saygısız Tutum               1887 non-null   int64 \n",
      " 8   Hasarlı veya Kayıp Paket                       1887 non-null   int64 \n",
      " 9   Hijyen Kurallarına Uyulmadı                    1887 non-null   int64 \n",
      "dtypes: int64(9), object(1)\n",
      "memory usage: 140.1+ KB\n",
      "None\n",
      "                id  Gecikti veya Dağıtıma Çıkmadı  \\\n",
      "count  1887.000000                    1887.000000   \n",
      "mean   1510.274510                       0.426073   \n",
      "std     870.699105                       0.494636   \n",
      "min       2.000000                       0.000000   \n",
      "25%     762.000000                       0.000000   \n",
      "50%    1516.000000                       0.000000   \n",
      "75%    2267.500000                       1.000000   \n",
      "max    3000.000000                       1.000000   \n",
      "\n",
      "       Evde yok notu düşüldü veya Kapıya Getirilmedi  \\\n",
      "count                                    1887.000000   \n",
      "mean                                        0.291998   \n",
      "std                                         0.454802   \n",
      "min                                         0.000000   \n",
      "25%                                         0.000000   \n",
      "50%                                         0.000000   \n",
      "75%                                         1.000000   \n",
      "max                                         1.000000   \n",
      "\n",
      "       Telefonlara Cevap Verilmedi  İade Süreci  \\\n",
      "count                  1887.000000  1887.000000   \n",
      "mean                      0.207737     0.078431   \n",
      "std                       0.405795     0.268920   \n",
      "min                       0.000000     0.000000   \n",
      "25%                       0.000000     0.000000   \n",
      "50%                       0.000000     0.000000   \n",
      "75%                       0.000000     0.000000   \n",
      "max                       1.000000     1.000000   \n",
      "\n",
      "       Teslim Alınmadı veya Teslim Edilmedi  Kötü Diyalog Veya Saygısız Tutum  \\\n",
      "count                           1887.000000                       1887.000000   \n",
      "mean                               0.454690                          0.271330   \n",
      "std                                0.498075                          0.444764   \n",
      "min                                0.000000                          0.000000   \n",
      "25%                                0.000000                          0.000000   \n",
      "50%                                0.000000                          0.000000   \n",
      "75%                                1.000000                          1.000000   \n",
      "max                                1.000000                          1.000000   \n",
      "\n",
      "       Hasarlı veya Kayıp Paket  Hijyen Kurallarına Uyulmadı  \n",
      "count               1887.000000                  1887.000000  \n",
      "mean                   0.129306                     0.080551  \n",
      "std                    0.335627                     0.272217  \n",
      "min                    0.000000                     0.000000  \n",
      "25%                    0.000000                     0.000000  \n",
      "50%                    0.000000                     0.000000  \n",
      "75%                    0.000000                     0.000000  \n",
      "max                    1.000000                     1.000000  \n",
      "0    Sürat Kargo Gülnur Korkmaz İşitme Engelliyim--...\n",
      "1    MNG Kargo Teslimat Yapmamak İçin Ellerinden Ge...\n",
      "2    PTT Kargo Covid Önlemleri Alınmıyor--> PTT Kar...\n",
      "3    PTT Kargo Ürünü Adrese Getirmeme, Müşteri Hizm...\n",
      "4    Aras Kargo Kargom Yola Çıkmıyor--> Şubeye gitt...\n",
      "Name: icerik, dtype: object\n"
     ]
    }
   ],
   "source": [
    "print(train.info())\n",
    "print(train.describe())\n",
    "print(train.icerik.head())"
   ]
  },
  {
   "cell_type": "code",
   "execution_count": 4,
   "metadata": {},
   "outputs": [],
   "source": [
    "#creating x and y\n",
    "x=train.loc[:,'icerik']"
   ]
  },
  {
   "cell_type": "code",
   "execution_count": 5,
   "metadata": {},
   "outputs": [],
   "source": [
    "z=[0,1,2,3,4,5,6,7]\n",
    "z[0]=train.loc[:,'Gecikti veya Dağıtıma Çıkmadı']\n",
    "z[1]=train.loc[:,'Evde yok notu düşüldü veya Kapıya Getirilmedi']\n",
    "z[2]=train.loc[:,'Telefonlara Cevap Verilmedi']\n",
    "z[3]=train.loc[:,'İade Süreci']\n",
    "z[4]=train.loc[:,'Teslim Alınmadı veya Teslim Edilmedi']\n",
    "z[5]=train.loc[:,'Kötü Diyalog Veya Saygısız Tutum']\n",
    "z[6]=train.loc[:,'Hasarlı veya Kayıp Paket']\n",
    "z[7]=train.loc[:,'Hijyen Kurallarına Uyulmadı']\n"
   ]
  },
  {
   "cell_type": "code",
   "execution_count": 6,
   "metadata": {},
   "outputs": [
    {
     "data": {
      "text/plain": [
       "Pipeline(steps=[('vec', TfidfVectorizer(token_pattern='[A-Za-z0-9]+(?=\\\\s+)')),\n",
       "                ('clf', OneVsRestClassifier(estimator=LogisticRegression()))])"
      ]
     },
     "execution_count": 6,
     "metadata": {},
     "output_type": "execute_result"
    }
   ],
   "source": [
    "y = train.drop(['id','icerik'],axis=1)\n",
    "\n",
    "tks = '[A-Za-z0-9]+(?=\\\\s+)'\n",
    "\n",
    "\n",
    "pl = Pipeline([\n",
    "        ('vec', yontem(token_pattern = tks)),\n",
    "        ('clf', OneVsRestClassifier(LogisticRegression()))\n",
    "    ])\n",
    "\n",
    "# Fit to the training data\n",
    "pl.fit(x,y)\n"
   ]
  },
  {
   "cell_type": "code",
   "execution_count": 7,
   "metadata": {},
   "outputs": [
    {
     "name": "stdout",
     "output_type": "stream",
     "text": [
      "<class 'pandas.core.frame.DataFrame'>\n",
      "RangeIndex: 16333 entries, 0 to 16332\n",
      "Data columns (total 2 columns):\n",
      " #   Column  Non-Null Count  Dtype \n",
      "---  ------  --------------  ----- \n",
      " 0   id      16333 non-null  int64 \n",
      " 1   icerik  16333 non-null  object\n",
      "dtypes: int64(1), object(1)\n",
      "memory usage: 191.5+ KB\n"
     ]
    }
   ],
   "source": [
    "test = pd.read_excel('input/test.xls')\n",
    "test.info()\n",
    "#1 missing value"
   ]
  },
  {
   "cell_type": "code",
   "execution_count": 8,
   "metadata": {},
   "outputs": [],
   "source": [
    "test = test.fillna(\"\")\n",
    "#predicting\n",
    "predictions = pl.predict_proba(test.icerik)"
   ]
  },
  {
   "cell_type": "code",
   "execution_count": 9,
   "metadata": {},
   "outputs": [],
   "source": [
    "toplam=[0,0,0,0,0,0,0,0]\n",
    "ortalama=[0,0,0,0,0,0,0,0]\n",
    "for sutun in range (0,len(z)):\n",
    "    for i in range (0,len(predictions)):\n",
    "        toplam[sutun]=toplam[sutun]+predictions[i][sutun]\n",
    "    ortalama[sutun]=toplam[sutun]/len(predictions)"
   ]
  },
  {
   "cell_type": "code",
   "execution_count": 10,
   "metadata": {},
   "outputs": [],
   "source": [
    "for i in range (0 , len(predictions)):\n",
    "    for j in range (0,len(z)):\n",
    "        if predictions[i][j] < ortalama[j]:\n",
    "            predictions[i][j] = 0\n",
    "        else:\n",
    "            predictions[i][j] = 1"
   ]
  },
  {
   "cell_type": "code",
   "execution_count": 11,
   "metadata": {},
   "outputs": [],
   "source": [
    "# Format predictions in DataFrame: prediction_df\n",
    "prediction_df = pd.DataFrame(columns=y.columns, index=test.id, data=predictions)\n",
    "\n",
    "prediction_df.to_excel('predictions.xls')"
   ]
  },
  {
   "cell_type": "code",
   "execution_count": 12,
   "metadata": {},
   "outputs": [],
   "source": [
    "degisken=0\n",
    "toplamtahmin=0\n",
    "\n",
    "\n",
    "for i in range (0 , sikayetsayisi):\n",
    "    for j in range (0,len(z)):\n",
    "        toplamtahmin=toplamtahmin+1\n",
    "        if predictions[i][j] == z[j][i]:\n",
    "            degisken=degisken+1"
   ]
  },
  {
   "cell_type": "code",
   "execution_count": 13,
   "metadata": {},
   "outputs": [],
   "source": [
    "yontem=str(yontem)\n",
    "if \"CountVectorizer\" in yontem:\n",
    "    yontem = str(yontem).replace(yontem, \"CountVectorizer\")\n",
    "if \"TfidfVectorizer\" in yontem:\n",
    "    yontem = str(yontem).replace(yontem, \"TfidfVectorizer\")\n",
    "if \"HashingVectorizer\" in yontem:\n",
    "    yontem = str(yontem).replace(yontem, \"HashingVectorizer\")\n"
   ]
  },
  {
   "cell_type": "code",
   "execution_count": 14,
   "metadata": {},
   "outputs": [
    {
     "name": "stdout",
     "output_type": "stream",
     "text": [
      "\n",
      "16333 adet veride tahminleme işlemi TfidfVectorizer yöntemi ile gerçekleştirilmiştir.\n"
     ]
    }
   ],
   "source": [
    "if len(test)==len(train):\n",
    "    print(\"\\n\"+yontem+\" yöntemi ile train edilen \"+str(sikayetsayisi)+\" test verisinde yapılan toplam \" + str(toplamtahmin) + \" tahminden \" + str(degisken) + \" kadarı doğrudur\")\n",
    "    print(\"doğruluk oranı= %\"+ str((100*degisken)/toplamtahmin))\n",
    "else:\n",
    "    print(\"\\n\"+str(len(test))+\" adet veride tahminleme işlemi \"+yontem+\" yöntemi ile gerçekleştirilmiştir.\")\n"
   ]
  },
  {
   "cell_type": "code",
   "execution_count": null,
   "metadata": {},
   "outputs": [],
   "source": []
  }
 ],
 "metadata": {
  "kernelspec": {
   "display_name": "Python 3",
   "language": "python",
   "name": "python3"
  },
  "language_info": {
   "codemirror_mode": {
    "name": "ipython",
    "version": 3
   },
   "file_extension": ".py",
   "mimetype": "text/x-python",
   "name": "python",
   "nbconvert_exporter": "python",
   "pygments_lexer": "ipython3",
   "version": "3.7.2"
  }
 },
 "nbformat": 4,
 "nbformat_minor": 4
}
