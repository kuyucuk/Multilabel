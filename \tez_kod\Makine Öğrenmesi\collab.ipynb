{
  "nbformat": 4,
  "nbformat_minor": 5,
  "metadata": {
    "kernelspec": {
      "display_name": "Python 3 (ipykernel)",
      "language": "python",
      "name": "python3"
    },
    "language_info": {
      "codemirror_mode": {
        "name": "ipython",
        "version": 3
      },
      "file_extension": ".py",
      "mimetype": "text/x-python",
      "name": "python",
      "nbconvert_exporter": "python",
      "pygments_lexer": "ipython3",
      "version": "3.8.5"
    },
    "colab": {
      "name": "Untitled.ipynb",
      "provenance": [],
      "include_colab_link": true
    }
  },
  "cells": [
    {
      "cell_type": "markdown",
      "metadata": {
        "id": "view-in-github",
        "colab_type": "text"
      },
      "source": [
        "<a href=\"https://colab.research.google.com/github/totokuyu/Multilabel/blob/main/%5Ctez_kod%5CMakine%20%C3%96%C4%9Frenmesi%5Ccollab.ipynb\" target=\"_parent\"><img src=\"https://colab.research.google.com/assets/colab-badge.svg\" alt=\"Open In Colab\"/></a>"
      ]
    },
    {
      "cell_type": "code",
      "metadata": {
        "id": "1172af74"
      },
      "source": [
        "import numpy as np # linear algebra\n",
        "import pandas as pd # data processing, CSV file I/O (e.g. pd.read_csv)\n",
        "\n",
        "from sklearn.feature_extraction.text import HashingVectorizer\n",
        "from sklearn.feature_extraction.text import TfidfVectorizer\n",
        "from sklearn.feature_extraction.text import CountVectorizer\n",
        "from sklearn.linear_model import LogisticRegression\n",
        "from sklearn.multiclass import OneVsRestClassifier\n",
        "from sklearn.pipeline import Pipeline\n",
        "from sklearn.neighbors import KNeighborsClassifier\n",
        "from sklearn.model_selection import train_test_split \n",
        "from pandas.plotting import scatter_matrix\n",
        "from sklearn import svm\n",
        "import os\n",
        "import sys\n",
        "import io\n",
        "import datetime"
      ],
      "id": "1172af74",
      "execution_count": 2,
      "outputs": []
    },
    {
      "cell_type": "code",
      "metadata": {
        "colab": {
          "base_uri": "https://localhost:8080/"
        },
        "id": "ZHgHvYC4au45",
        "outputId": "5ba550a1-a8a4-4c02-da14-8a399e5c9401"
      },
      "source": [
        "import os\n",
        "dosyalar = os.listdir(\".\")\n",
        " \n",
        "liste= []\n",
        "for dosya in dosyalar:\n",
        "    liste.append(dosya)\n",
        "print(liste)"
      ],
      "id": "ZHgHvYC4au45",
      "execution_count": 12,
      "outputs": [
        {
          "output_type": "stream",
          "name": "stdout",
          "text": [
            "['.config', 'input', '.ipynb_checkpoints', 'sample_data']\n"
          ]
        }
      ]
    },
    {
      "cell_type": "code",
      "metadata": {
        "id": "514ab09f"
      },
      "source": [
        "datas = pd.read_excel('input/train.xls')"
      ],
      "id": "514ab09f",
      "execution_count": 13,
      "outputs": []
    },
    {
      "cell_type": "code",
      "metadata": {
        "colab": {
          "base_uri": "https://localhost:8080/"
        },
        "id": "02fe8e75",
        "outputId": "402581f2-9984-40ad-cc20-8efaa1b4316f"
      },
      "source": [
        "print(datas.info())"
      ],
      "id": "02fe8e75",
      "execution_count": 14,
      "outputs": [
        {
          "output_type": "stream",
          "name": "stdout",
          "text": [
            "<class 'pandas.core.frame.DataFrame'>\n",
            "RangeIndex: 1887 entries, 0 to 1886\n",
            "Data columns (total 10 columns):\n",
            " #   Column                                         Non-Null Count  Dtype \n",
            "---  ------                                         --------------  ----- \n",
            " 0   id                                             1887 non-null   int64 \n",
            " 1   icerik                                         1887 non-null   object\n",
            " 2   Gecikti veya Dağıtıma Çıkmadı                  1887 non-null   int64 \n",
            " 3   Evde yok notu düşüldü veya Kapıya Getirilmedi  1887 non-null   int64 \n",
            " 4   Telefonlara Cevap Verilmedi                    1887 non-null   int64 \n",
            " 5   İade Süreci                                    1887 non-null   int64 \n",
            " 6   Teslim Alınmadı veya Teslim Edilmedi           1887 non-null   int64 \n",
            " 7   Kötü Diyalog Veya Saygısız Tutum               1887 non-null   int64 \n",
            " 8   Hasarlı veya Kayıp Paket                       1887 non-null   int64 \n",
            " 9   Hijyen Kurallarına Uyulmadı                    1887 non-null   int64 \n",
            "dtypes: int64(9), object(1)\n",
            "memory usage: 147.5+ KB\n",
            "None\n"
          ]
        }
      ]
    },
    {
      "cell_type": "code",
      "metadata": {
        "colab": {
          "base_uri": "https://localhost:8080/"
        },
        "id": "2f58509a",
        "outputId": "f218f89c-dcac-4ce1-f807-7b410bd877fb"
      },
      "source": [
        "datas['icerik'][:5]"
      ],
      "id": "2f58509a",
      "execution_count": 15,
      "outputs": [
        {
          "output_type": "execute_result",
          "data": {
            "text/plain": [
              "0    Sürat Kargo Gülnur Korkmaz İşitme Engelliyim--...\n",
              "1    MNG Kargo Teslimat Yapmamak İçin Ellerinden Ge...\n",
              "2    PTT Kargo Covid Önlemleri Alınmıyor--> PTT Kar...\n",
              "3    PTT Kargo Ürünü Adrese Getirmeme, Müşteri Hizm...\n",
              "4    Aras Kargo Kargom Yola Çıkmıyor--> Şubeye gitt...\n",
              "Name: icerik, dtype: object"
            ]
          },
          "metadata": {},
          "execution_count": 15
        }
      ]
    },
    {
      "cell_type": "code",
      "metadata": {
        "id": "9fc29495"
      },
      "source": [
        "X_train, X_test, y_train, y_test = train_test_split(datas.loc[:,'icerik'],datas.drop(['id','icerik'],axis=1), random_state=0)"
      ],
      "id": "9fc29495",
      "execution_count": 16,
      "outputs": []
    },
    {
      "cell_type": "code",
      "metadata": {
        "colab": {
          "base_uri": "https://localhost:8080/"
        },
        "id": "6cb4cc81",
        "outputId": "02e8f903-5b00-41de-e696-beb0ec19de28"
      },
      "source": [
        "X_train.shape"
      ],
      "id": "6cb4cc81",
      "execution_count": 17,
      "outputs": [
        {
          "output_type": "execute_result",
          "data": {
            "text/plain": [
              "(1415,)"
            ]
          },
          "metadata": {},
          "execution_count": 17
        }
      ]
    },
    {
      "cell_type": "code",
      "metadata": {
        "colab": {
          "base_uri": "https://localhost:8080/"
        },
        "id": "f415ffdd",
        "outputId": "b2691dd6-afd2-4f41-c395-57b710d56d73"
      },
      "source": [
        "y_train.shape"
      ],
      "id": "f415ffdd",
      "execution_count": 18,
      "outputs": [
        {
          "output_type": "execute_result",
          "data": {
            "text/plain": [
              "(1415, 8)"
            ]
          },
          "metadata": {},
          "execution_count": 18
        }
      ]
    },
    {
      "cell_type": "code",
      "metadata": {
        "colab": {
          "base_uri": "https://localhost:8080/"
        },
        "id": "b1f27c5d",
        "outputId": "8ba56656-5a4a-48ff-df88-580c30c2ab74"
      },
      "source": [
        "X_test.shape"
      ],
      "id": "b1f27c5d",
      "execution_count": 19,
      "outputs": [
        {
          "output_type": "execute_result",
          "data": {
            "text/plain": [
              "(472,)"
            ]
          },
          "metadata": {},
          "execution_count": 19
        }
      ]
    },
    {
      "cell_type": "code",
      "metadata": {
        "colab": {
          "base_uri": "https://localhost:8080/"
        },
        "id": "f06aa953",
        "outputId": "e9580c81-7661-4935-9938-25559594db91"
      },
      "source": [
        "y_test.shape"
      ],
      "id": "f06aa953",
      "execution_count": 20,
      "outputs": [
        {
          "output_type": "execute_result",
          "data": {
            "text/plain": [
              "(472, 8)"
            ]
          },
          "metadata": {},
          "execution_count": 20
        }
      ]
    },
    {
      "cell_type": "code",
      "metadata": {
        "id": "8f478b01"
      },
      "source": [
        "z=[0,1,2,3,4,5,6,7]\n",
        "z[0]=datas.loc[:,'Gecikti veya Dağıtıma Çıkmadı']\n",
        "z[1]=datas.loc[:,'Evde yok notu düşüldü veya Kapıya Getirilmedi']\n",
        "z[2]=datas.loc[:,'Telefonlara Cevap Verilmedi']\n",
        "z[3]=datas.loc[:,'İade Süreci']\n",
        "z[4]=datas.loc[:,'Teslim Alınmadı veya Teslim Edilmedi']\n",
        "z[5]=datas.loc[:,'Kötü Diyalog Veya Saygısız Tutum']\n",
        "z[6]=datas.loc[:,'Hasarlı veya Kayıp Paket']\n",
        "z[7]=datas.loc[:,'Hijyen Kurallarına Uyulmadı']"
      ],
      "id": "8f478b01",
      "execution_count": 21,
      "outputs": []
    },
    {
      "cell_type": "code",
      "metadata": {
        "colab": {
          "base_uri": "https://localhost:8080/"
        },
        "id": "bafb187f",
        "outputId": "364af8e7-fe04-41e2-ca9c-1bc53985120a"
      },
      "source": [
        "numberofcomplaints=len(datas)\n",
        "numberofcomplaints"
      ],
      "id": "bafb187f",
      "execution_count": 22,
      "outputs": [
        {
          "output_type": "execute_result",
          "data": {
            "text/plain": [
              "1887"
            ]
          },
          "metadata": {},
          "execution_count": 22
        }
      ]
    },
    {
      "cell_type": "code",
      "metadata": {
        "id": "43a748b8"
      },
      "source": [
        "method=CountVectorizer"
      ],
      "id": "43a748b8",
      "execution_count": 24,
      "outputs": []
    },
    {
      "cell_type": "code",
      "metadata": {
        "colab": {
          "base_uri": "https://localhost:8080/"
        },
        "id": "417d0c01",
        "outputId": "5e9f3277-8f9c-4d3a-819f-21038502c0e4"
      },
      "source": [
        "tks = '[A-Za-z0-9]+(?=\\\\s+)'\n",
        "\n",
        "\n",
        "pl = Pipeline([\n",
        "        ('vec', method(token_pattern = tks)),\n",
        "        ('clf', OneVsRestClassifier(LogisticRegression()))\n",
        "    ])\n",
        "\n",
        "pl.fit(X_train,y_train)"
      ],
      "id": "417d0c01",
      "execution_count": 25,
      "outputs": [
        {
          "output_type": "stream",
          "name": "stderr",
          "text": [
            "/usr/local/lib/python3.7/dist-packages/sklearn/linear_model/_logistic.py:818: ConvergenceWarning: lbfgs failed to converge (status=1):\n",
            "STOP: TOTAL NO. of ITERATIONS REACHED LIMIT.\n",
            "\n",
            "Increase the number of iterations (max_iter) or scale the data as shown in:\n",
            "    https://scikit-learn.org/stable/modules/preprocessing.html\n",
            "Please also refer to the documentation for alternative solver options:\n",
            "    https://scikit-learn.org/stable/modules/linear_model.html#logistic-regression\n",
            "  extra_warning_msg=_LOGISTIC_SOLVER_CONVERGENCE_MSG,\n",
            "/usr/local/lib/python3.7/dist-packages/sklearn/linear_model/_logistic.py:818: ConvergenceWarning: lbfgs failed to converge (status=1):\n",
            "STOP: TOTAL NO. of ITERATIONS REACHED LIMIT.\n",
            "\n",
            "Increase the number of iterations (max_iter) or scale the data as shown in:\n",
            "    https://scikit-learn.org/stable/modules/preprocessing.html\n",
            "Please also refer to the documentation for alternative solver options:\n",
            "    https://scikit-learn.org/stable/modules/linear_model.html#logistic-regression\n",
            "  extra_warning_msg=_LOGISTIC_SOLVER_CONVERGENCE_MSG,\n",
            "/usr/local/lib/python3.7/dist-packages/sklearn/linear_model/_logistic.py:818: ConvergenceWarning: lbfgs failed to converge (status=1):\n",
            "STOP: TOTAL NO. of ITERATIONS REACHED LIMIT.\n",
            "\n",
            "Increase the number of iterations (max_iter) or scale the data as shown in:\n",
            "    https://scikit-learn.org/stable/modules/preprocessing.html\n",
            "Please also refer to the documentation for alternative solver options:\n",
            "    https://scikit-learn.org/stable/modules/linear_model.html#logistic-regression\n",
            "  extra_warning_msg=_LOGISTIC_SOLVER_CONVERGENCE_MSG,\n",
            "/usr/local/lib/python3.7/dist-packages/sklearn/linear_model/_logistic.py:818: ConvergenceWarning: lbfgs failed to converge (status=1):\n",
            "STOP: TOTAL NO. of ITERATIONS REACHED LIMIT.\n",
            "\n",
            "Increase the number of iterations (max_iter) or scale the data as shown in:\n",
            "    https://scikit-learn.org/stable/modules/preprocessing.html\n",
            "Please also refer to the documentation for alternative solver options:\n",
            "    https://scikit-learn.org/stable/modules/linear_model.html#logistic-regression\n",
            "  extra_warning_msg=_LOGISTIC_SOLVER_CONVERGENCE_MSG,\n",
            "/usr/local/lib/python3.7/dist-packages/sklearn/linear_model/_logistic.py:818: ConvergenceWarning: lbfgs failed to converge (status=1):\n",
            "STOP: TOTAL NO. of ITERATIONS REACHED LIMIT.\n",
            "\n",
            "Increase the number of iterations (max_iter) or scale the data as shown in:\n",
            "    https://scikit-learn.org/stable/modules/preprocessing.html\n",
            "Please also refer to the documentation for alternative solver options:\n",
            "    https://scikit-learn.org/stable/modules/linear_model.html#logistic-regression\n",
            "  extra_warning_msg=_LOGISTIC_SOLVER_CONVERGENCE_MSG,\n",
            "/usr/local/lib/python3.7/dist-packages/sklearn/linear_model/_logistic.py:818: ConvergenceWarning: lbfgs failed to converge (status=1):\n",
            "STOP: TOTAL NO. of ITERATIONS REACHED LIMIT.\n",
            "\n",
            "Increase the number of iterations (max_iter) or scale the data as shown in:\n",
            "    https://scikit-learn.org/stable/modules/preprocessing.html\n",
            "Please also refer to the documentation for alternative solver options:\n",
            "    https://scikit-learn.org/stable/modules/linear_model.html#logistic-regression\n",
            "  extra_warning_msg=_LOGISTIC_SOLVER_CONVERGENCE_MSG,\n"
          ]
        },
        {
          "output_type": "execute_result",
          "data": {
            "text/plain": [
              "Pipeline(steps=[('vec', CountVectorizer(token_pattern='[A-Za-z0-9]+(?=\\\\s+)')),\n",
              "                ('clf', OneVsRestClassifier(estimator=LogisticRegression()))])"
            ]
          },
          "metadata": {},
          "execution_count": 25
        }
      ]
    },
    {
      "cell_type": "code",
      "metadata": {
        "id": "02f7d464"
      },
      "source": [
        "test = datas.fillna(\"\")\n",
        "predictions = pl.predict_proba(test.icerik) # \"icerik\" means \"content\""
      ],
      "id": "02f7d464",
      "execution_count": 26,
      "outputs": []
    },
    {
      "cell_type": "code",
      "metadata": {
        "id": "9a5fe672"
      },
      "source": [
        "total=[0,0,0,0,0,0,0,0]\n",
        "average=[0,0,0,0,0,0,0,0]\n",
        "for column in range (0,len(z)):\n",
        "    for i in range (0,len(predictions)):\n",
        "        total[column]=total[column]+predictions[i][column]\n",
        "    average[column]=total[column]/len(predictions)"
      ],
      "id": "9a5fe672",
      "execution_count": 27,
      "outputs": []
    },
    {
      "cell_type": "code",
      "metadata": {
        "id": "e4c619b3"
      },
      "source": [
        "for i in range (0 , len(predictions)):\n",
        "    for j in range (0,len(z)):\n",
        "        if predictions[i][j] < average[j]:\n",
        "            predictions[i][j] = 0\n",
        "        else:\n",
        "            predictions[i][j] = 1"
      ],
      "id": "e4c619b3",
      "execution_count": 28,
      "outputs": []
    },
    {
      "cell_type": "code",
      "metadata": {
        "id": "fab39b6f"
      },
      "source": [
        "# Format predictions in DataFrame: prediction_df\n",
        "prediction_df = pd.DataFrame(columns=y_test.columns, index=test.id, data=predictions)\n",
        "\n",
        "prediction_df.to_excel('predictions.xls')"
      ],
      "id": "fab39b6f",
      "execution_count": 29,
      "outputs": []
    },
    {
      "cell_type": "code",
      "metadata": {
        "colab": {
          "base_uri": "https://localhost:8080/"
        },
        "id": "457b50bb",
        "outputId": "ed63b0ed-f841-4f99-f2bb-e8ed2b65820b"
      },
      "source": [
        "predictions.shape"
      ],
      "id": "457b50bb",
      "execution_count": 30,
      "outputs": [
        {
          "output_type": "execute_result",
          "data": {
            "text/plain": [
              "(1887, 8)"
            ]
          },
          "metadata": {},
          "execution_count": 30
        }
      ]
    },
    {
      "cell_type": "code",
      "metadata": {
        "id": "d9b4089b"
      },
      "source": [
        "temp=X_train\n",
        "X_train=y_train\n",
        "y_train=temp\n",
        "temp=X_test\n",
        "X_test=y_test\n",
        "y_test=temp"
      ],
      "id": "d9b4089b",
      "execution_count": 33,
      "outputs": []
    },
    {
      "cell_type": "code",
      "metadata": {
        "colab": {
          "base_uri": "https://localhost:8080/",
          "height": 493
        },
        "id": "6f19856a",
        "outputId": "d8c6f00a-0e5c-4b65-c418-f69231b3d165"
      },
      "source": [
        "X_train"
      ],
      "id": "6f19856a",
      "execution_count": 34,
      "outputs": [
        {
          "output_type": "execute_result",
          "data": {
            "text/html": [
              "<div>\n",
              "<style scoped>\n",
              "    .dataframe tbody tr th:only-of-type {\n",
              "        vertical-align: middle;\n",
              "    }\n",
              "\n",
              "    .dataframe tbody tr th {\n",
              "        vertical-align: top;\n",
              "    }\n",
              "\n",
              "    .dataframe thead th {\n",
              "        text-align: right;\n",
              "    }\n",
              "</style>\n",
              "<table border=\"1\" class=\"dataframe\">\n",
              "  <thead>\n",
              "    <tr style=\"text-align: right;\">\n",
              "      <th></th>\n",
              "      <th>Gecikti veya Dağıtıma Çıkmadı</th>\n",
              "      <th>Evde yok notu düşüldü veya Kapıya Getirilmedi</th>\n",
              "      <th>Telefonlara Cevap Verilmedi</th>\n",
              "      <th>İade Süreci</th>\n",
              "      <th>Teslim Alınmadı veya Teslim Edilmedi</th>\n",
              "      <th>Kötü Diyalog Veya Saygısız Tutum</th>\n",
              "      <th>Hasarlı veya Kayıp Paket</th>\n",
              "      <th>Hijyen Kurallarına Uyulmadı</th>\n",
              "    </tr>\n",
              "  </thead>\n",
              "  <tbody>\n",
              "    <tr>\n",
              "      <th>1728</th>\n",
              "      <td>0</td>\n",
              "      <td>0</td>\n",
              "      <td>1</td>\n",
              "      <td>0</td>\n",
              "      <td>1</td>\n",
              "      <td>0</td>\n",
              "      <td>0</td>\n",
              "      <td>0</td>\n",
              "    </tr>\n",
              "    <tr>\n",
              "      <th>987</th>\n",
              "      <td>0</td>\n",
              "      <td>0</td>\n",
              "      <td>0</td>\n",
              "      <td>0</td>\n",
              "      <td>0</td>\n",
              "      <td>1</td>\n",
              "      <td>1</td>\n",
              "      <td>0</td>\n",
              "    </tr>\n",
              "    <tr>\n",
              "      <th>133</th>\n",
              "      <td>0</td>\n",
              "      <td>0</td>\n",
              "      <td>0</td>\n",
              "      <td>0</td>\n",
              "      <td>0</td>\n",
              "      <td>1</td>\n",
              "      <td>0</td>\n",
              "      <td>0</td>\n",
              "    </tr>\n",
              "    <tr>\n",
              "      <th>202</th>\n",
              "      <td>0</td>\n",
              "      <td>0</td>\n",
              "      <td>0</td>\n",
              "      <td>0</td>\n",
              "      <td>1</td>\n",
              "      <td>1</td>\n",
              "      <td>0</td>\n",
              "      <td>0</td>\n",
              "    </tr>\n",
              "    <tr>\n",
              "      <th>1186</th>\n",
              "      <td>1</td>\n",
              "      <td>1</td>\n",
              "      <td>1</td>\n",
              "      <td>0</td>\n",
              "      <td>0</td>\n",
              "      <td>1</td>\n",
              "      <td>0</td>\n",
              "      <td>0</td>\n",
              "    </tr>\n",
              "    <tr>\n",
              "      <th>...</th>\n",
              "      <td>...</td>\n",
              "      <td>...</td>\n",
              "      <td>...</td>\n",
              "      <td>...</td>\n",
              "      <td>...</td>\n",
              "      <td>...</td>\n",
              "      <td>...</td>\n",
              "      <td>...</td>\n",
              "    </tr>\n",
              "    <tr>\n",
              "      <th>835</th>\n",
              "      <td>0</td>\n",
              "      <td>1</td>\n",
              "      <td>0</td>\n",
              "      <td>0</td>\n",
              "      <td>0</td>\n",
              "      <td>1</td>\n",
              "      <td>0</td>\n",
              "      <td>0</td>\n",
              "    </tr>\n",
              "    <tr>\n",
              "      <th>1216</th>\n",
              "      <td>1</td>\n",
              "      <td>0</td>\n",
              "      <td>0</td>\n",
              "      <td>0</td>\n",
              "      <td>1</td>\n",
              "      <td>0</td>\n",
              "      <td>1</td>\n",
              "      <td>0</td>\n",
              "    </tr>\n",
              "    <tr>\n",
              "      <th>1653</th>\n",
              "      <td>0</td>\n",
              "      <td>0</td>\n",
              "      <td>1</td>\n",
              "      <td>0</td>\n",
              "      <td>1</td>\n",
              "      <td>0</td>\n",
              "      <td>1</td>\n",
              "      <td>0</td>\n",
              "    </tr>\n",
              "    <tr>\n",
              "      <th>559</th>\n",
              "      <td>1</td>\n",
              "      <td>0</td>\n",
              "      <td>0</td>\n",
              "      <td>0</td>\n",
              "      <td>0</td>\n",
              "      <td>0</td>\n",
              "      <td>0</td>\n",
              "      <td>0</td>\n",
              "    </tr>\n",
              "    <tr>\n",
              "      <th>684</th>\n",
              "      <td>0</td>\n",
              "      <td>0</td>\n",
              "      <td>0</td>\n",
              "      <td>0</td>\n",
              "      <td>1</td>\n",
              "      <td>0</td>\n",
              "      <td>0</td>\n",
              "      <td>0</td>\n",
              "    </tr>\n",
              "  </tbody>\n",
              "</table>\n",
              "<p>1415 rows × 8 columns</p>\n",
              "</div>"
            ],
            "text/plain": [
              "      Gecikti veya Dağıtıma Çıkmadı  ...  Hijyen Kurallarına Uyulmadı\n",
              "1728                              0  ...                            0\n",
              "987                               0  ...                            0\n",
              "133                               0  ...                            0\n",
              "202                               0  ...                            0\n",
              "1186                              1  ...                            0\n",
              "...                             ...  ...                          ...\n",
              "835                               0  ...                            0\n",
              "1216                              1  ...                            0\n",
              "1653                              0  ...                            0\n",
              "559                               1  ...                            0\n",
              "684                               0  ...                            0\n",
              "\n",
              "[1415 rows x 8 columns]"
            ]
          },
          "metadata": {},
          "execution_count": 34
        }
      ]
    },
    {
      "cell_type": "code",
      "metadata": {
        "colab": {
          "base_uri": "https://localhost:8080/",
          "height": 493
        },
        "id": "080737eb",
        "outputId": "5c20406a-191a-4093-d5ec-3f56ed1e5a82"
      },
      "source": [
        "X_test"
      ],
      "id": "080737eb",
      "execution_count": 35,
      "outputs": [
        {
          "output_type": "execute_result",
          "data": {
            "text/html": [
              "<div>\n",
              "<style scoped>\n",
              "    .dataframe tbody tr th:only-of-type {\n",
              "        vertical-align: middle;\n",
              "    }\n",
              "\n",
              "    .dataframe tbody tr th {\n",
              "        vertical-align: top;\n",
              "    }\n",
              "\n",
              "    .dataframe thead th {\n",
              "        text-align: right;\n",
              "    }\n",
              "</style>\n",
              "<table border=\"1\" class=\"dataframe\">\n",
              "  <thead>\n",
              "    <tr style=\"text-align: right;\">\n",
              "      <th></th>\n",
              "      <th>Gecikti veya Dağıtıma Çıkmadı</th>\n",
              "      <th>Evde yok notu düşüldü veya Kapıya Getirilmedi</th>\n",
              "      <th>Telefonlara Cevap Verilmedi</th>\n",
              "      <th>İade Süreci</th>\n",
              "      <th>Teslim Alınmadı veya Teslim Edilmedi</th>\n",
              "      <th>Kötü Diyalog Veya Saygısız Tutum</th>\n",
              "      <th>Hasarlı veya Kayıp Paket</th>\n",
              "      <th>Hijyen Kurallarına Uyulmadı</th>\n",
              "    </tr>\n",
              "  </thead>\n",
              "  <tbody>\n",
              "    <tr>\n",
              "      <th>579</th>\n",
              "      <td>1</td>\n",
              "      <td>0</td>\n",
              "      <td>1</td>\n",
              "      <td>0</td>\n",
              "      <td>1</td>\n",
              "      <td>0</td>\n",
              "      <td>0</td>\n",
              "      <td>0</td>\n",
              "    </tr>\n",
              "    <tr>\n",
              "      <th>1183</th>\n",
              "      <td>0</td>\n",
              "      <td>0</td>\n",
              "      <td>0</td>\n",
              "      <td>1</td>\n",
              "      <td>1</td>\n",
              "      <td>0</td>\n",
              "      <td>0</td>\n",
              "      <td>0</td>\n",
              "    </tr>\n",
              "    <tr>\n",
              "      <th>1010</th>\n",
              "      <td>1</td>\n",
              "      <td>1</td>\n",
              "      <td>0</td>\n",
              "      <td>0</td>\n",
              "      <td>1</td>\n",
              "      <td>0</td>\n",
              "      <td>0</td>\n",
              "      <td>0</td>\n",
              "    </tr>\n",
              "    <tr>\n",
              "      <th>1330</th>\n",
              "      <td>1</td>\n",
              "      <td>0</td>\n",
              "      <td>0</td>\n",
              "      <td>0</td>\n",
              "      <td>1</td>\n",
              "      <td>0</td>\n",
              "      <td>0</td>\n",
              "      <td>0</td>\n",
              "    </tr>\n",
              "    <tr>\n",
              "      <th>77</th>\n",
              "      <td>0</td>\n",
              "      <td>0</td>\n",
              "      <td>0</td>\n",
              "      <td>0</td>\n",
              "      <td>1</td>\n",
              "      <td>0</td>\n",
              "      <td>0</td>\n",
              "      <td>0</td>\n",
              "    </tr>\n",
              "    <tr>\n",
              "      <th>...</th>\n",
              "      <td>...</td>\n",
              "      <td>...</td>\n",
              "      <td>...</td>\n",
              "      <td>...</td>\n",
              "      <td>...</td>\n",
              "      <td>...</td>\n",
              "      <td>...</td>\n",
              "      <td>...</td>\n",
              "    </tr>\n",
              "    <tr>\n",
              "      <th>1546</th>\n",
              "      <td>1</td>\n",
              "      <td>0</td>\n",
              "      <td>1</td>\n",
              "      <td>0</td>\n",
              "      <td>0</td>\n",
              "      <td>0</td>\n",
              "      <td>0</td>\n",
              "      <td>0</td>\n",
              "    </tr>\n",
              "    <tr>\n",
              "      <th>936</th>\n",
              "      <td>0</td>\n",
              "      <td>0</td>\n",
              "      <td>0</td>\n",
              "      <td>0</td>\n",
              "      <td>0</td>\n",
              "      <td>1</td>\n",
              "      <td>1</td>\n",
              "      <td>0</td>\n",
              "    </tr>\n",
              "    <tr>\n",
              "      <th>632</th>\n",
              "      <td>1</td>\n",
              "      <td>0</td>\n",
              "      <td>1</td>\n",
              "      <td>0</td>\n",
              "      <td>1</td>\n",
              "      <td>0</td>\n",
              "      <td>0</td>\n",
              "      <td>0</td>\n",
              "    </tr>\n",
              "    <tr>\n",
              "      <th>1730</th>\n",
              "      <td>1</td>\n",
              "      <td>0</td>\n",
              "      <td>0</td>\n",
              "      <td>0</td>\n",
              "      <td>0</td>\n",
              "      <td>0</td>\n",
              "      <td>0</td>\n",
              "      <td>0</td>\n",
              "    </tr>\n",
              "    <tr>\n",
              "      <th>597</th>\n",
              "      <td>1</td>\n",
              "      <td>0</td>\n",
              "      <td>0</td>\n",
              "      <td>0</td>\n",
              "      <td>0</td>\n",
              "      <td>1</td>\n",
              "      <td>0</td>\n",
              "      <td>0</td>\n",
              "    </tr>\n",
              "  </tbody>\n",
              "</table>\n",
              "<p>472 rows × 8 columns</p>\n",
              "</div>"
            ],
            "text/plain": [
              "      Gecikti veya Dağıtıma Çıkmadı  ...  Hijyen Kurallarına Uyulmadı\n",
              "579                               1  ...                            0\n",
              "1183                              0  ...                            0\n",
              "1010                              1  ...                            0\n",
              "1330                              1  ...                            0\n",
              "77                                0  ...                            0\n",
              "...                             ...  ...                          ...\n",
              "1546                              1  ...                            0\n",
              "936                               0  ...                            0\n",
              "632                               1  ...                            0\n",
              "1730                              1  ...                            0\n",
              "597                               1  ...                            0\n",
              "\n",
              "[472 rows x 8 columns]"
            ]
          },
          "metadata": {},
          "execution_count": 35
        }
      ]
    },
    {
      "cell_type": "code",
      "metadata": {
        "colab": {
          "base_uri": "https://localhost:8080/"
        },
        "id": "b5b02603",
        "outputId": "057ce5b9-54ed-403d-e74c-3f2aa44de5b4"
      },
      "source": [
        "y_train"
      ],
      "id": "b5b02603",
      "execution_count": 36,
      "outputs": [
        {
          "output_type": "execute_result",
          "data": {
            "text/plain": [
              "1728    Aras Kargo Ürünüm Alıcıya Ulaştırılmadı, Geri ...\n",
              "987     Yurtiçi Kargo Kaybettikleri Kargoyu Israrımızl...\n",
              "133     PTT Kargo Ağrı Hamur Şubesi Çalışanı--> Geçici...\n",
              "202     MNG Kargo Ürünümü Teslim Etmiyor--> MNG Kargo ...\n",
              "1186    Çeliktepe Sürat Kargo'da Sorun Var--> Öncelikl...\n",
              "                              ...                        \n",
              "835     Sürat Kargo Kargomu Kapıya Getirmedi Hafif Ola...\n",
              "1216    Sürat Kargo Teslim Edilmeyen Kargolar--> Trend...\n",
              "1653    Sürat Kargo İzmir Aktarma Merkezinden Yola Çık...\n",
              "559     Aras Kargo Kargom 1 Haftadır Gelmiyor--> 1 haf...\n",
              "684     PTT Kargo Sağlık Çalışanı Olduğum İçin Adrese ...\n",
              "Name: icerik, Length: 1415, dtype: object"
            ]
          },
          "metadata": {},
          "execution_count": 36
        }
      ]
    },
    {
      "cell_type": "code",
      "metadata": {
        "colab": {
          "base_uri": "https://localhost:8080/"
        },
        "id": "1e6e1593",
        "outputId": "448328b9-0aae-4249-a664-034a440bb14f"
      },
      "source": [
        "y_test"
      ],
      "id": "1e6e1593",
      "execution_count": 37,
      "outputs": [
        {
          "output_type": "execute_result",
          "data": {
            "text/plain": [
              "579     Sürat Kargo İşini Yapmıyor. Telefonları Açmıyo...\n",
              "1183    Sürat Kargo Yapılmayan Teslimat Sıkıntısı--> M...\n",
              "1010    PTT Kargo Dağıtılmadan Adreste Yok Bilgisi Gir...\n",
              "1330    Sürat Kargomun Gecikmesi--> İnternetten aldığı...\n",
              "77      PTT Kargo Paketi Eve Teslim Etmeme Telefonları...\n",
              "                              ...                        \n",
              "1546    Sürat Kargo Kargonun Takip Numarası Gönderilme...\n",
              "936     Aras Kargo Kayıp Kargom--> 10.07.2020 tarihind...\n",
              "632     MNG Kargo Adres Yetersiz Gerekçesiyle Mağdur E...\n",
              "1730    MNG Kargo Teslim Edilemeyen Ürün Sorunu--> Ald...\n",
              "597     MNG Kargo Kargoyu Dağıtıma Çıkarmama!--> 17 Ağ...\n",
              "Name: icerik, Length: 472, dtype: object"
            ]
          },
          "metadata": {},
          "execution_count": 37
        }
      ]
    },
    {
      "cell_type": "code",
      "metadata": {
        "scrolled": false,
        "id": "d39e7e3d"
      },
      "source": [
        "clf = svm.SVC(kernel='linear', C=1).fit(X_train, y_train)"
      ],
      "id": "d39e7e3d",
      "execution_count": 38,
      "outputs": []
    },
    {
      "cell_type": "code",
      "metadata": {
        "colab": {
          "base_uri": "https://localhost:8080/"
        },
        "id": "75531866",
        "outputId": "9df48f19-fcf3-4905-e813-e14b0a352598"
      },
      "source": [
        "clf.score(X_train, y_train)"
      ],
      "id": "75531866",
      "execution_count": 39,
      "outputs": [
        {
          "output_type": "execute_result",
          "data": {
            "text/plain": [
              "0.08551236749116607"
            ]
          },
          "metadata": {},
          "execution_count": 39
        }
      ]
    },
    {
      "cell_type": "code",
      "metadata": {
        "colab": {
          "base_uri": "https://localhost:8080/"
        },
        "id": "ad415d24",
        "outputId": "9c38155e-d851-4666-ebe2-ad7c698bf912"
      },
      "source": [
        "clf.score(X_test, y_test)"
      ],
      "id": "ad415d24",
      "execution_count": 40,
      "outputs": [
        {
          "output_type": "execute_result",
          "data": {
            "text/plain": [
              "0.0"
            ]
          },
          "metadata": {},
          "execution_count": 40
        }
      ]
    }
  ]
}