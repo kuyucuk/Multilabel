{
 "cells": [
  {
   "cell_type": "code",
   "execution_count": 2,
   "id": "1172af74",
   "metadata": {},
   "outputs": [],
   "source": [
    "import os\n",
    "import sys\n",
    "import io\n",
    "import datetime"
   ]
  },
  {
   "cell_type": "code",
   "execution_count": 8,
   "id": "f99c03b6",
   "metadata": {},
   "outputs": [
    {
     "name": "stdout",
     "output_type": "stream",
     "text": [
      "[main 9857ea8] update 02-12-2021 16:52\n",
      " 1 file changed, 1 insertion(+), 1 deletion(-)\n",
      "02-12-2021\n",
      "git pushing completed 02-12-2021 16:52\n",
      "0\n"
     ]
    },
    {
     "name": "stderr",
     "output_type": "stream",
     "text": [
      "To https://github.com/totokuyu/Multilabel.git\n",
      "   e308ef3..9857ea8  main -> main\n"
     ]
    }
   ],
   "source": [
    "print(os.system(\"python gitpush.py\"))"
   ]
  },
  {
   "cell_type": "code",
   "execution_count": 19,
   "id": "0837c6d8",
   "metadata": {},
   "outputs": [
    {
     "name": "stdout",
     "output_type": "stream",
     "text": [
      "0\n"
     ]
    }
   ],
   "source": [
    "print(os.system(\"python gitpull.py\"))"
   ]
  },
  {
   "cell_type": "code",
   "execution_count": null,
   "id": "18dff36e",
   "metadata": {},
   "outputs": [],
   "source": []
  }
 ],
 "metadata": {
  "kernelspec": {
   "display_name": "Python 3 (ipykernel)",
   "language": "python",
   "name": "python3"
  },
  "language_info": {
   "codemirror_mode": {
    "name": "ipython",
    "version": 3
   },
   "file_extension": ".py",
   "mimetype": "text/x-python",
   "name": "python",
   "nbconvert_exporter": "python",
   "pygments_lexer": "ipython3",
   "version": "3.8.10"
  }
 },
 "nbformat": 4,
 "nbformat_minor": 5
}
