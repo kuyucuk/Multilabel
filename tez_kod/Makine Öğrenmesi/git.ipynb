{
 "cells": [
  {
   "cell_type": "code",
   "execution_count": 1,
   "id": "1172af74",
   "metadata": {},
   "outputs": [],
   "source": [
    "import os\n",
    "import sys\n",
    "import io\n",
    "import datetime"
   ]
  },
  {
   "cell_type": "code",
   "execution_count": 2,
   "id": "f99c03b6",
   "metadata": {},
   "outputs": [
    {
     "name": "stdout",
     "output_type": "stream",
     "text": [
      "[main 1dadb47] update 17-01-2022 16:34\n",
      " 1 file changed, 18 insertions(+), 7 deletions(-)\n",
      "17-01-2022\n",
      "git pushing completed 17-01-2022 16:34\n",
      "0\n"
     ]
    },
    {
     "name": "stderr",
     "output_type": "stream",
     "text": [
      "To https://github.com/totokuyu/Multilabel.git\n",
      "   11791ea..1dadb47  main -> main\n"
     ]
    }
   ],
   "source": [
    "print(os.system(\"python gitpush.py\"))"
   ]
  },
  {
   "cell_type": "code",
   "execution_count": 3,
   "id": "0837c6d8",
   "metadata": {},
   "outputs": [
    {
     "name": "stdout",
     "output_type": "stream",
     "text": [
      "No local changes to save\n",
      "Already up to date.\n",
      "git pull completed\n",
      "0\n"
     ]
    }
   ],
   "source": [
    "print(os.system(\"python gitpull.py\"))"
   ]
  },
  {
   "cell_type": "code",
   "execution_count": null,
   "id": "b5a8e5c2",
   "metadata": {},
   "outputs": [],
   "source": []
  }
 ],
 "metadata": {
  "kernelspec": {
   "display_name": "Python 3 (ipykernel)",
   "language": "python",
   "name": "python3"
  },
  "language_info": {
   "codemirror_mode": {
    "name": "ipython",
    "version": 3
   },
   "file_extension": ".py",
   "mimetype": "text/x-python",
   "name": "python",
   "nbconvert_exporter": "python",
   "pygments_lexer": "ipython3",
   "version": "3.8.10"
  }
 },
 "nbformat": 4,
 "nbformat_minor": 5
}
