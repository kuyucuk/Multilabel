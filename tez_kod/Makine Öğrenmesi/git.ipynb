{
 "cells": [
  {
   "cell_type": "code",
   "execution_count": 2,
   "id": "1172af74",
   "metadata": {},
   "outputs": [],
   "source": [
    "import os\n",
    "import sys\n",
    "import io\n",
    "import datetime"
   ]
  },
  {
   "cell_type": "code",
   "execution_count": 4,
   "id": "f99c03b6",
   "metadata": {},
   "outputs": [
    {
     "name": "stdout",
     "output_type": "stream",
     "text": [
      "[main fd935e1] update 06-12-2021 17:02\n",
      " 10 files changed, 1006 insertions(+), 54 deletions(-)\n",
      " create mode 100644 \"tez_kod/Makine \\303\\226\\304\\237renmesi/predictions_test_NEW.xls\"\n",
      " create mode 100644 \"tez_kod/Makine \\303\\226\\304\\237renmesi/predictions_train_NEW.xls\"\n",
      " rewrite \"tez_kod/Makine \\303\\226\\304\\237renmesi/predictionstest.xls\" (96%)\n",
      " rewrite \"tez_kod/Makine \\303\\226\\304\\237renmesi/predictionstrain.xls\" (91%)\n",
      "06-12-2021\n",
      "git pushing completed 06-12-2021 17:02\n",
      "0\n"
     ]
    },
    {
     "name": "stderr",
     "output_type": "stream",
     "text": [
      "To https://github.com/totokuyu/Multilabel.git\n",
      "   03f0151..fd935e1  main -> main\n"
     ]
    }
   ],
   "source": [
    "print(os.system(\"python gitpush.py\"))"
   ]
  },
  {
   "cell_type": "code",
   "execution_count": 7,
   "id": "0837c6d8",
   "metadata": {},
   "outputs": [
    {
     "name": "stdout",
     "output_type": "stream",
     "text": [
      "0\n"
     ]
    }
   ],
   "source": [
    "print(os.system(\"python gitpull.py\"))"
   ]
  },
  {
   "cell_type": "code",
   "execution_count": null,
   "id": "18dff36e",
   "metadata": {},
   "outputs": [],
   "source": []
  }
 ],
 "metadata": {
  "kernelspec": {
   "display_name": "Python 3 (ipykernel)",
   "language": "python",
   "name": "python3"
  },
  "language_info": {
   "codemirror_mode": {
    "name": "ipython",
    "version": 3
   },
   "file_extension": ".py",
   "mimetype": "text/x-python",
   "name": "python",
   "nbconvert_exporter": "python",
   "pygments_lexer": "ipython3",
   "version": "3.8.10"
  }
 },
 "nbformat": 4,
 "nbformat_minor": 5
}
