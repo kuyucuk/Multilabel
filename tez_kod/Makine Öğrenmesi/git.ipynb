{
 "cells": [
  {
   "cell_type": "code",
   "execution_count": 1,
   "id": "1172af74",
   "metadata": {},
   "outputs": [],
   "source": [
    "import os\n",
    "import sys\n",
    "import io\n",
    "import datetime"
   ]
  },
  {
   "cell_type": "code",
   "execution_count": 4,
   "id": "f99c03b6",
   "metadata": {},
   "outputs": [
    {
     "name": "stdout",
     "output_type": "stream",
     "text": [
      "[main eea0f8d] update 08-12-2021 18:32\n",
      " 7 files changed, 1408 insertions(+), 713 deletions(-)\n",
      " create mode 100644 \"tez_kod/Makine \\303\\226\\304\\237renmesi/.ipynb_checkpoints/Classification2withnoNLPdata-checkpoint.ipynb\"\n",
      " rewrite \"tez_kod/Makine \\303\\226\\304\\237renmesi/Classification2.ipynb\" (77%)\n",
      " copy \"tez_kod/Makine \\303\\226\\304\\237renmesi/Classification2.ipynb\" => \"tez_kod/Makine \\303\\226\\304\\237renmesi/Classification2withnoNLPdata.ipynb\" (63%)\n",
      " rewrite \"tez_kod/Makine \\303\\226\\304\\237renmesi/input/train.xls\" (75%)\n",
      " delete mode 100644 \"tez_kod/Makine \\303\\226\\304\\237renmesi/input/train_clean.xls\"\n",
      " copy \"tez_kod/Makine \\303\\226\\304\\237renmesi/input/train.xls\" => \"tez_kod/Makine \\303\\226\\304\\237renmesi/input/train_noNLP.xls\" (100%)\n",
      "08-12-2021\n",
      "git pushing completed 08-12-2021 18:32\n",
      "0\n"
     ]
    },
    {
     "name": "stderr",
     "output_type": "stream",
     "text": [
      "To https://github.com/totokuyu/Multilabel.git\n",
      "   ce86742..eea0f8d  main -> main\n"
     ]
    }
   ],
   "source": [
    "print(os.system(\"python gitpush.py\"))"
   ]
  },
  {
   "cell_type": "code",
   "execution_count": 7,
   "id": "0837c6d8",
   "metadata": {},
   "outputs": [
    {
     "name": "stdout",
     "output_type": "stream",
     "text": [
      "0\n"
     ]
    }
   ],
   "source": [
    "print(os.system(\"python gitpull.py\"))"
   ]
  },
  {
   "cell_type": "code",
   "execution_count": null,
   "id": "18dff36e",
   "metadata": {},
   "outputs": [],
   "source": []
  }
 ],
 "metadata": {
  "kernelspec": {
   "display_name": "Python 3 (ipykernel)",
   "language": "python",
   "name": "python3"
  },
  "language_info": {
   "codemirror_mode": {
    "name": "ipython",
    "version": 3
   },
   "file_extension": ".py",
   "mimetype": "text/x-python",
   "name": "python",
   "nbconvert_exporter": "python",
   "pygments_lexer": "ipython3",
   "version": "3.8.10"
  }
 },
 "nbformat": 4,
 "nbformat_minor": 5
}
