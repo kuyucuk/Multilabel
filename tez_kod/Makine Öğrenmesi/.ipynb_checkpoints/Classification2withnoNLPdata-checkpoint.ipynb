{
 "cells": [
  {
   "cell_type": "code",
   "execution_count": 1,
   "id": "3539854e",
   "metadata": {},
   "outputs": [],
   "source": [
    "import numpy as np # linear algebra\n",
    "import pandas as pd # data processing, CSV file I/O (e.g. pd.read_csv)\n",
    "from sklearn.feature_extraction.text import HashingVectorizer\n",
    "from sklearn.feature_extraction.text import TfidfVectorizer\n",
    "from sklearn.feature_extraction.text import CountVectorizer\n",
    "from sklearn.decomposition import PCA, TruncatedSVD\n",
    "from sklearn.linear_model import LogisticRegression\n",
    "from sklearn.multiclass import OneVsRestClassifier\n",
    "from sklearn.pipeline import Pipeline\n",
    "from sklearn.neighbors import KNeighborsClassifier\n",
    "from sklearn.model_selection import train_test_split \n",
    "from pandas.plotting import scatter_matrix\n",
    "from sklearn import svm\n",
    "import matplotlib.pyplot as plt\n",
    "from sklearn import datasets, svm, metrics\n",
    "from sklearn.model_selection import train_test_split\n",
    "from sklearn.svm import SVC\n",
    "import os\n",
    "import sys\n",
    "import io\n",
    "import datetime"
   ]
  },
  {
   "cell_type": "code",
   "execution_count": 2,
   "id": "fed1ad4d",
   "metadata": {},
   "outputs": [],
   "source": [
    "datas = pd.read_excel('input/train_noNLP.xls')"
   ]
  },
  {
   "cell_type": "code",
   "execution_count": 3,
   "id": "e8afe41e",
   "metadata": {},
   "outputs": [
    {
     "name": "stdout",
     "output_type": "stream",
     "text": [
      "<class 'pandas.core.frame.DataFrame'>\n",
      "RangeIndex: 1887 entries, 0 to 1886\n",
      "Data columns (total 10 columns):\n",
      " #   Column                                         Non-Null Count  Dtype \n",
      "---  ------                                         --------------  ----- \n",
      " 0   id                                             1887 non-null   int64 \n",
      " 1   icerik                                         1887 non-null   object\n",
      " 2   Gecikti veya Dağıtıma Çıkmadı                  1887 non-null   int64 \n",
      " 3   Evde yok notu düşüldü veya Kapıya Getirilmedi  1887 non-null   int64 \n",
      " 4   Telefonlara Cevap Verilmedi                    1887 non-null   int64 \n",
      " 5   İade Süreci                                    1887 non-null   int64 \n",
      " 6   Teslim Alınmadı veya Teslim Edilmedi           1887 non-null   int64 \n",
      " 7   Kötü Diyalog Veya Saygısız Tutum               1887 non-null   int64 \n",
      " 8   Hasarlı veya Kayıp Paket                       1887 non-null   int64 \n",
      " 9   Hijyen Kurallarına Uyulmadı                    1887 non-null   int64 \n",
      "dtypes: int64(9), object(1)\n",
      "memory usage: 147.5+ KB\n",
      "None\n"
     ]
    }
   ],
   "source": [
    "print(datas.info())"
   ]
  },
  {
   "cell_type": "code",
   "execution_count": 4,
   "id": "9430b29e",
   "metadata": {},
   "outputs": [],
   "source": [
    "z=[0,1,2,3,4,5,6,7]\n",
    "z[0]=datas.loc[:,'Gecikti veya Dağıtıma Çıkmadı']\n",
    "z[1]=datas.loc[:,'Evde yok notu düşüldü veya Kapıya Getirilmedi']\n",
    "z[2]=datas.loc[:,'Telefonlara Cevap Verilmedi']\n",
    "z[3]=datas.loc[:,'İade Süreci']\n",
    "z[4]=datas.loc[:,'Teslim Alınmadı veya Teslim Edilmedi']\n",
    "z[5]=datas.loc[:,'Kötü Diyalog Veya Saygısız Tutum']\n",
    "z[6]=datas.loc[:,'Hasarlı veya Kayıp Paket']\n",
    "z[7]=datas.loc[:,'Hijyen Kurallarına Uyulmadı']"
   ]
  },
  {
   "cell_type": "code",
   "execution_count": 5,
   "id": "7d9312cb",
   "metadata": {},
   "outputs": [
    {
     "data": {
      "text/plain": [
       "1887"
      ]
     },
     "execution_count": 5,
     "metadata": {},
     "output_type": "execute_result"
    }
   ],
   "source": [
    "numberofcomplaints=len(datas)\n",
    "numberofcomplaints"
   ]
  },
  {
   "cell_type": "code",
   "execution_count": 6,
   "id": "a779361a",
   "metadata": {},
   "outputs": [],
   "source": [
    "n_samples = len(datas)\n",
    "data = datas\n",
    "\n",
    "X = datas.loc[:,'icerik']\n",
    "Y = datas.drop(['id','icerik'],axis=1).idxmax(axis=1)\n",
    "\n",
    "\n",
    "X_train, X_test, y_train, y_test = train_test_split(X, Y, random_state=0)\n"
   ]
  },
  {
   "cell_type": "code",
   "execution_count": 7,
   "id": "ddd8926e",
   "metadata": {},
   "outputs": [
    {
     "data": {
      "text/plain": [
       "(1415,)"
      ]
     },
     "execution_count": 7,
     "metadata": {},
     "output_type": "execute_result"
    }
   ],
   "source": [
    "X_train.shape"
   ]
  },
  {
   "cell_type": "code",
   "execution_count": 8,
   "id": "d8d8f07d",
   "metadata": {},
   "outputs": [
    {
     "data": {
      "text/plain": [
       "(472,)"
      ]
     },
     "execution_count": 8,
     "metadata": {},
     "output_type": "execute_result"
    }
   ],
   "source": [
    "X_test.shape"
   ]
  },
  {
   "cell_type": "code",
   "execution_count": 9,
   "id": "b77c6ec8",
   "metadata": {},
   "outputs": [
    {
     "data": {
      "text/plain": [
       "1728    Aras Kargo Ürünüm Alıcıya Ulaştırılmadı, Geri ...\n",
       "987     Yurtiçi Kargo Kaybettikleri Kargoyu Israrımızl...\n",
       "133     PTT Kargo Ağrı Hamur Şubesi Çalışanı--> Geçici...\n",
       "202     MNG Kargo Ürünümü Teslim Etmiyor--> MNG Kargo ...\n",
       "1186    Çeliktepe Sürat Kargo'da Sorun Var--> Öncelikl...\n",
       "                              ...                        \n",
       "835     Sürat Kargo Kargomu Kapıya Getirmedi Hafif Ola...\n",
       "1216    Sürat Kargo Teslim Edilmeyen Kargolar--> Trend...\n",
       "1653    Sürat Kargo İzmir Aktarma Merkezinden Yola Çık...\n",
       "559     Aras Kargo Kargom 1 Haftadır Gelmiyor--> 1 haf...\n",
       "684     PTT Kargo Sağlık Çalışanı Olduğum İçin Adrese ...\n",
       "Name: icerik, Length: 1415, dtype: object"
      ]
     },
     "execution_count": 9,
     "metadata": {},
     "output_type": "execute_result"
    }
   ],
   "source": [
    "X_train"
   ]
  },
  {
   "cell_type": "code",
   "execution_count": 10,
   "id": "c6c94b34",
   "metadata": {},
   "outputs": [
    {
     "data": {
      "text/plain": [
       "1728                      Telefonlara Cevap Verilmedi\n",
       "987                  Kötü Diyalog Veya Saygısız Tutum\n",
       "133                  Kötü Diyalog Veya Saygısız Tutum\n",
       "202              Teslim Alınmadı veya Teslim Edilmedi\n",
       "1186                    Gecikti veya Dağıtıma Çıkmadı\n",
       "                            ...                      \n",
       "835     Evde yok notu düşüldü veya Kapıya Getirilmedi\n",
       "1216                    Gecikti veya Dağıtıma Çıkmadı\n",
       "1653                      Telefonlara Cevap Verilmedi\n",
       "559                     Gecikti veya Dağıtıma Çıkmadı\n",
       "684              Teslim Alınmadı veya Teslim Edilmedi\n",
       "Length: 1415, dtype: object"
      ]
     },
     "execution_count": 10,
     "metadata": {},
     "output_type": "execute_result"
    }
   ],
   "source": [
    "y_train"
   ]
  },
  {
   "cell_type": "code",
   "execution_count": 11,
   "id": "b13bef6a",
   "metadata": {},
   "outputs": [],
   "source": [
    "tks = '[A-Za-z0-9]+(?=\\\\s+)'\n",
    "\n",
    "vec = CountVectorizer(token_pattern=tks)\n",
    "\n",
    "X_train_vec = vec.fit_transform(X_train)\n",
    "X_test_vec = vec.transform(X_test)\n",
    "\n",
    "pca = TruncatedSVD(n_components=128)\n",
    "X_train_vec = pca.fit_transform(X_train_vec)\n",
    "X_test_vec = pca.transform(X_test_vec)"
   ]
  },
  {
   "cell_type": "code",
   "execution_count": 12,
   "id": "44ede2d2",
   "metadata": {},
   "outputs": [
    {
     "name": "stderr",
     "output_type": "stream",
     "text": [
      "/home/user/.local/lib/python3.8/site-packages/sklearn/linear_model/_logistic.py:814: ConvergenceWarning: lbfgs failed to converge (status=1):\n",
      "STOP: TOTAL NO. of ITERATIONS REACHED LIMIT.\n",
      "\n",
      "Increase the number of iterations (max_iter) or scale the data as shown in:\n",
      "    https://scikit-learn.org/stable/modules/preprocessing.html\n",
      "Please also refer to the documentation for alternative solver options:\n",
      "    https://scikit-learn.org/stable/modules/linear_model.html#logistic-regression\n",
      "  n_iter_i = _check_optimize_result(\n",
      "/home/user/.local/lib/python3.8/site-packages/sklearn/linear_model/_logistic.py:814: ConvergenceWarning: lbfgs failed to converge (status=1):\n",
      "STOP: TOTAL NO. of ITERATIONS REACHED LIMIT.\n",
      "\n",
      "Increase the number of iterations (max_iter) or scale the data as shown in:\n",
      "    https://scikit-learn.org/stable/modules/preprocessing.html\n",
      "Please also refer to the documentation for alternative solver options:\n",
      "    https://scikit-learn.org/stable/modules/linear_model.html#logistic-regression\n",
      "  n_iter_i = _check_optimize_result(\n",
      "/home/user/.local/lib/python3.8/site-packages/sklearn/linear_model/_logistic.py:814: ConvergenceWarning: lbfgs failed to converge (status=1):\n",
      "STOP: TOTAL NO. of ITERATIONS REACHED LIMIT.\n",
      "\n",
      "Increase the number of iterations (max_iter) or scale the data as shown in:\n",
      "    https://scikit-learn.org/stable/modules/preprocessing.html\n",
      "Please also refer to the documentation for alternative solver options:\n",
      "    https://scikit-learn.org/stable/modules/linear_model.html#logistic-regression\n",
      "  n_iter_i = _check_optimize_result(\n"
     ]
    },
    {
     "name": "stdout",
     "output_type": "stream",
     "text": [
      "Classification report for classifier SVC():\n",
      "                                               precision    recall  f1-score   support\n",
      "\n",
      "Evde yok notu düşüldü veya Kapıya Getirilmedi       0.46      0.56      0.51        85\n",
      "                Gecikti veya Dağıtıma Çıkmadı       0.58      0.74      0.65       217\n",
      "                     Hasarlı veya Kayıp Paket       0.00      0.00      0.00        17\n",
      "                  Hijyen Kurallarına Uyulmadı       1.00      0.25      0.40         8\n",
      "             Kötü Diyalog Veya Saygısız Tutum       0.27      0.20      0.23        44\n",
      "                  Telefonlara Cevap Verilmedi       0.18      0.08      0.11        38\n",
      "         Teslim Alınmadı veya Teslim Edilmedi       0.18      0.12      0.14        52\n",
      "                                  İade Süreci       0.25      0.09      0.13        11\n",
      "\n",
      "                                     accuracy                           0.49       472\n",
      "                                    macro avg       0.36      0.26      0.27       472\n",
      "                                 weighted avg       0.43      0.49      0.45       472\n",
      "\n",
      "\n"
     ]
    }
   ],
   "source": [
    "tks = '[A-Za-z0-9]+(?=\\\\s+)'\n",
    "\n",
    "clf = svm.SVC()\n",
    "\n",
    "pl = Pipeline([\n",
    "    ('vec', CountVectorizer(token_pattern = tks)),\n",
    "    ('clf', OneVsRestClassifier(LogisticRegression()))\n",
    "])\n",
    "\n",
    "pl.fit(X_train, y_train)\n",
    "\n",
    "\n",
    "predicted = pl.predict(X_test)\n",
    "print(f\"Classification report for classifier {clf}:\\n\"f\"{metrics.classification_report(y_test, predicted)}\\n\")"
   ]
  },
  {
   "cell_type": "code",
   "execution_count": 13,
   "id": "fd0c2299",
   "metadata": {},
   "outputs": [
    {
     "name": "stdout",
     "output_type": "stream",
     "text": [
      "Confusion matrix:\n",
      "[[ 48  27   0   0   4   1   5   0]\n",
      " [ 28 160   1   0   7   6  15   0]\n",
      " [  1  10   0   0   2   1   3   0]\n",
      " [  0   5   0   2   1   0   0   0]\n",
      " [ 12  18   1   0   9   1   3   0]\n",
      " [  4  23   0   0   4   3   1   3]\n",
      " [ 11  29   0   0   3   3   6   0]\n",
      " [  1   3   1   0   3   2   0   1]]\n"
     ]
    },
    {
     "data": {
      "image/png": "[encoded data removed]",
      "text/plain": [
       "<Figure size 432x288 with 2 Axes>"
      ]
     },
     "metadata": {
      "needs_background": "light"
     },
     "output_type": "display_data"
    }
   ],
   "source": [
    "disp = metrics.ConfusionMatrixDisplay.from_predictions(y_test, predicted)\n",
    "disp.figure_.suptitle(\"Confusion Matrix\")\n",
    "print(f\"Confusion matrix:\\n{disp.confusion_matrix}\")\n",
    "\n",
    "plt.show()"
   ]
  },
  {
   "cell_type": "code",
   "execution_count": 14,
   "id": "fa0381a7",
   "metadata": {},
   "outputs": [
    {
     "name": "stdout",
     "output_type": "stream",
     "text": [
      "Classification report for classifier SVC():\n",
      "                                               precision    recall  f1-score   support\n",
      "\n",
      "Evde yok notu düşüldü veya Kapıya Getirilmedi       0.44      0.51      0.47        85\n",
      "                Gecikti veya Dağıtıma Çıkmadı       0.53      0.86      0.66       217\n",
      "                     Hasarlı veya Kayıp Paket       0.00      0.00      0.00        17\n",
      "                  Hijyen Kurallarına Uyulmadı       1.00      0.38      0.55         8\n",
      "             Kötü Diyalog Veya Saygısız Tutum       0.30      0.07      0.11        44\n",
      "                  Telefonlara Cevap Verilmedi       0.00      0.00      0.00        38\n",
      "         Teslim Alınmadı veya Teslim Edilmedi       0.29      0.04      0.07        52\n",
      "                                  İade Süreci       0.50      0.09      0.15        11\n",
      "\n",
      "                                     accuracy                           0.50       472\n",
      "                                    macro avg       0.38      0.24      0.25       472\n",
      "                                 weighted avg       0.41      0.50      0.42       472\n",
      "\n",
      "\n"
     ]
    },
    {
     "name": "stderr",
     "output_type": "stream",
     "text": [
      "/home/user/.local/lib/python3.8/site-packages/sklearn/metrics/_classification.py:1308: UndefinedMetricWarning: Precision and F-score are ill-defined and being set to 0.0 in labels with no predicted samples. Use `zero_division` parameter to control this behavior.\n",
      "  _warn_prf(average, modifier, msg_start, len(result))\n",
      "/home/user/.local/lib/python3.8/site-packages/sklearn/metrics/_classification.py:1308: UndefinedMetricWarning: Precision and F-score are ill-defined and being set to 0.0 in labels with no predicted samples. Use `zero_division` parameter to control this behavior.\n",
      "  _warn_prf(average, modifier, msg_start, len(result))\n",
      "/home/user/.local/lib/python3.8/site-packages/sklearn/metrics/_classification.py:1308: UndefinedMetricWarning: Precision and F-score are ill-defined and being set to 0.0 in labels with no predicted samples. Use `zero_division` parameter to control this behavior.\n",
      "  _warn_prf(average, modifier, msg_start, len(result))\n"
     ]
    }
   ],
   "source": [
    "tks = '[A-Za-z0-9]+(?=\\\\s+)'\n",
    "\n",
    "pl = Pipeline([\n",
    "    ('vec', CountVectorizer(token_pattern = tks)),\n",
    "    ('clf', OneVsRestClassifier(svm.SVC()))\n",
    "])\n",
    "\n",
    "pl.fit(X_train, y_train)\n",
    "\n",
    "\n",
    "predicted = pl.predict(X_test)\n",
    "print(f\"Classification report for classifier {clf}:\\n\"f\"{metrics.classification_report(y_test, predicted)}\\n\")"
   ]
  },
  {
   "cell_type": "code",
   "execution_count": 15,
   "id": "a90675a2",
   "metadata": {},
   "outputs": [
    {
     "name": "stdout",
     "output_type": "stream",
     "text": [
      "Classification report for classifier SVC():\n",
      "                                               precision    recall  f1-score   support\n",
      "\n",
      "Evde yok notu düşüldü veya Kapıya Getirilmedi       0.52      0.40      0.45        85\n",
      "                Gecikti veya Dağıtıma Çıkmadı       0.50      0.93      0.65       217\n",
      "                     Hasarlı veya Kayıp Paket       0.00      0.00      0.00        17\n",
      "                  Hijyen Kurallarına Uyulmadı       0.00      0.00      0.00         8\n",
      "             Kötü Diyalog Veya Saygısız Tutum       0.00      0.00      0.00        44\n",
      "                  Telefonlara Cevap Verilmedi       0.00      0.00      0.00        38\n",
      "         Teslim Alınmadı veya Teslim Edilmedi       0.00      0.00      0.00        52\n",
      "                                  İade Süreci       0.00      0.00      0.00        11\n",
      "\n",
      "                                     accuracy                           0.50       472\n",
      "                                    macro avg       0.13      0.17      0.14       472\n",
      "                                 weighted avg       0.32      0.50      0.38       472\n",
      "\n",
      "\n"
     ]
    },
    {
     "name": "stderr",
     "output_type": "stream",
     "text": [
      "/home/user/.local/lib/python3.8/site-packages/sklearn/metrics/_classification.py:1308: UndefinedMetricWarning: Precision and F-score are ill-defined and being set to 0.0 in labels with no predicted samples. Use `zero_division` parameter to control this behavior.\n",
      "  _warn_prf(average, modifier, msg_start, len(result))\n",
      "/home/user/.local/lib/python3.8/site-packages/sklearn/metrics/_classification.py:1308: UndefinedMetricWarning: Precision and F-score are ill-defined and being set to 0.0 in labels with no predicted samples. Use `zero_division` parameter to control this behavior.\n",
      "  _warn_prf(average, modifier, msg_start, len(result))\n",
      "/home/user/.local/lib/python3.8/site-packages/sklearn/metrics/_classification.py:1308: UndefinedMetricWarning: Precision and F-score are ill-defined and being set to 0.0 in labels with no predicted samples. Use `zero_division` parameter to control this behavior.\n",
      "  _warn_prf(average, modifier, msg_start, len(result))\n"
     ]
    }
   ],
   "source": [
    "tks = '[A-Za-z0-9]+(?=\\\\s+)'\n",
    "\n",
    "pl = Pipeline([\n",
    "    ('vec', CountVectorizer(token_pattern = tks)),\n",
    "    ('clf', svm.SVC())\n",
    "])\n",
    "\n",
    "pl.fit(X_train, y_train)\n",
    "\n",
    "\n",
    "predicted = pl.predict(X_test)\n",
    "print(f\"Classification report for classifier {clf}:\\n\"f\"{metrics.classification_report(y_test, predicted)}\\n\")"
   ]
  },
  {
   "cell_type": "code",
   "execution_count": 16,
   "id": "2cb1a9dd",
   "metadata": {},
   "outputs": [
    {
     "name": "stdout",
     "output_type": "stream",
     "text": [
      "Classification report for classifier SVC():\n",
      "                                               precision    recall  f1-score   support\n",
      "\n",
      "Evde yok notu düşüldü veya Kapıya Getirilmedi       0.47      0.44      0.45        85\n",
      "                Gecikti veya Dağıtıma Çıkmadı       0.50      0.91      0.65       217\n",
      "                     Hasarlı veya Kayıp Paket       0.00      0.00      0.00        17\n",
      "                  Hijyen Kurallarına Uyulmadı       0.00      0.00      0.00         8\n",
      "             Kötü Diyalog Veya Saygısız Tutum       0.00      0.00      0.00        44\n",
      "                  Telefonlara Cevap Verilmedi       0.00      0.00      0.00        38\n",
      "         Teslim Alınmadı veya Teslim Edilmedi       0.00      0.00      0.00        52\n",
      "                                  İade Süreci       0.00      0.00      0.00        11\n",
      "\n",
      "                                     accuracy                           0.50       472\n",
      "                                    macro avg       0.12      0.17      0.14       472\n",
      "                                 weighted avg       0.32      0.50      0.38       472\n",
      "\n",
      "\n"
     ]
    },
    {
     "name": "stderr",
     "output_type": "stream",
     "text": [
      "/home/user/.local/lib/python3.8/site-packages/sklearn/metrics/_classification.py:1308: UndefinedMetricWarning: Precision and F-score are ill-defined and being set to 0.0 in labels with no predicted samples. Use `zero_division` parameter to control this behavior.\n",
      "  _warn_prf(average, modifier, msg_start, len(result))\n",
      "/home/user/.local/lib/python3.8/site-packages/sklearn/metrics/_classification.py:1308: UndefinedMetricWarning: Precision and F-score are ill-defined and being set to 0.0 in labels with no predicted samples. Use `zero_division` parameter to control this behavior.\n",
      "  _warn_prf(average, modifier, msg_start, len(result))\n",
      "/home/user/.local/lib/python3.8/site-packages/sklearn/metrics/_classification.py:1308: UndefinedMetricWarning: Precision and F-score are ill-defined and being set to 0.0 in labels with no predicted samples. Use `zero_division` parameter to control this behavior.\n",
      "  _warn_prf(average, modifier, msg_start, len(result))\n"
     ]
    }
   ],
   "source": [
    "clf = svm.SVC()\n",
    "\n",
    "clf.fit(X_train_vec, y_train)\n",
    "\n",
    "predicted = clf.predict(X_test_vec)\n",
    "\n",
    "print(f\"Classification report for classifier {clf}:\\n\"f\"{metrics.classification_report(y_test, predicted)}\\n\")"
   ]
  },
  {
   "cell_type": "code",
   "execution_count": 17,
   "id": "b951ce28",
   "metadata": {},
   "outputs": [
    {
     "name": "stdout",
     "output_type": "stream",
     "text": [
      "Classification report for classifier SVC():\n",
      "                                               precision    recall  f1-score   support\n",
      "\n",
      "Evde yok notu düşüldü veya Kapıya Getirilmedi       0.47      0.44      0.45        85\n",
      "                Gecikti veya Dağıtıma Çıkmadı       0.50      0.91      0.65       217\n",
      "                     Hasarlı veya Kayıp Paket       0.00      0.00      0.00        17\n",
      "                  Hijyen Kurallarına Uyulmadı       0.00      0.00      0.00         8\n",
      "             Kötü Diyalog Veya Saygısız Tutum       0.00      0.00      0.00        44\n",
      "                  Telefonlara Cevap Verilmedi       0.00      0.00      0.00        38\n",
      "         Teslim Alınmadı veya Teslim Edilmedi       0.00      0.00      0.00        52\n",
      "                                  İade Süreci       0.00      0.00      0.00        11\n",
      "\n",
      "                                     accuracy                           0.50       472\n",
      "                                    macro avg       0.12      0.17      0.14       472\n",
      "                                 weighted avg       0.32      0.50      0.38       472\n",
      "\n",
      "\n"
     ]
    },
    {
     "name": "stderr",
     "output_type": "stream",
     "text": [
      "/home/user/.local/lib/python3.8/site-packages/sklearn/metrics/_classification.py:1308: UndefinedMetricWarning: Precision and F-score are ill-defined and being set to 0.0 in labels with no predicted samples. Use `zero_division` parameter to control this behavior.\n",
      "  _warn_prf(average, modifier, msg_start, len(result))\n",
      "/home/user/.local/lib/python3.8/site-packages/sklearn/metrics/_classification.py:1308: UndefinedMetricWarning: Precision and F-score are ill-defined and being set to 0.0 in labels with no predicted samples. Use `zero_division` parameter to control this behavior.\n",
      "  _warn_prf(average, modifier, msg_start, len(result))\n",
      "/home/user/.local/lib/python3.8/site-packages/sklearn/metrics/_classification.py:1308: UndefinedMetricWarning: Precision and F-score are ill-defined and being set to 0.0 in labels with no predicted samples. Use `zero_division` parameter to control this behavior.\n",
      "  _warn_prf(average, modifier, msg_start, len(result))\n"
     ]
    }
   ],
   "source": [
    "print(f\"Classification report for classifier {clf}:\\n\"f\"{metrics.classification_report(y_test, predicted)}\\n\")"
   ]
  },
  {
   "cell_type": "code",
   "execution_count": 19,
   "id": "05479173",
   "metadata": {},
   "outputs": [
    {
     "name": "stdout",
     "output_type": "stream",
     "text": [
      "Confusion matrix:\n",
      "[[ 37  48   0   0   0   0   0   0]\n",
      " [ 19 198   0   0   0   0   0   0]\n",
      " [  3  14   0   0   0   0   0   0]\n",
      " [  0   8   0   0   0   0   0   0]\n",
      " [  7  37   0   0   0   0   0   0]\n",
      " [  3  35   0   0   0   0   0   0]\n",
      " [  9  43   0   0   0   0   0   0]\n",
      " [  0  11   0   0   0   0   0   0]]\n"
     ]
    },
    {
     "data": {
      "image/png": "[encoded data removed]",
      "text/plain": [
       "<Figure size 432x288 with 2 Axes>"
      ]
     },
     "metadata": {
      "needs_background": "light"
     },
     "output_type": "display_data"
    }
   ],
   "source": [
    "disp = metrics.ConfusionMatrixDisplay.from_predictions(y_test, predicted)\n",
    "disp.figure_.suptitle(\"Confusion Matrix\")\n",
    "print(f\"Confusion matrix:\\n{disp.confusion_matrix}\")\n",
    "\n",
    "plt.show()"
   ]
  },
  {
   "cell_type": "raw",
   "id": "e705c967",
   "metadata": {},
   "source": []
  }
 ],
 "metadata": {
  "kernelspec": {
   "display_name": "Python 3 (ipykernel)",
   "language": "python",
   "name": "python3"
  },
  "language_info": {
   "codemirror_mode": {
    "name": "ipython",
    "version": 3
   },
   "file_extension": ".py",
   "mimetype": "text/x-python",
   "name": "python",
   "nbconvert_exporter": "python",
   "pygments_lexer": "ipython3",
   "version": "3.8.10"
  }
 },
 "nbformat": 4,
 "nbformat_minor": 5
}
