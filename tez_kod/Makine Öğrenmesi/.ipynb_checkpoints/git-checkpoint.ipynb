{
 "cells": [
  {
   "cell_type": "code",
   "execution_count": 1,
   "id": "1172af74",
   "metadata": {},
   "outputs": [],
   "source": [
    "import os\n",
    "import sys\n",
    "import io\n",
    "import datetime"
   ]
  },
  {
   "cell_type": "code",
   "execution_count": null,
   "id": "f99c03b6",
   "metadata": {},
   "outputs": [],
   "source": [
    "print(os.system(\"python gitpush.py\"))"
   ]
  },
  {
   "cell_type": "code",
   "execution_count": null,
   "id": "0837c6d8",
   "metadata": {},
   "outputs": [],
   "source": [
    "print(os.system(\"python gitpull.py\"))"
   ]
  }
 ],
 "metadata": {
  "kernelspec": {
   "display_name": "Python 3 (ipykernel)",
   "language": "python",
   "name": "python3"
  },
  "language_info": {
   "codemirror_mode": {
    "name": "ipython",
    "version": 3
   },
   "file_extension": ".py",
   "mimetype": "text/x-python",
   "name": "python",
   "nbconvert_exporter": "python",
   "pygments_lexer": "ipython3",
   "version": "3.8.10"
  }
 },
 "nbformat": 4,
 "nbformat_minor": 5
}
