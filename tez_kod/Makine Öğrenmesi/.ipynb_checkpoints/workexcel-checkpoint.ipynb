{
 "cells": [
  {
   "cell_type": "code",
   "execution_count": 111,
   "id": "dd385580",
   "metadata": {},
   "outputs": [],
   "source": [
    "import numpy as np # linear algebra\n",
    "import pandas as pd # data processing, CSV file I/O (e.g. pd.read_csv)\n",
    "\n",
    "from sklearn.feature_extraction.text import HashingVectorizer\n",
    "from sklearn.feature_extraction.text import TfidfVectorizer\n",
    "from sklearn.feature_extraction.text import CountVectorizer\n",
    "from sklearn.linear_model import LogisticRegression\n",
    "from sklearn.multiclass import OneVsRestClassifier\n",
    "from sklearn.pipeline import Pipeline\n",
    "from sklearn.neighbors import KNeighborsClassifier\n",
    "from sklearn.model_selection import train_test_split \n",
    "from pandas.plotting import scatter_matrix\n",
    "from sklearn import svm"
   ]
  },
  {
   "cell_type": "code",
   "execution_count": 112,
   "id": "e02c6a5e",
   "metadata": {},
   "outputs": [],
   "source": [
    "datas = pd.read_excel('input/train1500.xls') # 1500 data in 1887 training data\n",
    "method=CountVectorizer"
   ]
  },
  {
   "cell_type": "code",
   "execution_count": 113,
   "id": "dfa1f551",
   "metadata": {},
   "outputs": [],
   "source": [
    "z=[0,1,2,3,4,5,6,7]\n",
    "z[0]=datas.loc[:,'Gecikti veya Dağıtıma Çıkmadı']\n",
    "z[1]=datas.loc[:,'Evde yok notu düşüldü veya Kapıya Getirilmedi']\n",
    "z[2]=datas.loc[:,'Telefonlara Cevap Verilmedi']\n",
    "z[3]=datas.loc[:,'İade Süreci']\n",
    "z[4]=datas.loc[:,'Teslim Alınmadı veya Teslim Edilmedi']\n",
    "z[5]=datas.loc[:,'Kötü Diyalog Veya Saygısız Tutum']\n",
    "z[6]=datas.loc[:,'Hasarlı veya Kayıp Paket']\n",
    "z[7]=datas.loc[:,'Hijyen Kurallarına Uyulmadı']"
   ]
  },
  {
   "cell_type": "code",
   "execution_count": 114,
   "id": "81a8fe23",
   "metadata": {},
   "outputs": [],
   "source": [
    "X_train, X_test, y_train, y_test = train_test_split(datas.loc[:,'icerik'],datas.drop(['id','icerik'],axis=1), random_state=0)"
   ]
  },
  {
   "cell_type": "code",
   "execution_count": 115,
   "id": "4b7e41f5",
   "metadata": {},
   "outputs": [
    {
     "name": "stderr",
     "output_type": "stream",
     "text": [
      "/home/user/.local/lib/python3.8/site-packages/sklearn/linear_model/_logistic.py:814: ConvergenceWarning: lbfgs failed to converge (status=1):\n",
      "STOP: TOTAL NO. of ITERATIONS REACHED LIMIT.\n",
      "\n",
      "Increase the number of iterations (max_iter) or scale the data as shown in:\n",
      "    https://scikit-learn.org/stable/modules/preprocessing.html\n",
      "Please also refer to the documentation for alternative solver options:\n",
      "    https://scikit-learn.org/stable/modules/linear_model.html#logistic-regression\n",
      "  n_iter_i = _check_optimize_result(\n",
      "/home/user/.local/lib/python3.8/site-packages/sklearn/linear_model/_logistic.py:814: ConvergenceWarning: lbfgs failed to converge (status=1):\n",
      "STOP: TOTAL NO. of ITERATIONS REACHED LIMIT.\n",
      "\n",
      "Increase the number of iterations (max_iter) or scale the data as shown in:\n",
      "    https://scikit-learn.org/stable/modules/preprocessing.html\n",
      "Please also refer to the documentation for alternative solver options:\n",
      "    https://scikit-learn.org/stable/modules/linear_model.html#logistic-regression\n",
      "  n_iter_i = _check_optimize_result(\n",
      "/home/user/.local/lib/python3.8/site-packages/sklearn/linear_model/_logistic.py:814: ConvergenceWarning: lbfgs failed to converge (status=1):\n",
      "STOP: TOTAL NO. of ITERATIONS REACHED LIMIT.\n",
      "\n",
      "Increase the number of iterations (max_iter) or scale the data as shown in:\n",
      "    https://scikit-learn.org/stable/modules/preprocessing.html\n",
      "Please also refer to the documentation for alternative solver options:\n",
      "    https://scikit-learn.org/stable/modules/linear_model.html#logistic-regression\n",
      "  n_iter_i = _check_optimize_result(\n",
      "/home/user/.local/lib/python3.8/site-packages/sklearn/linear_model/_logistic.py:814: ConvergenceWarning: lbfgs failed to converge (status=1):\n",
      "STOP: TOTAL NO. of ITERATIONS REACHED LIMIT.\n",
      "\n",
      "Increase the number of iterations (max_iter) or scale the data as shown in:\n",
      "    https://scikit-learn.org/stable/modules/preprocessing.html\n",
      "Please also refer to the documentation for alternative solver options:\n",
      "    https://scikit-learn.org/stable/modules/linear_model.html#logistic-regression\n",
      "  n_iter_i = _check_optimize_result(\n",
      "/home/user/.local/lib/python3.8/site-packages/sklearn/linear_model/_logistic.py:814: ConvergenceWarning: lbfgs failed to converge (status=1):\n",
      "STOP: TOTAL NO. of ITERATIONS REACHED LIMIT.\n",
      "\n",
      "Increase the number of iterations (max_iter) or scale the data as shown in:\n",
      "    https://scikit-learn.org/stable/modules/preprocessing.html\n",
      "Please also refer to the documentation for alternative solver options:\n",
      "    https://scikit-learn.org/stable/modules/linear_model.html#logistic-regression\n",
      "  n_iter_i = _check_optimize_result(\n"
     ]
    },
    {
     "data": {
      "text/plain": [
       "Pipeline(steps=[('vec', CountVectorizer(token_pattern='[A-Za-z0-9]+(?=\\\\s+)')),\n",
       "                ('clf', OneVsRestClassifier(estimator=LogisticRegression()))])"
      ]
     },
     "execution_count": 115,
     "metadata": {},
     "output_type": "execute_result"
    }
   ],
   "source": [
    "tks = '[A-Za-z0-9]+(?=\\\\s+)'\n",
    "\n",
    "\n",
    "pl = Pipeline([\n",
    "        ('vec', method(token_pattern = tks)),\n",
    "        ('clf', OneVsRestClassifier(LogisticRegression()))\n",
    "    ])\n",
    "\n",
    "pl.fit(X_train,y_train)"
   ]
  },
  {
   "cell_type": "code",
   "execution_count": 116,
   "id": "f3e409cb",
   "metadata": {},
   "outputs": [],
   "source": [
    "test = datas"
   ]
  },
  {
   "cell_type": "code",
   "execution_count": 117,
   "id": "9247428d",
   "metadata": {},
   "outputs": [],
   "source": [
    "test = test.fillna(\"\")\n",
    "#predicting\n",
    "train_predictions = pl.predict_proba(test.icerik)"
   ]
  },
  {
   "cell_type": "code",
   "execution_count": 118,
   "id": "ddc12ffd",
   "metadata": {},
   "outputs": [],
   "source": [
    "total=[0,0,0,0,0,0,0,0]\n",
    "average=[0,0,0,0,0,0,0,0]\n",
    "for column in range (0,len(z)):\n",
    "    for i in range (0,len(train_predictions)):\n",
    "        total[column]=total[column]+train_predictions[i][column]\n",
    "    average[column]=total[column]/len(train_predictions)"
   ]
  },
  {
   "cell_type": "code",
   "execution_count": 119,
   "id": "fcdf57f5",
   "metadata": {},
   "outputs": [],
   "source": [
    "for i in range (0 , len(train_predictions)):\n",
    "    for j in range (0,len(z)):\n",
    "        if train_predictions[i][j] < average[j]:\n",
    "            train_predictions[i][j] = 0\n",
    "        else:\n",
    "            train_predictions[i][j] = 1"
   ]
  },
  {
   "cell_type": "code",
   "execution_count": 120,
   "id": "2530f9ba",
   "metadata": {},
   "outputs": [
    {
     "name": "stderr",
     "output_type": "stream",
     "text": [
      "/tmp/ipykernel_2009/3800622690.py:4: FutureWarning: As the xlwt package is no longer maintained, the xlwt engine will be removed in a future version of pandas. This is the only engine in pandas that supports writing in the xls format. Install openpyxl and write to an xlsx file instead. You can set the option io.excel.xls.writer to 'xlwt' to silence this warning. While this option is deprecated and will also raise a warning, it can be globally set and the warning suppressed.\n",
      "  prediction_df.to_excel('predictions_train_NEW.xls')\n"
     ]
    }
   ],
   "source": [
    "# Format predictions in DataFrame: prediction_df\n",
    "prediction_df = pd.DataFrame(columns=y_test.columns, index=test.id, data=train_predictions)\n",
    "\n",
    "prediction_df.to_excel('predictions_train_NEW.xls')"
   ]
  },
  {
   "cell_type": "code",
   "execution_count": 121,
   "id": "846b5d2e",
   "metadata": {},
   "outputs": [],
   "source": [
    "test = pd.read_excel('input/test387.xls')  # 387 data in 1887 training data"
   ]
  },
  {
   "cell_type": "code",
   "execution_count": 122,
   "id": "252711f1",
   "metadata": {},
   "outputs": [],
   "source": [
    "test = test.fillna(\"\")\n",
    "#predicting\n",
    "test_predictions = pl.predict_proba(test.icerik)"
   ]
  },
  {
   "cell_type": "code",
   "execution_count": 123,
   "id": "e81080d9",
   "metadata": {},
   "outputs": [],
   "source": [
    "total=[0,0,0,0,0,0,0,0]\n",
    "average=[0,0,0,0,0,0,0,0]\n",
    "for column in range (0,len(z)):\n",
    "    for i in range (0,len(test_predictions)):\n",
    "        total[column]=total[column]+test_predictions[i][column]\n",
    "    average[column]=total[column]/len(test_predictions)"
   ]
  },
  {
   "cell_type": "code",
   "execution_count": 124,
   "id": "493ebfdc",
   "metadata": {},
   "outputs": [],
   "source": [
    "for i in range (0 , len(test_predictions)):\n",
    "    for j in range (0,len(z)):\n",
    "        if test_predictions[i][j] < average[j]:\n",
    "            test_predictions[i][j] = 0\n",
    "        else:\n",
    "            test_predictions[i][j] = 1"
   ]
  },
  {
   "cell_type": "code",
   "execution_count": 125,
   "id": "b4229ec5",
   "metadata": {},
   "outputs": [
    {
     "name": "stderr",
     "output_type": "stream",
     "text": [
      "/tmp/ipykernel_2009/363390452.py:4: FutureWarning: As the xlwt package is no longer maintained, the xlwt engine will be removed in a future version of pandas. This is the only engine in pandas that supports writing in the xls format. Install openpyxl and write to an xlsx file instead. You can set the option io.excel.xls.writer to 'xlwt' to silence this warning. While this option is deprecated and will also raise a warning, it can be globally set and the warning suppressed.\n",
      "  prediction_df.to_excel('predictions_test_NEW.xls')\n"
     ]
    }
   ],
   "source": [
    "# Format predictions in DataFrame: prediction_df\n",
    "prediction_df = pd.DataFrame(columns=y_test.columns, index=test.id, data=test_predictions)\n",
    "\n",
    "prediction_df.to_excel('predictions_test_NEW.xls')"
   ]
  },
  {
   "cell_type": "code",
   "execution_count": 126,
   "id": "be47b2ca",
   "metadata": {},
   "outputs": [
    {
     "data": {
      "text/plain": [
       "1.0"
      ]
     },
     "execution_count": 126,
     "metadata": {},
     "output_type": "execute_result"
    }
   ],
   "source": [
    "predictions[2][0]"
   ]
  },
  {
   "cell_type": "code",
   "execution_count": 127,
   "id": "6cac0b76",
   "metadata": {},
   "outputs": [
    {
     "data": {
      "text/plain": [
       "pandas.core.frame.DataFrame"
      ]
     },
     "execution_count": 127,
     "metadata": {},
     "output_type": "execute_result"
    }
   ],
   "source": [
    "type(datas)"
   ]
  },
  {
   "cell_type": "code",
   "execution_count": 128,
   "id": "a4812817",
   "metadata": {},
   "outputs": [
    {
     "data": {
      "text/html": [
       "<div>\n",
       "<style scoped>\n",
       "    .dataframe tbody tr th:only-of-type {\n",
       "        vertical-align: middle;\n",
       "    }\n",
       "\n",
       "    .dataframe tbody tr th {\n",
       "        vertical-align: top;\n",
       "    }\n",
       "\n",
       "    .dataframe thead th {\n",
       "        text-align: right;\n",
       "    }\n",
       "</style>\n",
       "<table border=\"1\" class=\"dataframe\">\n",
       "  <thead>\n",
       "    <tr style=\"text-align: right;\">\n",
       "      <th></th>\n",
       "      <th>id</th>\n",
       "      <th>icerik</th>\n",
       "      <th>Gecikti veya Dağıtıma Çıkmadı</th>\n",
       "      <th>Evde yok notu düşüldü veya Kapıya Getirilmedi</th>\n",
       "      <th>Telefonlara Cevap Verilmedi</th>\n",
       "      <th>İade Süreci</th>\n",
       "      <th>Teslim Alınmadı veya Teslim Edilmedi</th>\n",
       "      <th>Kötü Diyalog Veya Saygısız Tutum</th>\n",
       "      <th>Hasarlı veya Kayıp Paket</th>\n",
       "      <th>Hijyen Kurallarına Uyulmadı</th>\n",
       "    </tr>\n",
       "  </thead>\n",
       "  <tbody>\n",
       "    <tr>\n",
       "      <th>0</th>\n",
       "      <td>2</td>\n",
       "      <td>Sürat Kargo Gülnur Korkmaz İşitme Engelliyim--...</td>\n",
       "      <td>0</td>\n",
       "      <td>0</td>\n",
       "      <td>0</td>\n",
       "      <td>0</td>\n",
       "      <td>0</td>\n",
       "      <td>0</td>\n",
       "      <td>0</td>\n",
       "      <td>0</td>\n",
       "    </tr>\n",
       "    <tr>\n",
       "      <th>1</th>\n",
       "      <td>3</td>\n",
       "      <td>MNG Kargo Teslimat Yapmamak İçin Ellerinden Ge...</td>\n",
       "      <td>1</td>\n",
       "      <td>1</td>\n",
       "      <td>1</td>\n",
       "      <td>0</td>\n",
       "      <td>1</td>\n",
       "      <td>1</td>\n",
       "      <td>0</td>\n",
       "      <td>0</td>\n",
       "    </tr>\n",
       "    <tr>\n",
       "      <th>2</th>\n",
       "      <td>4</td>\n",
       "      <td>PTT Kargo Covid Önlemleri Alınmıyor--&gt; PTT Kar...</td>\n",
       "      <td>0</td>\n",
       "      <td>0</td>\n",
       "      <td>0</td>\n",
       "      <td>0</td>\n",
       "      <td>0</td>\n",
       "      <td>0</td>\n",
       "      <td>0</td>\n",
       "      <td>1</td>\n",
       "    </tr>\n",
       "    <tr>\n",
       "      <th>3</th>\n",
       "      <td>5</td>\n",
       "      <td>PTT Kargo Ürünü Adrese Getirmeme, Müşteri Hizm...</td>\n",
       "      <td>1</td>\n",
       "      <td>0</td>\n",
       "      <td>0</td>\n",
       "      <td>0</td>\n",
       "      <td>1</td>\n",
       "      <td>0</td>\n",
       "      <td>0</td>\n",
       "      <td>0</td>\n",
       "    </tr>\n",
       "    <tr>\n",
       "      <th>4</th>\n",
       "      <td>6</td>\n",
       "      <td>Aras Kargo Kargom Yola Çıkmıyor--&gt; Şubeye gitt...</td>\n",
       "      <td>1</td>\n",
       "      <td>0</td>\n",
       "      <td>0</td>\n",
       "      <td>0</td>\n",
       "      <td>0</td>\n",
       "      <td>0</td>\n",
       "      <td>0</td>\n",
       "      <td>0</td>\n",
       "    </tr>\n",
       "    <tr>\n",
       "      <th>...</th>\n",
       "      <td>...</td>\n",
       "      <td>...</td>\n",
       "      <td>...</td>\n",
       "      <td>...</td>\n",
       "      <td>...</td>\n",
       "      <td>...</td>\n",
       "      <td>...</td>\n",
       "      <td>...</td>\n",
       "      <td>...</td>\n",
       "      <td>...</td>\n",
       "    </tr>\n",
       "    <tr>\n",
       "      <th>1495</th>\n",
       "      <td>2407</td>\n",
       "      <td>Sürat Kargo Mayıstan Beri Teslim Edilemeyen Ka...</td>\n",
       "      <td>0</td>\n",
       "      <td>0</td>\n",
       "      <td>0</td>\n",
       "      <td>0</td>\n",
       "      <td>0</td>\n",
       "      <td>0</td>\n",
       "      <td>0</td>\n",
       "      <td>0</td>\n",
       "    </tr>\n",
       "    <tr>\n",
       "      <th>1496</th>\n",
       "      <td>2408</td>\n",
       "      <td>Aras Kargo'da Olan Teslimat Sorunu--&gt; Sabahtan...</td>\n",
       "      <td>0</td>\n",
       "      <td>1</td>\n",
       "      <td>0</td>\n",
       "      <td>0</td>\n",
       "      <td>0</td>\n",
       "      <td>0</td>\n",
       "      <td>0</td>\n",
       "      <td>0</td>\n",
       "    </tr>\n",
       "    <tr>\n",
       "      <th>1497</th>\n",
       "      <td>2409</td>\n",
       "      <td>Sürat Kargo Teslim Ve Müşteri Hizmetleri--&gt; Sü...</td>\n",
       "      <td>0</td>\n",
       "      <td>0</td>\n",
       "      <td>0</td>\n",
       "      <td>0</td>\n",
       "      <td>0</td>\n",
       "      <td>1</td>\n",
       "      <td>0</td>\n",
       "      <td>0</td>\n",
       "    </tr>\n",
       "    <tr>\n",
       "      <th>1498</th>\n",
       "      <td>2410</td>\n",
       "      <td>MNG Kargo Kampanyadan Yararlanamama--&gt; 23.06.2...</td>\n",
       "      <td>0</td>\n",
       "      <td>0</td>\n",
       "      <td>0</td>\n",
       "      <td>0</td>\n",
       "      <td>0</td>\n",
       "      <td>1</td>\n",
       "      <td>0</td>\n",
       "      <td>1</td>\n",
       "    </tr>\n",
       "    <tr>\n",
       "      <th>1499</th>\n",
       "      <td>2412</td>\n",
       "      <td>Kargomu Kaybeden PTT Acıbadem Şube--&gt; Siparişi...</td>\n",
       "      <td>1</td>\n",
       "      <td>0</td>\n",
       "      <td>0</td>\n",
       "      <td>0</td>\n",
       "      <td>0</td>\n",
       "      <td>1</td>\n",
       "      <td>1</td>\n",
       "      <td>0</td>\n",
       "    </tr>\n",
       "  </tbody>\n",
       "</table>\n",
       "<p>1500 rows × 10 columns</p>\n",
       "</div>"
      ],
      "text/plain": [
       "        id                                             icerik  \\\n",
       "0        2  Sürat Kargo Gülnur Korkmaz İşitme Engelliyim--...   \n",
       "1        3  MNG Kargo Teslimat Yapmamak İçin Ellerinden Ge...   \n",
       "2        4  PTT Kargo Covid Önlemleri Alınmıyor--> PTT Kar...   \n",
       "3        5  PTT Kargo Ürünü Adrese Getirmeme, Müşteri Hizm...   \n",
       "4        6  Aras Kargo Kargom Yola Çıkmıyor--> Şubeye gitt...   \n",
       "...    ...                                                ...   \n",
       "1495  2407  Sürat Kargo Mayıstan Beri Teslim Edilemeyen Ka...   \n",
       "1496  2408  Aras Kargo'da Olan Teslimat Sorunu--> Sabahtan...   \n",
       "1497  2409  Sürat Kargo Teslim Ve Müşteri Hizmetleri--> Sü...   \n",
       "1498  2410  MNG Kargo Kampanyadan Yararlanamama--> 23.06.2...   \n",
       "1499  2412  Kargomu Kaybeden PTT Acıbadem Şube--> Siparişi...   \n",
       "\n",
       "      Gecikti veya Dağıtıma Çıkmadı  \\\n",
       "0                                 0   \n",
       "1                                 1   \n",
       "2                                 0   \n",
       "3                                 1   \n",
       "4                                 1   \n",
       "...                             ...   \n",
       "1495                              0   \n",
       "1496                              0   \n",
       "1497                              0   \n",
       "1498                              0   \n",
       "1499                              1   \n",
       "\n",
       "      Evde yok notu düşüldü veya Kapıya Getirilmedi  \\\n",
       "0                                                 0   \n",
       "1                                                 1   \n",
       "2                                                 0   \n",
       "3                                                 0   \n",
       "4                                                 0   \n",
       "...                                             ...   \n",
       "1495                                              0   \n",
       "1496                                              1   \n",
       "1497                                              0   \n",
       "1498                                              0   \n",
       "1499                                              0   \n",
       "\n",
       "      Telefonlara Cevap Verilmedi  İade Süreci  \\\n",
       "0                               0            0   \n",
       "1                               1            0   \n",
       "2                               0            0   \n",
       "3                               0            0   \n",
       "4                               0            0   \n",
       "...                           ...          ...   \n",
       "1495                            0            0   \n",
       "1496                            0            0   \n",
       "1497                            0            0   \n",
       "1498                            0            0   \n",
       "1499                            0            0   \n",
       "\n",
       "      Teslim Alınmadı veya Teslim Edilmedi  Kötü Diyalog Veya Saygısız Tutum  \\\n",
       "0                                        0                                 0   \n",
       "1                                        1                                 1   \n",
       "2                                        0                                 0   \n",
       "3                                        1                                 0   \n",
       "4                                        0                                 0   \n",
       "...                                    ...                               ...   \n",
       "1495                                     0                                 0   \n",
       "1496                                     0                                 0   \n",
       "1497                                     0                                 1   \n",
       "1498                                     0                                 1   \n",
       "1499                                     0                                 1   \n",
       "\n",
       "      Hasarlı veya Kayıp Paket  Hijyen Kurallarına Uyulmadı  \n",
       "0                            0                            0  \n",
       "1                            0                            0  \n",
       "2                            0                            1  \n",
       "3                            0                            0  \n",
       "4                            0                            0  \n",
       "...                        ...                          ...  \n",
       "1495                         0                            0  \n",
       "1496                         0                            0  \n",
       "1497                         0                            0  \n",
       "1498                         0                            1  \n",
       "1499                         1                            0  \n",
       "\n",
       "[1500 rows x 10 columns]"
      ]
     },
     "execution_count": 128,
     "metadata": {},
     "output_type": "execute_result"
    }
   ],
   "source": [
    "datas"
   ]
  },
  {
   "cell_type": "code",
   "execution_count": 129,
   "id": "8d51c8a6",
   "metadata": {},
   "outputs": [
    {
     "name": "stdout",
     "output_type": "stream",
     "text": [
      "0\n"
     ]
    }
   ],
   "source": [
    "print(datas.iloc[0, 2])"
   ]
  },
  {
   "cell_type": "code",
   "execution_count": 130,
   "id": "97a67332",
   "metadata": {},
   "outputs": [
    {
     "data": {
      "text/plain": [
       "array([[0., 0., 0., ..., 0., 0., 0.],\n",
       "       [0., 0., 1., ..., 1., 0., 0.],\n",
       "       [1., 0., 1., ..., 0., 0., 0.],\n",
       "       ...,\n",
       "       [1., 0., 1., ..., 0., 0., 0.],\n",
       "       [1., 0., 0., ..., 1., 0., 1.],\n",
       "       [1., 0., 0., ..., 0., 0., 0.]])"
      ]
     },
     "execution_count": 130,
     "metadata": {},
     "output_type": "execute_result"
    }
   ],
   "source": [
    "predictions"
   ]
  },
  {
   "cell_type": "code",
   "execution_count": 131,
   "id": "b4f1d863",
   "metadata": {},
   "outputs": [
    {
     "data": {
      "text/plain": [
       "1.0"
      ]
     },
     "execution_count": 131,
     "metadata": {},
     "output_type": "execute_result"
    }
   ],
   "source": [
    "predictions[2][2]"
   ]
  },
  {
   "cell_type": "code",
   "execution_count": null,
   "id": "31bce25d",
   "metadata": {},
   "outputs": [],
   "source": []
  }
 ],
 "metadata": {
  "kernelspec": {
   "display_name": "Python 3 (ipykernel)",
   "language": "python",
   "name": "python3"
  },
  "language_info": {
   "codemirror_mode": {
    "name": "ipython",
    "version": 3
   },
   "file_extension": ".py",
   "mimetype": "text/x-python",
   "name": "python",
   "nbconvert_exporter": "python",
   "pygments_lexer": "ipython3",
   "version": "3.8.10"
  }
 },
 "nbformat": 4,
 "nbformat_minor": 5
}
