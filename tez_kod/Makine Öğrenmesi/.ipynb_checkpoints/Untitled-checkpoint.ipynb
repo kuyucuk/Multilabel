{
 "cells": [
  {
   "cell_type": "code",
   "execution_count": 1,
   "id": "436385a2",
   "metadata": {},
   "outputs": [],
   "source": [
    "import numpy as np # linear algebra\n",
    "import pandas as pd # data processing, CSV file I/O (e.g. pd.read_csv)\n",
    "\n",
    "from sklearn.feature_extraction.text import HashingVectorizer\n",
    "from sklearn.feature_extraction.text import TfidfVectorizer\n",
    "from sklearn.feature_extraction.text import CountVectorizer\n",
    "from sklearn.linear_model import LogisticRegression\n",
    "from sklearn.multiclass import OneVsRestClassifier\n",
    "from sklearn.pipeline import Pipeline\n",
    "from sklearn.neighbors import KNeighborsClassifier\n",
    "from sklearn.model_selection import train_test_split \n",
    "from pandas.plotting import scatter_matrix\n",
    "from sklearn import svm"
   ]
  },
  {
   "cell_type": "code",
   "execution_count": 2,
   "id": "8346382f",
   "metadata": {},
   "outputs": [],
   "source": [
    "datas = pd.read_excel('input/train.xls')"
   ]
  },
  {
   "cell_type": "code",
   "execution_count": 3,
   "id": "4c7537fb",
   "metadata": {},
   "outputs": [
    {
     "name": "stdout",
     "output_type": "stream",
     "text": [
      "<class 'pandas.core.frame.DataFrame'>\n",
      "RangeIndex: 1887 entries, 0 to 1886\n",
      "Data columns (total 10 columns):\n",
      " #   Column                                         Non-Null Count  Dtype \n",
      "---  ------                                         --------------  ----- \n",
      " 0   id                                             1887 non-null   int64 \n",
      " 1   icerik                                         1887 non-null   object\n",
      " 2   Gecikti veya Dağıtıma Çıkmadı                  1887 non-null   int64 \n",
      " 3   Evde yok notu düşüldü veya Kapıya Getirilmedi  1887 non-null   int64 \n",
      " 4   Telefonlara Cevap Verilmedi                    1887 non-null   int64 \n",
      " 5   İade Süreci                                    1887 non-null   int64 \n",
      " 6   Teslim Alınmadı veya Teslim Edilmedi           1887 non-null   int64 \n",
      " 7   Kötü Diyalog Veya Saygısız Tutum               1887 non-null   int64 \n",
      " 8   Hasarlı veya Kayıp Paket                       1887 non-null   int64 \n",
      " 9   Hijyen Kurallarına Uyulmadı                    1887 non-null   int64 \n",
      "dtypes: int64(9), object(1)\n",
      "memory usage: 140.1+ KB\n",
      "None\n"
     ]
    }
   ],
   "source": [
    "print(datas.info())"
   ]
  },
  {
   "cell_type": "code",
   "execution_count": 4,
   "id": "d213850b",
   "metadata": {},
   "outputs": [
    {
     "data": {
      "text/plain": [
       "0    Sürat Kargo Gülnur Korkmaz İşitme Engelliyim--...\n",
       "1    MNG Kargo Teslimat Yapmamak İçin Ellerinden Ge...\n",
       "2    PTT Kargo Covid Önlemleri Alınmıyor--> PTT Kar...\n",
       "3    PTT Kargo Ürünü Adrese Getirmeme, Müşteri Hizm...\n",
       "4    Aras Kargo Kargom Yola Çıkmıyor--> Şubeye gitt...\n",
       "Name: icerik, dtype: object"
      ]
     },
     "execution_count": 4,
     "metadata": {},
     "output_type": "execute_result"
    }
   ],
   "source": [
    "datas['icerik'][:5]"
   ]
  },
  {
   "cell_type": "code",
   "execution_count": 5,
   "id": "05ae6921",
   "metadata": {},
   "outputs": [],
   "source": [
    "X_train, X_test, y_train, y_test = train_test_split(datas.loc[:,'icerik'],datas.drop(['id','icerik'],axis=1), random_state=0)"
   ]
  },
  {
   "cell_type": "code",
   "execution_count": 6,
   "id": "e05920da",
   "metadata": {},
   "outputs": [
    {
     "data": {
      "text/plain": [
       "(1415,)"
      ]
     },
     "execution_count": 6,
     "metadata": {},
     "output_type": "execute_result"
    }
   ],
   "source": [
    "X_train.shape"
   ]
  },
  {
   "cell_type": "code",
   "execution_count": 7,
   "id": "fc466d5a",
   "metadata": {},
   "outputs": [
    {
     "data": {
      "text/plain": [
       "(1415, 8)"
      ]
     },
     "execution_count": 7,
     "metadata": {},
     "output_type": "execute_result"
    }
   ],
   "source": [
    "y_train.shape"
   ]
  },
  {
   "cell_type": "code",
   "execution_count": 8,
   "id": "ca01e655",
   "metadata": {},
   "outputs": [
    {
     "data": {
      "text/plain": [
       "(472,)"
      ]
     },
     "execution_count": 8,
     "metadata": {},
     "output_type": "execute_result"
    }
   ],
   "source": [
    "X_test.shape"
   ]
  },
  {
   "cell_type": "code",
   "execution_count": 9,
   "id": "72bca9a0",
   "metadata": {},
   "outputs": [
    {
     "data": {
      "text/plain": [
       "(472, 8)"
      ]
     },
     "execution_count": 9,
     "metadata": {},
     "output_type": "execute_result"
    }
   ],
   "source": [
    "y_test.shape"
   ]
  },
  {
   "cell_type": "code",
   "execution_count": 10,
   "id": "6d719ea6",
   "metadata": {},
   "outputs": [],
   "source": [
    "knn=KNeighborsClassifier(n_neighbors=1)"
   ]
  },
  {
   "cell_type": "code",
   "execution_count": 11,
   "id": "fc61327a",
   "metadata": {},
   "outputs": [],
   "source": [
    "z=[0,1,2,3,4,5,6,7]\n",
    "z[0]=datas.loc[:,'Gecikti veya Dağıtıma Çıkmadı']\n",
    "z[1]=datas.loc[:,'Evde yok notu düşüldü veya Kapıya Getirilmedi']\n",
    "z[2]=datas.loc[:,'Telefonlara Cevap Verilmedi']\n",
    "z[3]=datas.loc[:,'İade Süreci']\n",
    "z[4]=datas.loc[:,'Teslim Alınmadı veya Teslim Edilmedi']\n",
    "z[5]=datas.loc[:,'Kötü Diyalog Veya Saygısız Tutum']\n",
    "z[6]=datas.loc[:,'Hasarlı veya Kayıp Paket']\n",
    "z[7]=datas.loc[:,'Hijyen Kurallarına Uyulmadı']"
   ]
  },
  {
   "cell_type": "code",
   "execution_count": 12,
   "id": "7a122d77",
   "metadata": {},
   "outputs": [],
   "source": [
    "sikayetsayisi=len(datas)\n",
    "yontem=CountVectorizer"
   ]
  },
  {
   "cell_type": "code",
   "execution_count": null,
   "id": "0b69a226",
   "metadata": {},
   "outputs": [],
   "source": [
    "tks = '[A-Za-z0-9]+(?=\\\\s+)'\n",
    "\n",
    "\n",
    "pl = Pipeline([\n",
    "        ('vec', yontem(token_pattern = tks)),\n",
    "        ('clf', OneVsRestClassifier(LogisticRegression()))\n",
    "    ])\n",
    "\n",
    "pl.fit(X_train,y_train)"
   ]
  },
  {
   "cell_type": "code",
   "execution_count": null,
   "id": "e109698e",
   "metadata": {},
   "outputs": [],
   "source": [
    "test = datas.fillna(\"\")\n",
    "predictions = pl.predict_proba(test.icerik)"
   ]
  },
  {
   "cell_type": "code",
   "execution_count": null,
   "id": "5f0d59fe",
   "metadata": {},
   "outputs": [],
   "source": [
    "toplam=[0,0,0,0,0,0,0,0]\n",
    "ortalama=[0,0,0,0,0,0,0,0]\n",
    "for sutun in range (0,len(z)):\n",
    "    for i in range (0,len(predictions)):\n",
    "        toplam[sutun]=toplam[sutun]+predictions[i][sutun]\n",
    "    ortalama[sutun]=toplam[sutun]/len(predictions)"
   ]
  },
  {
   "cell_type": "code",
   "execution_count": null,
   "id": "3039d85a",
   "metadata": {},
   "outputs": [],
   "source": [
    "for i in range (0 , len(predictions)):\n",
    "    for j in range (0,len(z)):\n",
    "        if predictions[i][j] < ortalama[j]:\n",
    "            predictions[i][j] = 0\n",
    "        else:\n",
    "            predictions[i][j] = 1"
   ]
  },
  {
   "cell_type": "code",
   "execution_count": null,
   "id": "f06fa5a7",
   "metadata": {},
   "outputs": [],
   "source": [
    "# Format predictions in DataFrame: prediction_df\n",
    "prediction_df = pd.DataFrame(columns=y_test.columns, index=test.id, data=predictions)\n",
    "\n",
    "prediction_df.to_excel('predictions.xls')"
   ]
  },
  {
   "cell_type": "code",
   "execution_count": null,
   "id": "bc98faf0",
   "metadata": {},
   "outputs": [],
   "source": [
    "X_train"
   ]
  },
  {
   "cell_type": "code",
   "execution_count": null,
   "id": "15878caf",
   "metadata": {},
   "outputs": [],
   "source": [
    "X_test"
   ]
  },
  {
   "cell_type": "code",
   "execution_count": null,
   "id": "9cc01901",
   "metadata": {},
   "outputs": [],
   "source": [
    "y_train"
   ]
  },
  {
   "cell_type": "code",
   "execution_count": null,
   "id": "bcd62f60",
   "metadata": {},
   "outputs": [],
   "source": [
    "y_test"
   ]
  },
  {
   "cell_type": "code",
   "execution_count": null,
   "id": "c92958fa",
   "metadata": {
    "scrolled": true
   },
   "outputs": [],
   "source": [
    "clf = svm.SVC(kernel='linear', C=1).fit(X_train, y_train)"
   ]
  },
  {
   "cell_type": "code",
   "execution_count": null,
   "id": "3ca27b25",
   "metadata": {},
   "outputs": [],
   "source": [
    "clf.score(X_test, y_test)"
   ]
  }
 ],
 "metadata": {
  "kernelspec": {
   "display_name": "Python 3",
   "language": "python",
   "name": "python3"
  },
  "language_info": {
   "codemirror_mode": {
    "name": "ipython",
    "version": 3
   },
   "file_extension": ".py",
   "mimetype": "text/x-python",
   "name": "python",
   "nbconvert_exporter": "python",
   "pygments_lexer": "ipython3",
   "version": "3.7.2"
  }
 },
 "nbformat": 4,
 "nbformat_minor": 5
}
