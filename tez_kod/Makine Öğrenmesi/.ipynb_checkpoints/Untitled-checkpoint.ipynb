{
 "cells": [
  {
   "cell_type": "code",
   "execution_count": null,
   "id": "c722b8bf",
   "metadata": {},
   "outputs": [],
   "source": [
    "import numpy as np # linear algebra\n",
    "import pandas as pd # data processing, CSV file I/O (e.g. pd.read_csv)\n",
    "\n",
    "from sklearn.feature_extraction.text import HashingVectorizer\n",
    "from sklearn.feature_extraction.text import TfidfVectorizer\n",
    "from sklearn.feature_extraction.text import CountVectorizer\n",
    "from sklearn.linear_model import LogisticRegression\n",
    "from sklearn.multiclass import OneVsRestClassifier\n",
    "from sklearn.pipeline import Pipeline\n",
    "from sklearn.neighbors import KNeighborsClassifier\n",
    "from sklearn.model_selection import train_test_split \n",
    "from pandas.plotting import scatter_matrix\n",
    "from sklearn import svm"
   ]
  },
  {
   "cell_type": "code",
   "execution_count": null,
   "id": "0ece15de",
   "metadata": {},
   "outputs": [],
   "source": [
    "datas = pd.read_excel('input/train.xls')"
   ]
  },
  {
   "cell_type": "code",
   "execution_count": null,
   "id": "2749d1e8",
   "metadata": {},
   "outputs": [],
   "source": [
    "print(datas.info())"
   ]
  },
  {
   "cell_type": "code",
   "execution_count": null,
   "id": "cb380d87",
   "metadata": {},
   "outputs": [],
   "source": [
    "datas['icerik'][:5]"
   ]
  },
  {
   "cell_type": "code",
   "execution_count": null,
   "id": "cc161435",
   "metadata": {},
   "outputs": [],
   "source": [
    "X_train, X_test, y_train, y_test = train_test_split(datas.loc[:,'icerik'],datas.drop(['id','icerik'],axis=1), random_state=0)"
   ]
  },
  {
   "cell_type": "code",
   "execution_count": null,
   "id": "ec8e31a2",
   "metadata": {},
   "outputs": [],
   "source": [
    "X_train.shape"
   ]
  },
  {
   "cell_type": "code",
   "execution_count": null,
   "id": "2b247c1b",
   "metadata": {},
   "outputs": [],
   "source": [
    "y_train.shape"
   ]
  },
  {
   "cell_type": "code",
   "execution_count": null,
   "id": "64469847",
   "metadata": {},
   "outputs": [],
   "source": [
    "X_test.shape"
   ]
  },
  {
   "cell_type": "code",
   "execution_count": null,
   "id": "484ade04",
   "metadata": {},
   "outputs": [],
   "source": [
    "y_test.shape"
   ]
  },
  {
   "cell_type": "code",
   "execution_count": null,
   "id": "d157e54b",
   "metadata": {},
   "outputs": [],
   "source": [
    "z=[0,1,2,3,4,5,6,7]\n",
    "z[0]=datas.loc[:,'Gecikti veya Dağıtıma Çıkmadı']\n",
    "z[1]=datas.loc[:,'Evde yok notu düşüldü veya Kapıya Getirilmedi']\n",
    "z[2]=datas.loc[:,'Telefonlara Cevap Verilmedi']\n",
    "z[3]=datas.loc[:,'İade Süreci']\n",
    "z[4]=datas.loc[:,'Teslim Alınmadı veya Teslim Edilmedi']\n",
    "z[5]=datas.loc[:,'Kötü Diyalog Veya Saygısız Tutum']\n",
    "z[6]=datas.loc[:,'Hasarlı veya Kayıp Paket']\n",
    "z[7]=datas.loc[:,'Hijyen Kurallarına Uyulmadı']"
   ]
  },
  {
   "cell_type": "code",
   "execution_count": null,
   "id": "5d02e728",
   "metadata": {},
   "outputs": [],
   "source": [
    "numberofcomplaints=len(datas)\n",
    "numberofcomplaints"
   ]
  },
  {
   "cell_type": "code",
   "execution_count": null,
   "id": "cecc3456",
   "metadata": {},
   "outputs": [],
   "source": [
    "method=CountVectorizer"
   ]
  },
  {
   "cell_type": "code",
   "execution_count": null,
   "id": "78aa55a3",
   "metadata": {},
   "outputs": [],
   "source": [
    "tks = '[A-Za-z0-9]+(?=\\\\s+)'\n",
    "\n",
    "\n",
    "pl = Pipeline([\n",
    "        ('vec', method(token_pattern = tks)),\n",
    "        ('clf', OneVsRestClassifier(LogisticRegression()))\n",
    "    ])\n",
    "\n",
    "pl.fit(X_train,y_train)"
   ]
  },
  {
   "cell_type": "code",
   "execution_count": null,
   "id": "32c3cc5d",
   "metadata": {},
   "outputs": [],
   "source": [
    "test = datas.fillna(\"\")\n",
    "predictions = pl.predict_proba(test.icerik) # \"icerik\" means \"content\""
   ]
  },
  {
   "cell_type": "code",
   "execution_count": null,
   "id": "57c04077",
   "metadata": {},
   "outputs": [],
   "source": [
    "total=[0,0,0,0,0,0,0,0]\n",
    "average=[0,0,0,0,0,0,0,0]\n",
    "for column in range (0,len(z)):\n",
    "    for i in range (0,len(predictions)):\n",
    "        total[column]=total[column]+predictions[i][column]\n",
    "    average[column]=total[column]/len(predictions)"
   ]
  },
  {
   "cell_type": "code",
   "execution_count": null,
   "id": "73a88c81",
   "metadata": {},
   "outputs": [],
   "source": [
    "for i in range (0 , len(predictions)):\n",
    "    for j in range (0,len(z)):\n",
    "        if predictions[i][j] < average[j]:\n",
    "            predictions[i][j] = 0\n",
    "        else:\n",
    "            predictions[i][j] = 1"
   ]
  },
  {
   "cell_type": "code",
   "execution_count": null,
   "id": "716ae8d4",
   "metadata": {},
   "outputs": [],
   "source": [
    "# Format predictions in DataFrame: prediction_df\n",
    "prediction_df = pd.DataFrame(columns=y_test.columns, index=test.id, data=predictions)\n",
    "\n",
    "prediction_df.to_excel('predictions.xls')"
   ]
  },
  {
   "cell_type": "code",
   "execution_count": null,
   "id": "c405ad71",
   "metadata": {},
   "outputs": [],
   "source": [
    "predictions.shape"
   ]
  },
  {
   "cell_type": "code",
   "execution_count": null,
   "id": "0ee59657",
   "metadata": {},
   "outputs": [],
   "source": []
  },
  {
   "cell_type": "code",
   "execution_count": null,
   "id": "7b8e7d73",
   "metadata": {},
   "outputs": [],
   "source": [
    "X_train"
   ]
  },
  {
   "cell_type": "code",
   "execution_count": null,
   "id": "0727deb1",
   "metadata": {},
   "outputs": [],
   "source": [
    "X_test"
   ]
  },
  {
   "cell_type": "code",
   "execution_count": null,
   "id": "807a5f1e",
   "metadata": {},
   "outputs": [],
   "source": [
    "y_train"
   ]
  },
  {
   "cell_type": "code",
   "execution_count": null,
   "id": "b83377b3",
   "metadata": {},
   "outputs": [],
   "source": [
    "y_test"
   ]
  },
  {
   "cell_type": "code",
   "execution_count": null,
   "id": "ea99c41d",
   "metadata": {
    "scrolled": false
   },
   "outputs": [],
   "source": [
    "clf = svm.SVC(kernel='linear', C=1).fit(X_train, y_train)"
   ]
  },
  {
   "cell_type": "code",
   "execution_count": null,
   "id": "9ef9fb64",
   "metadata": {},
   "outputs": [],
   "source": [
    "clf.score(y_train, y_train)"
   ]
  },
  {
   "cell_type": "code",
   "execution_count": null,
   "id": "5bdee5f1",
   "metadata": {},
   "outputs": [],
   "source": [
    "clf.score(X_test, y_test)"
   ]
  },
  {
   "cell_type": "code",
   "execution_count": null,
   "id": "b413b8be",
   "metadata": {},
   "outputs": [],
   "source": []
  }
 ],
 "metadata": {
  "kernelspec": {
   "display_name": "Python 3",
   "language": "python",
   "name": "python3"
  },
  "language_info": {
   "codemirror_mode": {
    "name": "ipython",
    "version": 3
   },
   "file_extension": ".py",
   "mimetype": "text/x-python",
   "name": "python",
   "nbconvert_exporter": "python",
   "pygments_lexer": "ipython3",
   "version": "3.7.2"
  }
 },
 "nbformat": 4,
 "nbformat_minor": 5
}
