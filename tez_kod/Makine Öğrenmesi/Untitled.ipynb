{
 "cells": [
  {
   "cell_type": "code",
   "execution_count": 23,
   "id": "490ae5f8",
   "metadata": {},
   "outputs": [],
   "source": [
    "import numpy as np # linear algebra\n",
    "import pandas as pd # data processing, CSV file I/O (e.g. pd.read_csv)\n",
    "\n",
    "from sklearn.feature_extraction.text import HashingVectorizer\n",
    "from sklearn.feature_extraction.text import TfidfVectorizer\n",
    "from sklearn.feature_extraction.text import CountVectorizer\n",
    "from sklearn.linear_model import LogisticRegression\n",
    "from sklearn.multiclass import OneVsRestClassifier\n",
    "from sklearn.pipeline import Pipeline\n",
    "from sklearn.model_selection import train_test_split \n",
    "from pandas.plotting import scatter_matrix"
   ]
  },
  {
   "cell_type": "code",
   "execution_count": 24,
   "id": "dde6a250",
   "metadata": {},
   "outputs": [],
   "source": [
    "datas = pd.read_excel('input/train.xls')"
   ]
  },
  {
   "cell_type": "code",
   "execution_count": 25,
   "id": "590570d6",
   "metadata": {},
   "outputs": [
    {
     "name": "stdout",
     "output_type": "stream",
     "text": [
      "<class 'pandas.core.frame.DataFrame'>\n",
      "RangeIndex: 1887 entries, 0 to 1886\n",
      "Data columns (total 10 columns):\n",
      " #   Column                                         Non-Null Count  Dtype \n",
      "---  ------                                         --------------  ----- \n",
      " 0   id                                             1887 non-null   int64 \n",
      " 1   icerik                                         1887 non-null   object\n",
      " 2   Gecikti veya Dağıtıma Çıkmadı                  1887 non-null   int64 \n",
      " 3   Evde yok notu düşüldü veya Kapıya Getirilmedi  1887 non-null   int64 \n",
      " 4   Telefonlara Cevap Verilmedi                    1887 non-null   int64 \n",
      " 5   İade Süreci                                    1887 non-null   int64 \n",
      " 6   Teslim Alınmadı veya Teslim Edilmedi           1887 non-null   int64 \n",
      " 7   Kötü Diyalog Veya Saygısız Tutum               1887 non-null   int64 \n",
      " 8   Hasarlı veya Kayıp Paket                       1887 non-null   int64 \n",
      " 9   Hijyen Kurallarına Uyulmadı                    1887 non-null   int64 \n",
      "dtypes: int64(9), object(1)\n",
      "memory usage: 140.1+ KB\n",
      "None\n"
     ]
    }
   ],
   "source": [
    "print(datas.info())"
   ]
  },
  {
   "cell_type": "code",
   "execution_count": 26,
   "id": "db9a7903",
   "metadata": {},
   "outputs": [
    {
     "data": {
      "text/plain": [
       "0    Sürat Kargo Gülnur Korkmaz İşitme Engelliyim--...\n",
       "1    MNG Kargo Teslimat Yapmamak İçin Ellerinden Ge...\n",
       "2    PTT Kargo Covid Önlemleri Alınmıyor--> PTT Kar...\n",
       "3    PTT Kargo Ürünü Adrese Getirmeme, Müşteri Hizm...\n",
       "4    Aras Kargo Kargom Yola Çıkmıyor--> Şubeye gitt...\n",
       "Name: icerik, dtype: object"
      ]
     },
     "execution_count": 26,
     "metadata": {},
     "output_type": "execute_result"
    }
   ],
   "source": [
    "datas['icerik'][:5]"
   ]
  },
  {
   "cell_type": "code",
   "execution_count": 27,
   "id": "08706d35",
   "metadata": {},
   "outputs": [],
   "source": [
    "X_egitim, X_test, y_egitim, y_test = train_test_split(datas.loc[:,'icerik'],datas.drop(['id','icerik'],axis=1), random_state=0)"
   ]
  },
  {
   "cell_type": "code",
   "execution_count": 28,
   "id": "259b8105",
   "metadata": {},
   "outputs": [
    {
     "data": {
      "text/plain": [
       "(1415,)"
      ]
     },
     "execution_count": 28,
     "metadata": {},
     "output_type": "execute_result"
    }
   ],
   "source": [
    "X_egitim.shape"
   ]
  },
  {
   "cell_type": "code",
   "execution_count": 29,
   "id": "59948198",
   "metadata": {},
   "outputs": [
    {
     "data": {
      "text/plain": [
       "(1415, 8)"
      ]
     },
     "execution_count": 29,
     "metadata": {},
     "output_type": "execute_result"
    }
   ],
   "source": [
    "y_egitim.shape"
   ]
  },
  {
   "cell_type": "code",
   "execution_count": 30,
   "id": "cfaae5ed",
   "metadata": {},
   "outputs": [
    {
     "data": {
      "text/plain": [
       "(472,)"
      ]
     },
     "execution_count": 30,
     "metadata": {},
     "output_type": "execute_result"
    }
   ],
   "source": [
    "X_test.shape"
   ]
  },
  {
   "cell_type": "code",
   "execution_count": 31,
   "id": "83723e36",
   "metadata": {},
   "outputs": [
    {
     "data": {
      "text/plain": [
       "(472, 8)"
      ]
     },
     "execution_count": 31,
     "metadata": {},
     "output_type": "execute_result"
    }
   ],
   "source": [
    "y_test.shape"
   ]
  },
  {
   "cell_type": "code",
   "execution_count": 32,
   "id": "4d710bcb",
   "metadata": {},
   "outputs": [],
   "source": [
    "from sklearn.neighbors import KNeighborsClassifier\n",
    "knn=KNeighborsClassifier(n_neighbors=1)"
   ]
  },
  {
   "cell_type": "code",
   "execution_count": 33,
   "id": "b4d6bb11",
   "metadata": {},
   "outputs": [],
   "source": [
    "z=[0,1,2,3,4,5,6,7]\n",
    "z[0]=datas.loc[:,'Gecikti veya Dağıtıma Çıkmadı']\n",
    "z[1]=datas.loc[:,'Evde yok notu düşüldü veya Kapıya Getirilmedi']\n",
    "z[2]=datas.loc[:,'Telefonlara Cevap Verilmedi']\n",
    "z[3]=datas.loc[:,'İade Süreci']\n",
    "z[4]=datas.loc[:,'Teslim Alınmadı veya Teslim Edilmedi']\n",
    "z[5]=datas.loc[:,'Kötü Diyalog Veya Saygısız Tutum']\n",
    "z[6]=datas.loc[:,'Hasarlı veya Kayıp Paket']\n",
    "z[7]=datas.loc[:,'Hijyen Kurallarına Uyulmadı']"
   ]
  },
  {
   "cell_type": "code",
   "execution_count": 34,
   "id": "df48e3aa",
   "metadata": {},
   "outputs": [],
   "source": [
    "sikayetsayisi=len(datas)\n",
    "yontem=HashingVectorizer"
   ]
  },
  {
   "cell_type": "code",
   "execution_count": 35,
   "id": "0125bbf9",
   "metadata": {},
   "outputs": [
    {
     "data": {
      "text/plain": [
       "Pipeline(steps=[('vec',\n",
       "                 HashingVectorizer(token_pattern='[A-Za-z0-9]+(?=\\\\s+)')),\n",
       "                ('clf', OneVsRestClassifier(estimator=LogisticRegression()))])"
      ]
     },
     "execution_count": 35,
     "metadata": {},
     "output_type": "execute_result"
    }
   ],
   "source": [
    "tks = '[A-Za-z0-9]+(?=\\\\s+)'\n",
    "\n",
    "\n",
    "pl = Pipeline([\n",
    "        ('vec', yontem(token_pattern = tks)),\n",
    "        ('clf', OneVsRestClassifier(LogisticRegression()))\n",
    "    ])\n",
    "\n",
    "pl.fit(X_egitim,y_egitim)"
   ]
  },
  {
   "cell_type": "code",
   "execution_count": 36,
   "id": "06943ba0",
   "metadata": {},
   "outputs": [],
   "source": [
    "test = datas.fillna(\"\")\n",
    "predictions = pl.predict_proba(test.icerik)"
   ]
  },
  {
   "cell_type": "code",
   "execution_count": 37,
   "id": "71ddd890",
   "metadata": {},
   "outputs": [],
   "source": [
    "toplam=[0,0,0,0,0,0,0,0]\n",
    "ortalama=[0,0,0,0,0,0,0,0]\n",
    "for sutun in range (0,len(z)):\n",
    "    for i in range (0,len(predictions)):\n",
    "        toplam[sutun]=toplam[sutun]+predictions[i][sutun]\n",
    "    ortalama[sutun]=toplam[sutun]/len(predictions)"
   ]
  },
  {
   "cell_type": "code",
   "execution_count": 38,
   "id": "dbe0ce48",
   "metadata": {},
   "outputs": [],
   "source": [
    "for i in range (0 , len(predictions)):\n",
    "    for j in range (0,len(z)):\n",
    "        if predictions[i][j] < ortalama[j]:\n",
    "            predictions[i][j] = 0\n",
    "        else:\n",
    "            predictions[i][j] = 1"
   ]
  },
  {
   "cell_type": "code",
   "execution_count": 39,
   "id": "99fef608",
   "metadata": {},
   "outputs": [
    {
     "ename": "AttributeError",
     "evalue": "'Series' object has no attribute 'columns'",
     "output_type": "error",
     "traceback": [
      "\u001b[1;31m---------------------------------------------\u001b[0m",
      "\u001b[1;31mAttributeError\u001b[0mTraceback (most recent call last)",
      "\u001b[1;32m<ipython-input-39-29f18ef66d9e>\u001b[0m in \u001b[0;36m<module>\u001b[1;34m\u001b[0m\n\u001b[0;32m      1\u001b[0m \u001b[1;31m# Format predictions in DataFrame: prediction_df\u001b[0m\u001b[1;33m\u001b[0m\u001b[1;33m\u001b[0m\u001b[1;33m\u001b[0m\u001b[0m\n\u001b[1;32m----> 2\u001b[1;33m \u001b[0mprediction_df\u001b[0m \u001b[1;33m=\u001b[0m \u001b[0mpd\u001b[0m\u001b[1;33m.\u001b[0m\u001b[0mDataFrame\u001b[0m\u001b[1;33m(\u001b[0m\u001b[0mcolumns\u001b[0m\u001b[1;33m=\u001b[0m\u001b[0mX_test\u001b[0m\u001b[1;33m.\u001b[0m\u001b[0mcolumns\u001b[0m\u001b[1;33m,\u001b[0m \u001b[0mindex\u001b[0m\u001b[1;33m=\u001b[0m\u001b[0mtest\u001b[0m\u001b[1;33m.\u001b[0m\u001b[0mid\u001b[0m\u001b[1;33m,\u001b[0m \u001b[0mdata\u001b[0m\u001b[1;33m=\u001b[0m\u001b[0mpredictions\u001b[0m\u001b[1;33m)\u001b[0m\u001b[1;33m\u001b[0m\u001b[1;33m\u001b[0m\u001b[0m\n\u001b[0m\u001b[0;32m      3\u001b[0m \u001b[1;33m\u001b[0m\u001b[0m\n\u001b[0;32m      4\u001b[0m \u001b[0mprediction_df\u001b[0m\u001b[1;33m.\u001b[0m\u001b[0mto_excel\u001b[0m\u001b[1;33m(\u001b[0m\u001b[1;34m'predictions.xls'\u001b[0m\u001b[1;33m)\u001b[0m\u001b[1;33m\u001b[0m\u001b[1;33m\u001b[0m\u001b[0m\n",
      "\u001b[1;32mc:\\users\\tkpc\\appdata\\local\\programs\\python\\python37-32\\lib\\site-packages\\pandas\\core\\generic.py\u001b[0m in \u001b[0;36m__getattr__\u001b[1;34m(self, name)\u001b[0m\n\u001b[0;32m   5134\u001b[0m             \u001b[1;32mif\u001b[0m \u001b[0mself\u001b[0m\u001b[1;33m.\u001b[0m\u001b[0m_info_axis\u001b[0m\u001b[1;33m.\u001b[0m\u001b[0m_can_hold_identifiers_and_holds_name\u001b[0m\u001b[1;33m(\u001b[0m\u001b[0mname\u001b[0m\u001b[1;33m)\u001b[0m\u001b[1;33m:\u001b[0m\u001b[1;33m\u001b[0m\u001b[1;33m\u001b[0m\u001b[0m\n\u001b[0;32m   5135\u001b[0m                 \u001b[1;32mreturn\u001b[0m \u001b[0mself\u001b[0m\u001b[1;33m[\u001b[0m\u001b[0mname\u001b[0m\u001b[1;33m]\u001b[0m\u001b[1;33m\u001b[0m\u001b[1;33m\u001b[0m\u001b[0m\n\u001b[1;32m-> 5136\u001b[1;33m             \u001b[1;32mreturn\u001b[0m \u001b[0mobject\u001b[0m\u001b[1;33m.\u001b[0m\u001b[0m__getattribute__\u001b[0m\u001b[1;33m(\u001b[0m\u001b[0mself\u001b[0m\u001b[1;33m,\u001b[0m \u001b[0mname\u001b[0m\u001b[1;33m)\u001b[0m\u001b[1;33m\u001b[0m\u001b[1;33m\u001b[0m\u001b[0m\n\u001b[0m\u001b[0;32m   5137\u001b[0m \u001b[1;33m\u001b[0m\u001b[0m\n\u001b[0;32m   5138\u001b[0m     \u001b[1;32mdef\u001b[0m \u001b[0m__setattr__\u001b[0m\u001b[1;33m(\u001b[0m\u001b[0mself\u001b[0m\u001b[1;33m,\u001b[0m \u001b[0mname\u001b[0m\u001b[1;33m:\u001b[0m \u001b[0mstr\u001b[0m\u001b[1;33m,\u001b[0m \u001b[0mvalue\u001b[0m\u001b[1;33m)\u001b[0m \u001b[1;33m->\u001b[0m \u001b[1;32mNone\u001b[0m\u001b[1;33m:\u001b[0m\u001b[1;33m\u001b[0m\u001b[1;33m\u001b[0m\u001b[0m\n",
      "\u001b[1;31mAttributeError\u001b[0m: 'Series' object has no attribute 'columns'"
     ]
    }
   ],
   "source": [
    "# Format predictions in DataFrame: prediction_df\n",
    "prediction_df = pd.DataFrame(columns=X_test.columns, index=test.id, data=predictions)\n",
    "\n",
    "prediction_df.to_excel('predictions.xls')"
   ]
  },
  {
   "cell_type": "code",
   "execution_count": null,
   "id": "edf902e3",
   "metadata": {},
   "outputs": [],
   "source": []
  }
 ],
 "metadata": {
  "kernelspec": {
   "display_name": "Python 3",
   "language": "python",
   "name": "python3"
  }
 },
 "nbformat": 4,
 "nbformat_minor": 5
}
