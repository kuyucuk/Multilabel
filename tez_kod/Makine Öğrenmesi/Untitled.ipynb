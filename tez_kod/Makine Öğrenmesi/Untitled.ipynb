{
 "cells": [
  {
   "cell_type": "code",
   "execution_count": null,
   "id": "7ecae512",
   "metadata": {},
   "outputs": [],
   "source": [
    "import numpy as np # linear algebra\n",
    "import pandas as pd # data processing, CSV file I/O (e.g. pd.read_csv)\n",
    "\n",
    "from sklearn.feature_extraction.text import HashingVectorizer\n",
    "from sklearn.feature_extraction.text import TfidfVectorizer\n",
    "from sklearn.feature_extraction.text import CountVectorizer\n",
    "from sklearn.linear_model import LogisticRegression\n",
    "from sklearn.multiclass import OneVsRestClassifier\n",
    "from sklearn.pipeline import Pipeline\n",
    "from sklearn.neighbors import KNeighborsClassifier\n",
    "from sklearn.model_selection import train_test_split \n",
    "from pandas.plotting import scatter_matrix\n",
    "from sklearn import svm"
   ]
  },
  {
   "cell_type": "code",
   "execution_count": null,
   "id": "b7df3d02",
   "metadata": {},
   "outputs": [],
   "source": [
    "datas = pd.read_excel('input/train.xls')"
   ]
  },
  {
   "cell_type": "code",
   "execution_count": null,
   "id": "65dc2fbc",
   "metadata": {},
   "outputs": [],
   "source": [
    "print(datas.info())"
   ]
  },
  {
   "cell_type": "code",
   "execution_count": null,
   "id": "249106e6",
   "metadata": {},
   "outputs": [],
   "source": [
    "datas['icerik'][:5]"
   ]
  },
  {
   "cell_type": "code",
   "execution_count": null,
   "id": "304a6f75",
   "metadata": {},
   "outputs": [],
   "source": [
    "X_train, X_test, y_train, y_test = train_test_split(datas.loc[:,'icerik'],datas.drop(['id','icerik'],axis=1), random_state=0)"
   ]
  },
  {
   "cell_type": "code",
   "execution_count": null,
   "id": "c4da16c6",
   "metadata": {},
   "outputs": [],
   "source": [
    "X_train.shape"
   ]
  },
  {
   "cell_type": "code",
   "execution_count": null,
   "id": "8c9db093",
   "metadata": {},
   "outputs": [],
   "source": [
    "y_train.shape"
   ]
  },
  {
   "cell_type": "code",
   "execution_count": null,
   "id": "4cee7cad",
   "metadata": {},
   "outputs": [],
   "source": [
    "X_test.shape"
   ]
  },
  {
   "cell_type": "code",
   "execution_count": null,
   "id": "d0f3758a",
   "metadata": {},
   "outputs": [],
   "source": [
    "y_test.shape"
   ]
  },
  {
   "cell_type": "code",
   "execution_count": null,
   "id": "6274a9c1",
   "metadata": {},
   "outputs": [],
   "source": [
    "knn=KNeighborsClassifier(n_neighbors=1)"
   ]
  },
  {
   "cell_type": "code",
   "execution_count": null,
   "id": "44de631e",
   "metadata": {},
   "outputs": [],
   "source": [
    "z=[0,1,2,3,4,5,6,7]\n",
    "z[0]=datas.loc[:,'Gecikti veya Dağıtıma Çıkmadı']\n",
    "z[1]=datas.loc[:,'Evde yok notu düşüldü veya Kapıya Getirilmedi']\n",
    "z[2]=datas.loc[:,'Telefonlara Cevap Verilmedi']\n",
    "z[3]=datas.loc[:,'İade Süreci']\n",
    "z[4]=datas.loc[:,'Teslim Alınmadı veya Teslim Edilmedi']\n",
    "z[5]=datas.loc[:,'Kötü Diyalog Veya Saygısız Tutum']\n",
    "z[6]=datas.loc[:,'Hasarlı veya Kayıp Paket']\n",
    "z[7]=datas.loc[:,'Hijyen Kurallarına Uyulmadı']"
   ]
  },
  {
   "cell_type": "code",
   "execution_count": null,
   "id": "f7ac461a",
   "metadata": {},
   "outputs": [],
   "source": [
    "sikayetsayisi=len(datas)\n",
    "yontem=HashingVectorizer"
   ]
  },
  {
   "cell_type": "code",
   "execution_count": null,
   "id": "f9138ddc",
   "metadata": {},
   "outputs": [],
   "source": [
    "tks = '[A-Za-z0-9]+(?=\\\\s+)'\n",
    "\n",
    "\n",
    "pl = Pipeline([\n",
    "        ('vec', yontem(token_pattern = tks)),\n",
    "        ('clf', OneVsRestClassifier(LogisticRegression()))\n",
    "    ])\n",
    "\n",
    "pl.fit(X_train,y_train)"
   ]
  },
  {
   "cell_type": "code",
   "execution_count": null,
   "id": "2baaec99",
   "metadata": {},
   "outputs": [],
   "source": [
    "test = datas.fillna(\"\")\n",
    "predictions = pl.predict_proba(test.icerik)"
   ]
  },
  {
   "cell_type": "code",
   "execution_count": null,
   "id": "1a70381b",
   "metadata": {},
   "outputs": [],
   "source": [
    "toplam=[0,0,0,0,0,0,0,0]\n",
    "ortalama=[0,0,0,0,0,0,0,0]\n",
    "for sutun in range (0,len(z)):\n",
    "    for i in range (0,len(predictions)):\n",
    "        toplam[sutun]=toplam[sutun]+predictions[i][sutun]\n",
    "    ortalama[sutun]=toplam[sutun]/len(predictions)"
   ]
  },
  {
   "cell_type": "code",
   "execution_count": null,
   "id": "8706ec59",
   "metadata": {},
   "outputs": [],
   "source": [
    "for i in range (0 , len(predictions)):\n",
    "    for j in range (0,len(z)):\n",
    "        if predictions[i][j] < ortalama[j]:\n",
    "            predictions[i][j] = 0\n",
    "        else:\n",
    "            predictions[i][j] = 1"
   ]
  },
  {
   "cell_type": "code",
   "execution_count": null,
   "id": "7582396f",
   "metadata": {},
   "outputs": [],
   "source": [
    "# Format predictions in DataFrame: prediction_df\n",
    "prediction_df = pd.DataFrame(columns=y_test.columns, index=test.id, data=predictions)\n",
    "\n",
    "prediction_df.to_excel('predictions.xls')"
   ]
  },
  {
   "cell_type": "code",
   "execution_count": null,
   "id": "cfce2a15",
   "metadata": {},
   "outputs": [],
   "source": [
    "X_train"
   ]
  },
  {
   "cell_type": "code",
   "execution_count": null,
   "id": "c829e136",
   "metadata": {},
   "outputs": [],
   "source": [
    "X_test"
   ]
  },
  {
   "cell_type": "code",
   "execution_count": null,
   "id": "f1847bf5",
   "metadata": {},
   "outputs": [],
   "source": [
    "y_train"
   ]
  },
  {
   "cell_type": "code",
   "execution_count": null,
   "id": "4673b534",
   "metadata": {},
   "outputs": [],
   "source": [
    "y_test"
   ]
  },
  {
   "cell_type": "code",
   "execution_count": null,
   "id": "31aade70",
   "metadata": {
    "scrolled": true
   },
   "outputs": [],
   "source": [
    "clf = svm.SVC(kernel='linear', C=1).fit(X_train, y_train)"
   ]
  },
  {
   "cell_type": "code",
   "execution_count": null,
   "id": "650cde1f",
   "metadata": {},
   "outputs": [],
   "source": [
    "clf.score(X_test, y_test)"
   ]
  }
 ],
 "metadata": {
  "kernelspec": {
   "display_name": "Python 3",
   "language": "python",
   "name": "python3"
  },
  "language_info": {
   "codemirror_mode": {
    "name": "ipython",
    "version": 3
   },
   "file_extension": ".py",
   "mimetype": "text/x-python",
   "name": "python",
   "nbconvert_exporter": "python",
   "pygments_lexer": "ipython3",
   "version": "3.7.2"
  }
 },
 "nbformat": 4,
 "nbformat_minor": 5
}
