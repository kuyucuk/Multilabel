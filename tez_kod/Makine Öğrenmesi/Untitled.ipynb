{
 "cells": [
  {
   "cell_type": "code",
   "execution_count": 129,
   "id": "c1ed383b",
   "metadata": {},
   "outputs": [],
   "source": [
    "import numpy as np # linear algebra\n",
    "import pandas as pd # data processing, CSV file I/O (e.g. pd.read_csv)\n",
    "\n",
    "from sklearn.feature_extraction.text import HashingVectorizer\n",
    "from sklearn.feature_extraction.text import TfidfVectorizer\n",
    "from sklearn.feature_extraction.text import CountVectorizer\n",
    "from sklearn.linear_model import LogisticRegression\n",
    "from sklearn.multiclass import OneVsRestClassifier\n",
    "from sklearn.pipeline import Pipeline\n",
    "from sklearn.neighbors import KNeighborsClassifier\n",
    "from sklearn.model_selection import train_test_split \n",
    "from pandas.plotting import scatter_matrix\n",
    "from sklearn import svm"
   ]
  },
  {
   "cell_type": "code",
   "execution_count": 130,
   "id": "e7c7481b",
   "metadata": {},
   "outputs": [],
   "source": [
    "datas = pd.read_excel('input/train.xls')"
   ]
  },
  {
   "cell_type": "code",
   "execution_count": 131,
   "id": "ae98933a",
   "metadata": {},
   "outputs": [
    {
     "name": "stdout",
     "output_type": "stream",
     "text": [
      "<class 'pandas.core.frame.DataFrame'>\n",
      "RangeIndex: 1887 entries, 0 to 1886\n",
      "Data columns (total 10 columns):\n",
      " #   Column                                         Non-Null Count  Dtype \n",
      "---  ------                                         --------------  ----- \n",
      " 0   id                                             1887 non-null   int64 \n",
      " 1   icerik                                         1887 non-null   object\n",
      " 2   Gecikti veya Dağıtıma Çıkmadı                  1887 non-null   int64 \n",
      " 3   Evde yok notu düşüldü veya Kapıya Getirilmedi  1887 non-null   int64 \n",
      " 4   Telefonlara Cevap Verilmedi                    1887 non-null   int64 \n",
      " 5   İade Süreci                                    1887 non-null   int64 \n",
      " 6   Teslim Alınmadı veya Teslim Edilmedi           1887 non-null   int64 \n",
      " 7   Kötü Diyalog Veya Saygısız Tutum               1887 non-null   int64 \n",
      " 8   Hasarlı veya Kayıp Paket                       1887 non-null   int64 \n",
      " 9   Hijyen Kurallarına Uyulmadı                    1887 non-null   int64 \n",
      "dtypes: int64(9), object(1)\n",
      "memory usage: 140.1+ KB\n",
      "None\n"
     ]
    }
   ],
   "source": [
    "print(datas.info())"
   ]
  },
  {
   "cell_type": "code",
   "execution_count": 132,
   "id": "818c83ab",
   "metadata": {},
   "outputs": [
    {
     "data": {
      "text/plain": [
       "0    Sürat Kargo Gülnur Korkmaz İşitme Engelliyim--...\n",
       "1    MNG Kargo Teslimat Yapmamak İçin Ellerinden Ge...\n",
       "2    PTT Kargo Covid Önlemleri Alınmıyor--> PTT Kar...\n",
       "3    PTT Kargo Ürünü Adrese Getirmeme, Müşteri Hizm...\n",
       "4    Aras Kargo Kargom Yola Çıkmıyor--> Şubeye gitt...\n",
       "Name: icerik, dtype: object"
      ]
     },
     "execution_count": 132,
     "metadata": {},
     "output_type": "execute_result"
    }
   ],
   "source": [
    "datas['icerik'][:5]"
   ]
  },
  {
   "cell_type": "code",
   "execution_count": 133,
   "id": "b80d1929",
   "metadata": {},
   "outputs": [],
   "source": [
    "X_train, X_test, y_train, y_test = train_test_split(datas.loc[:,'icerik'],datas.drop(['id','icerik'],axis=1), random_state=0)"
   ]
  },
  {
   "cell_type": "code",
   "execution_count": 134,
   "id": "39dbf38f",
   "metadata": {},
   "outputs": [
    {
     "data": {
      "text/plain": [
       "(1415,)"
      ]
     },
     "execution_count": 134,
     "metadata": {},
     "output_type": "execute_result"
    }
   ],
   "source": [
    "X_train.shape"
   ]
  },
  {
   "cell_type": "code",
   "execution_count": 135,
   "id": "0fad3b98",
   "metadata": {},
   "outputs": [
    {
     "data": {
      "text/plain": [
       "(1415, 8)"
      ]
     },
     "execution_count": 135,
     "metadata": {},
     "output_type": "execute_result"
    }
   ],
   "source": [
    "y_train.shape"
   ]
  },
  {
   "cell_type": "code",
   "execution_count": 136,
   "id": "51225d92",
   "metadata": {},
   "outputs": [
    {
     "data": {
      "text/plain": [
       "(472,)"
      ]
     },
     "execution_count": 136,
     "metadata": {},
     "output_type": "execute_result"
    }
   ],
   "source": [
    "X_test.shape"
   ]
  },
  {
   "cell_type": "code",
   "execution_count": 137,
   "id": "cf6085b5",
   "metadata": {},
   "outputs": [
    {
     "data": {
      "text/plain": [
       "(472, 8)"
      ]
     },
     "execution_count": 137,
     "metadata": {},
     "output_type": "execute_result"
    }
   ],
   "source": [
    "y_test.shape"
   ]
  },
  {
   "cell_type": "code",
   "execution_count": 138,
   "id": "44da4d96",
   "metadata": {},
   "outputs": [],
   "source": [
    "z=[0,1,2,3,4,5,6,7]\n",
    "z[0]=datas.loc[:,'Gecikti veya Dağıtıma Çıkmadı']\n",
    "z[1]=datas.loc[:,'Evde yok notu düşüldü veya Kapıya Getirilmedi']\n",
    "z[2]=datas.loc[:,'Telefonlara Cevap Verilmedi']\n",
    "z[3]=datas.loc[:,'İade Süreci']\n",
    "z[4]=datas.loc[:,'Teslim Alınmadı veya Teslim Edilmedi']\n",
    "z[5]=datas.loc[:,'Kötü Diyalog Veya Saygısız Tutum']\n",
    "z[6]=datas.loc[:,'Hasarlı veya Kayıp Paket']\n",
    "z[7]=datas.loc[:,'Hijyen Kurallarına Uyulmadı']"
   ]
  },
  {
   "cell_type": "code",
   "execution_count": 139,
   "id": "a9e37309",
   "metadata": {},
   "outputs": [],
   "source": [
    "sikayetsayisi=len(datas)\n",
    "yontem=CountVectorizer"
   ]
  },
  {
   "cell_type": "code",
   "execution_count": 140,
   "id": "adafe04c",
   "metadata": {},
   "outputs": [
    {
     "name": "stderr",
     "output_type": "stream",
     "text": [
      "c:\\users\\tkpc\\appdata\\local\\programs\\python\\python37-32\\lib\\site-packages\\sklearn\\linear_model\\_logistic.py:764: ConvergenceWarning: lbfgs failed to converge (status=1):\n",
      "STOP: TOTAL NO. of ITERATIONS REACHED LIMIT.\n",
      "\n",
      "Increase the number of iterations (max_iter) or scale the data as shown in:\n",
      "    https://scikit-learn.org/stable/modules/preprocessing.html\n",
      "Please also refer to the documentation for alternative solver options:\n",
      "    https://scikit-learn.org/stable/modules/linear_model.html#logistic-regression\n",
      "  extra_warning_msg=_LOGISTIC_SOLVER_CONVERGENCE_MSG)\n",
      "c:\\users\\tkpc\\appdata\\local\\programs\\python\\python37-32\\lib\\site-packages\\sklearn\\linear_model\\_logistic.py:764: ConvergenceWarning: lbfgs failed to converge (status=1):\n",
      "STOP: TOTAL NO. of ITERATIONS REACHED LIMIT.\n",
      "\n",
      "Increase the number of iterations (max_iter) or scale the data as shown in:\n",
      "    https://scikit-learn.org/stable/modules/preprocessing.html\n",
      "Please also refer to the documentation for alternative solver options:\n",
      "    https://scikit-learn.org/stable/modules/linear_model.html#logistic-regression\n",
      "  extra_warning_msg=_LOGISTIC_SOLVER_CONVERGENCE_MSG)\n",
      "c:\\users\\tkpc\\appdata\\local\\programs\\python\\python37-32\\lib\\site-packages\\sklearn\\linear_model\\_logistic.py:764: ConvergenceWarning: lbfgs failed to converge (status=1):\n",
      "STOP: TOTAL NO. of ITERATIONS REACHED LIMIT.\n",
      "\n",
      "Increase the number of iterations (max_iter) or scale the data as shown in:\n",
      "    https://scikit-learn.org/stable/modules/preprocessing.html\n",
      "Please also refer to the documentation for alternative solver options:\n",
      "    https://scikit-learn.org/stable/modules/linear_model.html#logistic-regression\n",
      "  extra_warning_msg=_LOGISTIC_SOLVER_CONVERGENCE_MSG)\n",
      "c:\\users\\tkpc\\appdata\\local\\programs\\python\\python37-32\\lib\\site-packages\\sklearn\\linear_model\\_logistic.py:764: ConvergenceWarning: lbfgs failed to converge (status=1):\n",
      "STOP: TOTAL NO. of ITERATIONS REACHED LIMIT.\n",
      "\n",
      "Increase the number of iterations (max_iter) or scale the data as shown in:\n",
      "    https://scikit-learn.org/stable/modules/preprocessing.html\n",
      "Please also refer to the documentation for alternative solver options:\n",
      "    https://scikit-learn.org/stable/modules/linear_model.html#logistic-regression\n",
      "  extra_warning_msg=_LOGISTIC_SOLVER_CONVERGENCE_MSG)\n",
      "c:\\users\\tkpc\\appdata\\local\\programs\\python\\python37-32\\lib\\site-packages\\sklearn\\linear_model\\_logistic.py:764: ConvergenceWarning: lbfgs failed to converge (status=1):\n",
      "STOP: TOTAL NO. of ITERATIONS REACHED LIMIT.\n",
      "\n",
      "Increase the number of iterations (max_iter) or scale the data as shown in:\n",
      "    https://scikit-learn.org/stable/modules/preprocessing.html\n",
      "Please also refer to the documentation for alternative solver options:\n",
      "    https://scikit-learn.org/stable/modules/linear_model.html#logistic-regression\n",
      "  extra_warning_msg=_LOGISTIC_SOLVER_CONVERGENCE_MSG)\n",
      "c:\\users\\tkpc\\appdata\\local\\programs\\python\\python37-32\\lib\\site-packages\\sklearn\\linear_model\\_logistic.py:764: ConvergenceWarning: lbfgs failed to converge (status=1):\n",
      "STOP: TOTAL NO. of ITERATIONS REACHED LIMIT.\n",
      "\n",
      "Increase the number of iterations (max_iter) or scale the data as shown in:\n",
      "    https://scikit-learn.org/stable/modules/preprocessing.html\n",
      "Please also refer to the documentation for alternative solver options:\n",
      "    https://scikit-learn.org/stable/modules/linear_model.html#logistic-regression\n",
      "  extra_warning_msg=_LOGISTIC_SOLVER_CONVERGENCE_MSG)\n"
     ]
    },
    {
     "data": {
      "text/plain": [
       "Pipeline(steps=[('vec', CountVectorizer(token_pattern='[A-Za-z0-9]+(?=\\\\s+)')),\n",
       "                ('clf', OneVsRestClassifier(estimator=LogisticRegression()))])"
      ]
     },
     "execution_count": 140,
     "metadata": {},
     "output_type": "execute_result"
    }
   ],
   "source": [
    "tks = '[A-Za-z0-9]+(?=\\\\s+)'\n",
    "\n",
    "\n",
    "pl = Pipeline([\n",
    "        ('vec', yontem(token_pattern = tks)),\n",
    "        ('clf', OneVsRestClassifier(LogisticRegression()))\n",
    "    ])\n",
    "\n",
    "pl.fit(X_train,y_train)"
   ]
  },
  {
   "cell_type": "code",
   "execution_count": 141,
   "id": "358cf396",
   "metadata": {},
   "outputs": [],
   "source": [
    "test = datas.fillna(\"\")\n",
    "predictions = pl.predict_proba(test.icerik)"
   ]
  },
  {
   "cell_type": "code",
   "execution_count": 142,
   "id": "0ed2eb1f",
   "metadata": {},
   "outputs": [],
   "source": [
    "toplam=[0,0,0,0,0,0,0,0]\n",
    "ortalama=[0,0,0,0,0,0,0,0]\n",
    "for sutun in range (0,len(z)):\n",
    "    for i in range (0,len(predictions)):\n",
    "        toplam[sutun]=toplam[sutun]+predictions[i][sutun]\n",
    "    ortalama[sutun]=toplam[sutun]/len(predictions)"
   ]
  },
  {
   "cell_type": "code",
   "execution_count": 143,
   "id": "b6380bcb",
   "metadata": {},
   "outputs": [],
   "source": [
    "for i in range (0 , len(predictions)):\n",
    "    for j in range (0,len(z)):\n",
    "        if predictions[i][j] < ortalama[j]:\n",
    "            predictions[i][j] = 0\n",
    "        else:\n",
    "            predictions[i][j] = 1"
   ]
  },
  {
   "cell_type": "code",
   "execution_count": 144,
   "id": "d4f65b23",
   "metadata": {},
   "outputs": [],
   "source": [
    "# Format predictions in DataFrame: prediction_df\n",
    "prediction_df = pd.DataFrame(columns=y_test.columns, index=test.id, data=predictions)\n",
    "\n",
    "prediction_df.to_excel('predictions.xls')"
   ]
  },
  {
   "cell_type": "code",
   "execution_count": 145,
   "id": "5886a500",
   "metadata": {},
   "outputs": [
    {
     "data": {
      "text/plain": [
       "(1887, 8)"
      ]
     },
     "execution_count": 145,
     "metadata": {},
     "output_type": "execute_result"
    }
   ],
   "source": [
    "predictions.shape"
   ]
  },
  {
   "cell_type": "code",
   "execution_count": 146,
   "id": "3c33e6f0",
   "metadata": {},
   "outputs": [],
   "source": [
    "a=X_train\n",
    "X_train=y_train\n",
    "y_train=a\n",
    "a=X_test\n",
    "X_test=y_test\n",
    "y_test=a"
   ]
  },
  {
   "cell_type": "code",
   "execution_count": 147,
   "id": "24145dd0",
   "metadata": {},
   "outputs": [
    {
     "data": {
      "text/html": [
       "<div>\n",
       "<style scoped>\n",
       "    .dataframe tbody tr th:only-of-type {\n",
       "        vertical-align: middle;\n",
       "    }\n",
       "\n",
       "    .dataframe tbody tr th {\n",
       "        vertical-align: top;\n",
       "    }\n",
       "\n",
       "    .dataframe thead th {\n",
       "        text-align: right;\n",
       "    }\n",
       "</style>\n",
       "<table border=\"1\" class=\"dataframe\">\n",
       "  <thead>\n",
       "    <tr style=\"text-align: right;\">\n",
       "      <th></th>\n",
       "      <th>Gecikti veya Dağıtıma Çıkmadı</th>\n",
       "      <th>Evde yok notu düşüldü veya Kapıya Getirilmedi</th>\n",
       "      <th>Telefonlara Cevap Verilmedi</th>\n",
       "      <th>İade Süreci</th>\n",
       "      <th>Teslim Alınmadı veya Teslim Edilmedi</th>\n",
       "      <th>Kötü Diyalog Veya Saygısız Tutum</th>\n",
       "      <th>Hasarlı veya Kayıp Paket</th>\n",
       "      <th>Hijyen Kurallarına Uyulmadı</th>\n",
       "    </tr>\n",
       "  </thead>\n",
       "  <tbody>\n",
       "    <tr>\n",
       "      <th>1728</th>\n",
       "      <td>0</td>\n",
       "      <td>0</td>\n",
       "      <td>1</td>\n",
       "      <td>0</td>\n",
       "      <td>1</td>\n",
       "      <td>0</td>\n",
       "      <td>0</td>\n",
       "      <td>0</td>\n",
       "    </tr>\n",
       "    <tr>\n",
       "      <th>987</th>\n",
       "      <td>0</td>\n",
       "      <td>0</td>\n",
       "      <td>0</td>\n",
       "      <td>0</td>\n",
       "      <td>0</td>\n",
       "      <td>1</td>\n",
       "      <td>1</td>\n",
       "      <td>0</td>\n",
       "    </tr>\n",
       "    <tr>\n",
       "      <th>133</th>\n",
       "      <td>0</td>\n",
       "      <td>0</td>\n",
       "      <td>0</td>\n",
       "      <td>0</td>\n",
       "      <td>0</td>\n",
       "      <td>1</td>\n",
       "      <td>0</td>\n",
       "      <td>0</td>\n",
       "    </tr>\n",
       "    <tr>\n",
       "      <th>202</th>\n",
       "      <td>0</td>\n",
       "      <td>0</td>\n",
       "      <td>0</td>\n",
       "      <td>0</td>\n",
       "      <td>1</td>\n",
       "      <td>1</td>\n",
       "      <td>0</td>\n",
       "      <td>0</td>\n",
       "    </tr>\n",
       "    <tr>\n",
       "      <th>1186</th>\n",
       "      <td>1</td>\n",
       "      <td>1</td>\n",
       "      <td>1</td>\n",
       "      <td>0</td>\n",
       "      <td>0</td>\n",
       "      <td>1</td>\n",
       "      <td>0</td>\n",
       "      <td>0</td>\n",
       "    </tr>\n",
       "    <tr>\n",
       "      <th>...</th>\n",
       "      <td>...</td>\n",
       "      <td>...</td>\n",
       "      <td>...</td>\n",
       "      <td>...</td>\n",
       "      <td>...</td>\n",
       "      <td>...</td>\n",
       "      <td>...</td>\n",
       "      <td>...</td>\n",
       "    </tr>\n",
       "    <tr>\n",
       "      <th>835</th>\n",
       "      <td>0</td>\n",
       "      <td>1</td>\n",
       "      <td>0</td>\n",
       "      <td>0</td>\n",
       "      <td>0</td>\n",
       "      <td>1</td>\n",
       "      <td>0</td>\n",
       "      <td>0</td>\n",
       "    </tr>\n",
       "    <tr>\n",
       "      <th>1216</th>\n",
       "      <td>1</td>\n",
       "      <td>0</td>\n",
       "      <td>0</td>\n",
       "      <td>0</td>\n",
       "      <td>1</td>\n",
       "      <td>0</td>\n",
       "      <td>1</td>\n",
       "      <td>0</td>\n",
       "    </tr>\n",
       "    <tr>\n",
       "      <th>1653</th>\n",
       "      <td>0</td>\n",
       "      <td>0</td>\n",
       "      <td>1</td>\n",
       "      <td>0</td>\n",
       "      <td>1</td>\n",
       "      <td>0</td>\n",
       "      <td>1</td>\n",
       "      <td>0</td>\n",
       "    </tr>\n",
       "    <tr>\n",
       "      <th>559</th>\n",
       "      <td>1</td>\n",
       "      <td>0</td>\n",
       "      <td>0</td>\n",
       "      <td>0</td>\n",
       "      <td>0</td>\n",
       "      <td>0</td>\n",
       "      <td>0</td>\n",
       "      <td>0</td>\n",
       "    </tr>\n",
       "    <tr>\n",
       "      <th>684</th>\n",
       "      <td>0</td>\n",
       "      <td>0</td>\n",
       "      <td>0</td>\n",
       "      <td>0</td>\n",
       "      <td>1</td>\n",
       "      <td>0</td>\n",
       "      <td>0</td>\n",
       "      <td>0</td>\n",
       "    </tr>\n",
       "  </tbody>\n",
       "</table>\n",
       "<p>1415 rows × 8 columns</p>\n",
       "</div>"
      ],
      "text/plain": [
       "      Gecikti veya Dağıtıma Çıkmadı  \\\n",
       "1728                              0   \n",
       "987                               0   \n",
       "133                               0   \n",
       "202                               0   \n",
       "1186                              1   \n",
       "...                             ...   \n",
       "835                               0   \n",
       "1216                              1   \n",
       "1653                              0   \n",
       "559                               1   \n",
       "684                               0   \n",
       "\n",
       "      Evde yok notu düşüldü veya Kapıya Getirilmedi  \\\n",
       "1728                                              0   \n",
       "987                                               0   \n",
       "133                                               0   \n",
       "202                                               0   \n",
       "1186                                              1   \n",
       "...                                             ...   \n",
       "835                                               1   \n",
       "1216                                              0   \n",
       "1653                                              0   \n",
       "559                                               0   \n",
       "684                                               0   \n",
       "\n",
       "      Telefonlara Cevap Verilmedi  İade Süreci  \\\n",
       "1728                            1            0   \n",
       "987                             0            0   \n",
       "133                             0            0   \n",
       "202                             0            0   \n",
       "1186                            1            0   \n",
       "...                           ...          ...   \n",
       "835                             0            0   \n",
       "1216                            0            0   \n",
       "1653                            1            0   \n",
       "559                             0            0   \n",
       "684                             0            0   \n",
       "\n",
       "      Teslim Alınmadı veya Teslim Edilmedi  Kötü Diyalog Veya Saygısız Tutum  \\\n",
       "1728                                     1                                 0   \n",
       "987                                      0                                 1   \n",
       "133                                      0                                 1   \n",
       "202                                      1                                 1   \n",
       "1186                                     0                                 1   \n",
       "...                                    ...                               ...   \n",
       "835                                      0                                 1   \n",
       "1216                                     1                                 0   \n",
       "1653                                     1                                 0   \n",
       "559                                      0                                 0   \n",
       "684                                      1                                 0   \n",
       "\n",
       "      Hasarlı veya Kayıp Paket  Hijyen Kurallarına Uyulmadı  \n",
       "1728                         0                            0  \n",
       "987                          1                            0  \n",
       "133                          0                            0  \n",
       "202                          0                            0  \n",
       "1186                         0                            0  \n",
       "...                        ...                          ...  \n",
       "835                          0                            0  \n",
       "1216                         1                            0  \n",
       "1653                         1                            0  \n",
       "559                          0                            0  \n",
       "684                          0                            0  \n",
       "\n",
       "[1415 rows x 8 columns]"
      ]
     },
     "execution_count": 147,
     "metadata": {},
     "output_type": "execute_result"
    }
   ],
   "source": [
    "X_train"
   ]
  },
  {
   "cell_type": "code",
   "execution_count": 148,
   "id": "ce7fb769",
   "metadata": {},
   "outputs": [
    {
     "data": {
      "text/html": [
       "<div>\n",
       "<style scoped>\n",
       "    .dataframe tbody tr th:only-of-type {\n",
       "        vertical-align: middle;\n",
       "    }\n",
       "\n",
       "    .dataframe tbody tr th {\n",
       "        vertical-align: top;\n",
       "    }\n",
       "\n",
       "    .dataframe thead th {\n",
       "        text-align: right;\n",
       "    }\n",
       "</style>\n",
       "<table border=\"1\" class=\"dataframe\">\n",
       "  <thead>\n",
       "    <tr style=\"text-align: right;\">\n",
       "      <th></th>\n",
       "      <th>Gecikti veya Dağıtıma Çıkmadı</th>\n",
       "      <th>Evde yok notu düşüldü veya Kapıya Getirilmedi</th>\n",
       "      <th>Telefonlara Cevap Verilmedi</th>\n",
       "      <th>İade Süreci</th>\n",
       "      <th>Teslim Alınmadı veya Teslim Edilmedi</th>\n",
       "      <th>Kötü Diyalog Veya Saygısız Tutum</th>\n",
       "      <th>Hasarlı veya Kayıp Paket</th>\n",
       "      <th>Hijyen Kurallarına Uyulmadı</th>\n",
       "    </tr>\n",
       "  </thead>\n",
       "  <tbody>\n",
       "    <tr>\n",
       "      <th>579</th>\n",
       "      <td>1</td>\n",
       "      <td>0</td>\n",
       "      <td>1</td>\n",
       "      <td>0</td>\n",
       "      <td>1</td>\n",
       "      <td>0</td>\n",
       "      <td>0</td>\n",
       "      <td>0</td>\n",
       "    </tr>\n",
       "    <tr>\n",
       "      <th>1183</th>\n",
       "      <td>0</td>\n",
       "      <td>0</td>\n",
       "      <td>0</td>\n",
       "      <td>1</td>\n",
       "      <td>1</td>\n",
       "      <td>0</td>\n",
       "      <td>0</td>\n",
       "      <td>0</td>\n",
       "    </tr>\n",
       "    <tr>\n",
       "      <th>1010</th>\n",
       "      <td>1</td>\n",
       "      <td>1</td>\n",
       "      <td>0</td>\n",
       "      <td>0</td>\n",
       "      <td>1</td>\n",
       "      <td>0</td>\n",
       "      <td>0</td>\n",
       "      <td>0</td>\n",
       "    </tr>\n",
       "    <tr>\n",
       "      <th>1330</th>\n",
       "      <td>1</td>\n",
       "      <td>0</td>\n",
       "      <td>0</td>\n",
       "      <td>0</td>\n",
       "      <td>1</td>\n",
       "      <td>0</td>\n",
       "      <td>0</td>\n",
       "      <td>0</td>\n",
       "    </tr>\n",
       "    <tr>\n",
       "      <th>77</th>\n",
       "      <td>0</td>\n",
       "      <td>0</td>\n",
       "      <td>0</td>\n",
       "      <td>0</td>\n",
       "      <td>1</td>\n",
       "      <td>0</td>\n",
       "      <td>0</td>\n",
       "      <td>0</td>\n",
       "    </tr>\n",
       "    <tr>\n",
       "      <th>...</th>\n",
       "      <td>...</td>\n",
       "      <td>...</td>\n",
       "      <td>...</td>\n",
       "      <td>...</td>\n",
       "      <td>...</td>\n",
       "      <td>...</td>\n",
       "      <td>...</td>\n",
       "      <td>...</td>\n",
       "    </tr>\n",
       "    <tr>\n",
       "      <th>1546</th>\n",
       "      <td>1</td>\n",
       "      <td>0</td>\n",
       "      <td>1</td>\n",
       "      <td>0</td>\n",
       "      <td>0</td>\n",
       "      <td>0</td>\n",
       "      <td>0</td>\n",
       "      <td>0</td>\n",
       "    </tr>\n",
       "    <tr>\n",
       "      <th>936</th>\n",
       "      <td>0</td>\n",
       "      <td>0</td>\n",
       "      <td>0</td>\n",
       "      <td>0</td>\n",
       "      <td>0</td>\n",
       "      <td>1</td>\n",
       "      <td>1</td>\n",
       "      <td>0</td>\n",
       "    </tr>\n",
       "    <tr>\n",
       "      <th>632</th>\n",
       "      <td>1</td>\n",
       "      <td>0</td>\n",
       "      <td>1</td>\n",
       "      <td>0</td>\n",
       "      <td>1</td>\n",
       "      <td>0</td>\n",
       "      <td>0</td>\n",
       "      <td>0</td>\n",
       "    </tr>\n",
       "    <tr>\n",
       "      <th>1730</th>\n",
       "      <td>1</td>\n",
       "      <td>0</td>\n",
       "      <td>0</td>\n",
       "      <td>0</td>\n",
       "      <td>0</td>\n",
       "      <td>0</td>\n",
       "      <td>0</td>\n",
       "      <td>0</td>\n",
       "    </tr>\n",
       "    <tr>\n",
       "      <th>597</th>\n",
       "      <td>1</td>\n",
       "      <td>0</td>\n",
       "      <td>0</td>\n",
       "      <td>0</td>\n",
       "      <td>0</td>\n",
       "      <td>1</td>\n",
       "      <td>0</td>\n",
       "      <td>0</td>\n",
       "    </tr>\n",
       "  </tbody>\n",
       "</table>\n",
       "<p>472 rows × 8 columns</p>\n",
       "</div>"
      ],
      "text/plain": [
       "      Gecikti veya Dağıtıma Çıkmadı  \\\n",
       "579                               1   \n",
       "1183                              0   \n",
       "1010                              1   \n",
       "1330                              1   \n",
       "77                                0   \n",
       "...                             ...   \n",
       "1546                              1   \n",
       "936                               0   \n",
       "632                               1   \n",
       "1730                              1   \n",
       "597                               1   \n",
       "\n",
       "      Evde yok notu düşüldü veya Kapıya Getirilmedi  \\\n",
       "579                                               0   \n",
       "1183                                              0   \n",
       "1010                                              1   \n",
       "1330                                              0   \n",
       "77                                                0   \n",
       "...                                             ...   \n",
       "1546                                              0   \n",
       "936                                               0   \n",
       "632                                               0   \n",
       "1730                                              0   \n",
       "597                                               0   \n",
       "\n",
       "      Telefonlara Cevap Verilmedi  İade Süreci  \\\n",
       "579                             1            0   \n",
       "1183                            0            1   \n",
       "1010                            0            0   \n",
       "1330                            0            0   \n",
       "77                              0            0   \n",
       "...                           ...          ...   \n",
       "1546                            1            0   \n",
       "936                             0            0   \n",
       "632                             1            0   \n",
       "1730                            0            0   \n",
       "597                             0            0   \n",
       "\n",
       "      Teslim Alınmadı veya Teslim Edilmedi  Kötü Diyalog Veya Saygısız Tutum  \\\n",
       "579                                      1                                 0   \n",
       "1183                                     1                                 0   \n",
       "1010                                     1                                 0   \n",
       "1330                                     1                                 0   \n",
       "77                                       1                                 0   \n",
       "...                                    ...                               ...   \n",
       "1546                                     0                                 0   \n",
       "936                                      0                                 1   \n",
       "632                                      1                                 0   \n",
       "1730                                     0                                 0   \n",
       "597                                      0                                 1   \n",
       "\n",
       "      Hasarlı veya Kayıp Paket  Hijyen Kurallarına Uyulmadı  \n",
       "579                          0                            0  \n",
       "1183                         0                            0  \n",
       "1010                         0                            0  \n",
       "1330                         0                            0  \n",
       "77                           0                            0  \n",
       "...                        ...                          ...  \n",
       "1546                         0                            0  \n",
       "936                          1                            0  \n",
       "632                          0                            0  \n",
       "1730                         0                            0  \n",
       "597                          0                            0  \n",
       "\n",
       "[472 rows x 8 columns]"
      ]
     },
     "execution_count": 148,
     "metadata": {},
     "output_type": "execute_result"
    }
   ],
   "source": [
    "X_test"
   ]
  },
  {
   "cell_type": "code",
   "execution_count": 149,
   "id": "16571958",
   "metadata": {},
   "outputs": [
    {
     "data": {
      "text/plain": [
       "1728    Aras Kargo Ürünüm Alıcıya Ulaştırılmadı, Geri ...\n",
       "987     Yurtiçi Kargo Kaybettikleri Kargoyu Israrımızl...\n",
       "133     PTT Kargo Ağrı Hamur Şubesi Çalışanı--> Geçici...\n",
       "202     MNG Kargo Ürünümü Teslim Etmiyor--> MNG Kargo ...\n",
       "1186    Çeliktepe Sürat Kargo'da Sorun Var--> Öncelikl...\n",
       "                              ...                        \n",
       "835     Sürat Kargo Kargomu Kapıya Getirmedi Hafif Ola...\n",
       "1216    Sürat Kargo Teslim Edilmeyen Kargolar--> Trend...\n",
       "1653    Sürat Kargo İzmir Aktarma Merkezinden Yola Çık...\n",
       "559     Aras Kargo Kargom 1 Haftadır Gelmiyor--> 1 haf...\n",
       "684     PTT Kargo Sağlık Çalışanı Olduğum İçin Adrese ...\n",
       "Name: icerik, Length: 1415, dtype: object"
      ]
     },
     "execution_count": 149,
     "metadata": {},
     "output_type": "execute_result"
    }
   ],
   "source": [
    "y_train"
   ]
  },
  {
   "cell_type": "code",
   "execution_count": 150,
   "id": "3c8722b9",
   "metadata": {},
   "outputs": [
    {
     "data": {
      "text/plain": [
       "579     Sürat Kargo İşini Yapmıyor. Telefonları Açmıyo...\n",
       "1183    Sürat Kargo Yapılmayan Teslimat Sıkıntısı--> M...\n",
       "1010    PTT Kargo Dağıtılmadan Adreste Yok Bilgisi Gir...\n",
       "1330    Sürat Kargomun Gecikmesi--> İnternetten aldığı...\n",
       "77      PTT Kargo Paketi Eve Teslim Etmeme Telefonları...\n",
       "                              ...                        \n",
       "1546    Sürat Kargo Kargonun Takip Numarası Gönderilme...\n",
       "936     Aras Kargo Kayıp Kargom--> 10.07.2020 tarihind...\n",
       "632     MNG Kargo Adres Yetersiz Gerekçesiyle Mağdur E...\n",
       "1730    MNG Kargo Teslim Edilemeyen Ürün Sorunu--> Ald...\n",
       "597     MNG Kargo Kargoyu Dağıtıma Çıkarmama!--> 17 Ağ...\n",
       "Name: icerik, Length: 472, dtype: object"
      ]
     },
     "execution_count": 150,
     "metadata": {},
     "output_type": "execute_result"
    }
   ],
   "source": [
    "y_test"
   ]
  },
  {
   "cell_type": "code",
   "execution_count": 151,
   "id": "cf4d0bda",
   "metadata": {
    "scrolled": false
   },
   "outputs": [],
   "source": [
    "clf = svm.SVC(kernel='linear', C=1).fit(X_train, y_train)"
   ]
  },
  {
   "cell_type": "code",
   "execution_count": 152,
   "id": "2cf85c99",
   "metadata": {},
   "outputs": [
    {
     "data": {
      "text/plain": [
       "0.08551236749116607"
      ]
     },
     "execution_count": 152,
     "metadata": {},
     "output_type": "execute_result"
    }
   ],
   "source": [
    "clf.score(X_train, y_train)"
   ]
  },
  {
   "cell_type": "code",
   "execution_count": null,
   "id": "5453ae14",
   "metadata": {},
   "outputs": [],
   "source": []
  }
 ],
 "metadata": {
  "kernelspec": {
   "display_name": "Python 3",
   "language": "python",
   "name": "python3"
  },
  "language_info": {
   "codemirror_mode": {
    "name": "ipython",
    "version": 3
   },
   "file_extension": ".py",
   "mimetype": "text/x-python",
   "name": "python",
   "nbconvert_exporter": "python",
   "pygments_lexer": "ipython3",
   "version": "3.7.2"
  }
 },
 "nbformat": 4,
 "nbformat_minor": 5
}
