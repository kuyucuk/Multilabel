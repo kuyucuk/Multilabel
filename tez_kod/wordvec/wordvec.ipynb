{
 "cells": [
  {
   "cell_type": "code",
   "execution_count": 29,
   "metadata": {
    "scrolled": false
   },
   "outputs": [
    {
     "data": {
      "text/plain": [
       "'kargo nerede olmak bilinmeyen sipariş yedpa şube çıkıp hala araçta görünen ilk kargo adana aktarma gelip orada hareket görmemek ikinci kargo istanbul aktarma takılan üçüncü kargo sorduğumda yoğunuz iş beceremiyorsanız yapmamak kardeşim üç kargo hafta başından beri kargo beklemek yoğunluk bahane kabullenin ucuz fiyat politikası uygulayarak vatandaşı mağdur etmemek hakkını verin iş insanlar sizin sorumsuz cezasını çekmek zorunda değil şube bayanın lafına bakar mısınız kargo kayıtsız gelebilir her nereden çıkmak belli olmaz tüketici heyetin kargo firmalarına yapmak olmak artık bıktık her zaman mağdur \\n'"
      ]
     },
     "execution_count": 29,
     "metadata": {},
     "output_type": "execute_result"
    }
   ],
   "source": [
    "import numpy as np\n",
    "\n",
    "data = list(open(\"./quora.txt\", encoding=\"utf-8\")) \n",
    "data[50]"
   ]
  },
  {
   "cell_type": "code",
   "execution_count": 30,
   "metadata": {},
   "outputs": [
    {
     "name": "stdout",
     "output_type": "stream",
     "text": [
      "['kargo', 'nerede', 'olmak', 'bilinmeyen', 'sipariş', 'yedpa', 'şube', 'çıkıp', 'hala', 'araçta', 'görünen', 'ilk', 'kargo', 'adana', 'aktarma', 'gelip', 'orada', 'hareket', 'görmemek', 'ikinci', 'kargo', 'istanbul', 'aktarma', 'takılan', 'üçüncü', 'kargo', 'sorduğumda', 'yoğunuz', 'iş', 'beceremiyorsanız', 'yapmamak', 'kardeşim', 'üç', 'kargo', 'hafta', 'başından', 'beri', 'kargo', 'beklemek', 'yoğunluk', 'bahane', 'kabullenin', 'ucuz', 'fiyat', 'politikası', 'uygulayarak', 'vatandaşı', 'mağdur', 'etmemek', 'hakkını', 'verin', 'iş', 'insanlar', 'sizin', 'sorumsuz', 'cezasını', 'çekmek', 'zorunda', 'değil', 'şube', 'bayanın', 'lafına', 'bakar', 'mısınız', 'kargo', 'kayıtsız', 'gelebilir', 'her', 'nereden', 'çıkmak', 'belli', 'olmaz', 'tüketici', 'heyetin', 'kargo', 'firmalarına', 'yapmak', 'olmak', 'artık', 'bıktık', 'her', 'zaman', 'mağdur']\n"
     ]
    }
   ],
   "source": [
    "from nltk.tokenize import WordPunctTokenizer\n",
    "tokenizer = WordPunctTokenizer()\n",
    "\n",
    "print(tokenizer.tokenize(data[50]))"
   ]
  },
  {
   "cell_type": "code",
   "execution_count": 31,
   "metadata": {},
   "outputs": [],
   "source": [
    "def tokenize_sentence(sentence):\n",
    "    return [token.lower() for token in tokenizer.tokenize(sentence)]\n",
    "\n",
    "data_tok = [tokenize_sentence(sentence) for sentence in data]"
   ]
  },
  {
   "cell_type": "code",
   "execution_count": 32,
   "metadata": {},
   "outputs": [],
   "source": [
    "#data_tok"
   ]
  },
  {
   "cell_type": "code",
   "execution_count": 33,
   "metadata": {},
   "outputs": [],
   "source": [
    "assert all(isinstance(row, (list, tuple)) for row in data_tok), \"please convert each line into a list of tokens (strings)\"\n",
    "assert all(all(isinstance(tok, str) for tok in row) for row in data_tok), \"please convert each line into a list of tokens (strings)\"\n",
    "is_latin = lambda tok: all('a' <= x.lower() <= 'z' for x in tok)\n",
    "assert all(map(lambda l: not is_latin(l) or l.islower(), map(' '.join, data_tok))), \"please make sure to lowercase the data\""
   ]
  },
  {
   "cell_type": "code",
   "execution_count": 34,
   "metadata": {},
   "outputs": [
    {
     "name": "stdout",
     "output_type": "stream",
     "text": [
      "['kargo teslim etmemek no lu gönderimde gündür şube tutulduğunu görüyorum kargo alıcı kabul etmemek diye bilgilendirme düşüyorlar online bilgilendirmede gündür eşim kargo beklemek kesinlikle alıcı kabul etmemek diye durum söz konusu değil insanları iş gücünden alıkoyuyorsunuz yapacağınız basitçe kargo götürüp teslim etmek yıllık çözülemeyen matematik problemini çözmenizi istemiyoruz dünyanın güzel kokan parfümü antidoz gelmek istemiyoruz paket noktasından noktasına taşıdığınızda alıcıya teslim etmek mutlu olmak fakat iş yapmak olmak basit süreç olmak inanıyorum kargo getirmemek alıcı kabul etmemek diyerek şirket kalitesini dibe vurduruyorsunuz', 'kargo dağıtım yapmamak akçay edremit şube gelmek kargo kadar alamadım kargo aramak kurye hastalandığı için dağıtamadıklarını belirttiler geçici çözüm neden bulamadıklarını sorduğumda şirket buna izin vermemek belirttiler kurye hastalanması şirket sorunu olması gerekirken hizmet bedelini ödemiş müşteri sorunu olmak isimine baktığınızda kocaman şirket yönetildiklerine inanamıyorsunuz duyan zanneder çin değil türkiye salgın olmak']\n"
     ]
    }
   ],
   "source": [
    "print([' '.join(row) for row in data_tok[:2]])"
   ]
  },
  {
   "cell_type": "code",
   "execution_count": 35,
   "metadata": {
    "scrolled": false
   },
   "outputs": [],
   "source": [
    "from gensim.models import Word2Vec\n",
    "\n",
    "from gensim.models.word2vec import LineSentence\n",
    "\n",
    "\n",
    "model = Word2Vec(data_tok, \n",
    "                 vector_size=32,      # embedding vector size\n",
    "                 min_count=5,  # consider words that occured at least 5 times\n",
    "                 window=5,     # define context as a 5-word window around the target word\n",
    "                 workers=4).wv  "
   ]
  },
  {
   "cell_type": "code",
   "execution_count": 36,
   "metadata": {
    "scrolled": false
   },
   "outputs": [
    {
     "data": {
      "text/plain": [
       "array([-4.1907682 , -0.29275772,  0.0804688 ,  1.2817415 , -3.1572456 ,\n",
       "       -2.0370777 , -3.3187733 , -1.6323795 ,  3.4062867 ,  1.638271  ,\n",
       "       -1.4558454 , -1.783125  , -0.29574448, -0.7943081 , -4.8293223 ,\n",
       "       -1.5146229 ,  1.6393465 , -4.1765347 , -0.7993907 , -1.4197809 ,\n",
       "        1.206895  ,  2.6323695 ,  2.0920827 ,  0.74364346, -0.8002564 ,\n",
       "        1.4596441 ,  1.4528754 ,  2.6453884 ,  1.1106907 , -0.6101733 ,\n",
       "       -2.6611488 ,  3.7833114 ], dtype=float32)"
      ]
     },
     "execution_count": 36,
     "metadata": {},
     "output_type": "execute_result"
    }
   ],
   "source": [
    "# now you can get word vectors !\n",
    "\n",
    "model.get_vector('sipariş')"
   ]
  },
  {
   "cell_type": "code",
   "execution_count": 37,
   "metadata": {},
   "outputs": [
    {
     "data": {
      "text/plain": [
       "[('maskeli', 0.9078808426856995),\n",
       " ('takmıyordu', 0.8952891230583191),\n",
       " ('girmeyen', 0.8882976174354553),\n",
       " ('salgına', 0.887794554233551),\n",
       " ('sigara', 0.8875411748886108),\n",
       " ('çenesinde', 0.8843035697937012),\n",
       " ('takmadığını', 0.8807888031005859),\n",
       " ('içip', 0.8800680637359619),\n",
       " ('girilmez', 0.8800174593925476),\n",
       " ('görevlisinin', 0.8761368989944458)]"
      ]
     },
     "execution_count": 37,
     "metadata": {},
     "output_type": "execute_result"
    }
   ],
   "source": [
    "# or query similar words directly. Go play with it!\n",
    "model.most_similar('eldivensiz')"
   ]
  },
  {
   "cell_type": "code",
   "execution_count": 38,
   "metadata": {},
   "outputs": [],
   "source": [
    "#import gensim.downloader as api\n",
    "#model = api.load('glove-twitter-100')"
   ]
  },
  {
   "cell_type": "code",
   "execution_count": 39,
   "metadata": {},
   "outputs": [
    {
     "data": {
      "text/plain": [
       "[('alım', 0.5261707901954651),\n",
       " ('beyan', 0.473701536655426),\n",
       " ('bilgisi', 0.4583512544631958),\n",
       " ('kontrol', 0.45764103531837463),\n",
       " ('gönderim', 0.45531564950942993),\n",
       " ('ürün', 0.45457595586776733),\n",
       " ('kargo', 0.44738781452178955),\n",
       " ('alışveriş', 0.42363598942756653),\n",
       " ('adres', 0.4194880425930023),\n",
       " ('çıkarılmadan', 0.4171883761882782)]"
      ]
     },
     "execution_count": 39,
     "metadata": {},
     "output_type": "execute_result"
    }
   ],
   "source": [
    "model.most_similar(positive=[\"iade\", \"sipariş\"], negative=[\"kırık\"])"
   ]
  },
  {
   "cell_type": "code",
   "execution_count": 40,
   "metadata": {},
   "outputs": [],
   "source": [
    "#words = sorted(model.vocab.keys(),  key=lambda word: model.vocab[word].count, reverse=True)[:1000]\n",
    "#print(words[::100])"
   ]
  },
  {
   "cell_type": "code",
   "execution_count": 41,
   "metadata": {},
   "outputs": [
    {
     "name": "stdout",
     "output_type": "stream",
     "text": [
      "['kargo', 'ulaşmamak', 'firması', 'pazartesi', 'bilmiyorum', 'kasım', 'konya', 'söyleniyor', 'eylül', 'ocak']\n"
     ]
    }
   ],
   "source": [
    "words = sorted(model.key_to_index .keys(), \n",
    "               key=lambda word: model.get_vecattr(word, \"count\"),\n",
    "               reverse=True)[:1000]\n",
    " \n",
    "print(words[::100])"
   ]
  },
  {
   "cell_type": "code",
   "execution_count": 42,
   "metadata": {},
   "outputs": [],
   "source": [
    "# for each word, compute it's vector with model\n",
    "word_vectors = np.array([model[w] for w in words]) # MY CODE"
   ]
  },
  {
   "cell_type": "code",
   "execution_count": 43,
   "metadata": {},
   "outputs": [
    {
     "data": {
      "text/plain": [
       "numpy.ndarray"
      ]
     },
     "execution_count": 43,
     "metadata": {},
     "output_type": "execute_result"
    }
   ],
   "source": [
    "type(word_vectors)"
   ]
  },
  {
   "cell_type": "code",
   "execution_count": 44,
   "metadata": {},
   "outputs": [
    {
     "ename": "AssertionError",
     "evalue": "",
     "output_type": "error",
     "traceback": [
      "\u001b[1;31m---------------------------\u001b[0m",
      "\u001b[1;31mAssertionError\u001b[0mTraceback (most recent call last)",
      "\u001b[1;32m<ipython-input-44-cb25682cf69a>\u001b[0m in \u001b[0;36m<module>\u001b[1;34m\u001b[0m\n\u001b[0;32m      1\u001b[0m \u001b[1;32massert\u001b[0m \u001b[0misinstance\u001b[0m\u001b[1;33m(\u001b[0m\u001b[0mword_vectors\u001b[0m\u001b[1;33m,\u001b[0m \u001b[0mnp\u001b[0m\u001b[1;33m.\u001b[0m\u001b[0mndarray\u001b[0m\u001b[1;33m)\u001b[0m\u001b[1;33m\u001b[0m\u001b[1;33m\u001b[0m\u001b[0m\n\u001b[1;32m----> 2\u001b[1;33m \u001b[1;32massert\u001b[0m \u001b[0mword_vectors\u001b[0m\u001b[1;33m.\u001b[0m\u001b[0mshape\u001b[0m \u001b[1;33m==\u001b[0m \u001b[1;33m(\u001b[0m\u001b[0mlen\u001b[0m\u001b[1;33m(\u001b[0m\u001b[0mwords\u001b[0m\u001b[1;33m)\u001b[0m\u001b[1;33m,\u001b[0m \u001b[1;36m100\u001b[0m\u001b[1;33m)\u001b[0m\u001b[1;33m\u001b[0m\u001b[1;33m\u001b[0m\u001b[0m\n\u001b[0m\u001b[0;32m      3\u001b[0m \u001b[1;32massert\u001b[0m \u001b[0mnp\u001b[0m\u001b[1;33m.\u001b[0m\u001b[0misfinite\u001b[0m\u001b[1;33m(\u001b[0m\u001b[0mword_vectors\u001b[0m\u001b[1;33m)\u001b[0m\u001b[1;33m.\u001b[0m\u001b[0mall\u001b[0m\u001b[1;33m(\u001b[0m\u001b[1;33m)\u001b[0m\u001b[1;33m\u001b[0m\u001b[1;33m\u001b[0m\u001b[0m\n",
      "\u001b[1;31mAssertionError\u001b[0m: "
     ]
    }
   ],
   "source": [
    "assert isinstance(word_vectors, np.ndarray)\n",
    "assert word_vectors.shape == (len(words), 100)\n",
    "assert np.isfinite(word_vectors).all()"
   ]
  },
  {
   "cell_type": "markdown",
   "metadata": {},
   "source": [
    "#### Linear projection: PCA\n",
    "\n",
    "The simplest linear dimensionality reduction method is __P__rincipial __C__omponent __A__nalysis.\n",
    "\n",
    "In geometric terms, PCA tries to find axes along which most of the variance occurs. The \"natural\" axes, if you wish.\n",
    "\n",
    "<img src=\"https://github.com/yandexdataschool/Practical_RL/raw/master/yet_another_week/_resource/pca_fish.png\" style=\"width:30%\">\n",
    "\n",
    "\n",
    "Under the hood, it attempts to decompose object-feature matrix $X$ into two smaller matrices: $W$ and $\\hat W$ minimizing _mean squared error_:\n",
    "\n",
    "$$\\|(X W) \\hat{W} - X\\|^2_2 \\to_{W, \\hat{W}} \\min$$\n",
    "- $X \\in \\mathbb{R}^{n \\times m}$ - object matrix (**centered**);\n",
    "- $W \\in \\mathbb{R}^{m \\times d}$ - matrix of direct transformation;\n",
    "- $\\hat{W} \\in \\mathbb{R}^{d \\times m}$ - matrix of reverse transformation;\n",
    "- $n$ samples, $m$ original dimensions and $d$ target dimensions;\n",
    "\n"
   ]
  },
  {
   "cell_type": "code",
   "execution_count": 46,
   "metadata": {},
   "outputs": [],
   "source": [
    "from sklearn.decomposition import PCA\n",
    "\n",
    "model=PCA(n_components=2)\n",
    "model.fit(word_vectors)\n",
    "word_vectors_pca = model.transform(word_vectors)"
   ]
  },
  {
   "cell_type": "code",
   "execution_count": 53,
   "metadata": {},
   "outputs": [],
   "source": [
    "assert word_vectors_pca.shape == (len(word_vectors), 2), \"there must be a 2d vector for each word\"\n",
    "assert max(abs(word_vectors_pca.mean(0))) < 1e-5, \"points must be zero-centered\"\n",
    "#assert max(abs(1.0 - word_vectors_pca.std(0))) < 1e-2, \"points must have unit variance\""
   ]
  },
  {
   "cell_type": "markdown",
   "metadata": {},
   "source": [
    "#### Let's draw it!"
   ]
  },
  {
   "cell_type": "code",
   "execution_count": 48,
   "metadata": {},
   "outputs": [
    {
     "data": {
      "text/html": [
       "\n",
       "    <div class=\"bk-root\">\n",
       "        <a href=\"https://bokeh.org\" target=\"_blank\" class=\"bk-logo bk-logo-small bk-logo-notebook\"></a>\n",
       "        <span id=\"1113\">Loading BokehJS ...</span>\n",
       "    </div>"
      ]
     },
     "metadata": {},
     "output_type": "display_data"
    },
    {
     "data": {
      "application/javascript": [
       "\n",
       "(function(root) {\n",
       "  function now() {\n",
       "    return new Date();\n",
       "  }\n",
       "\n",
       "  const force = true;\n",
       "\n",
       "  if (typeof root._bokeh_onload_callbacks === \"undefined\" || force === true) {\n",
       "    root._bokeh_onload_callbacks = [];\n",
       "    root._bokeh_is_loading = undefined;\n",
       "  }\n",
       "\n",
       "  const JS_MIME_TYPE = 'application/javascript';\n",
       "  const HTML_MIME_TYPE = 'text/html';\n",
       "  const EXEC_MIME_TYPE = 'application/vnd.bokehjs_exec.v0+json';\n",
       "  const CLASS_NAME = 'output_bokeh rendered_html';\n",
       "\n",
       "  /**\n",
       "   * Render data to the DOM node\n",
       "   */\n",
       "  function render(props, node) {\n",
       "    const script = document.createElement(\"script\");\n",
       "    node.appendChild(script);\n",
       "  }\n",
       "\n",
       "  /**\n",
       "   * Handle when an output is cleared or removed\n",
       "   */\n",
       "  function handleClearOutput(event, handle) {\n",
       "    const cell = handle.cell;\n",
       "\n",
       "    const id = cell.output_area._bokeh_element_id;\n",
       "    const server_id = cell.output_area._bokeh_server_id;\n",
       "    // Clean up Bokeh references\n",
       "    if (id != null && id in Bokeh.index) {\n",
       "      Bokeh.index[id].model.document.clear();\n",
       "      delete Bokeh.index[id];\n",
       "    }\n",
       "\n",
       "    if (server_id !== undefined) {\n",
       "      // Clean up Bokeh references\n",
       "      const cmd_clean = \"from bokeh.io.state import curstate; print(curstate().uuid_to_server['\" + server_id + \"'].get_sessions()[0].document.roots[0]._id)\";\n",
       "      cell.notebook.kernel.execute(cmd_clean, {\n",
       "        iopub: {\n",
       "          output: function(msg) {\n",
       "            const id = msg.content.text.trim();\n",
       "            if (id in Bokeh.index) {\n",
       "              Bokeh.index[id].model.document.clear();\n",
       "              delete Bokeh.index[id];\n",
       "            }\n",
       "          }\n",
       "        }\n",
       "      });\n",
       "      // Destroy server and session\n",
       "      const cmd_destroy = \"import bokeh.io.notebook as ion; ion.destroy_server('\" + server_id + \"')\";\n",
       "      cell.notebook.kernel.execute(cmd_destroy);\n",
       "    }\n",
       "  }\n",
       "\n",
       "  /**\n",
       "   * Handle when a new output is added\n",
       "   */\n",
       "  function handleAddOutput(event, handle) {\n",
       "    const output_area = handle.output_area;\n",
       "    const output = handle.output;\n",
       "\n",
       "    // limit handleAddOutput to display_data with EXEC_MIME_TYPE content only\n",
       "    if ((output.output_type != \"display_data\") || (!Object.prototype.hasOwnProperty.call(output.data, EXEC_MIME_TYPE))) {\n",
       "      return\n",
       "    }\n",
       "\n",
       "    const toinsert = output_area.element.find(\".\" + CLASS_NAME.split(' ')[0]);\n",
       "\n",
       "    if (output.metadata[EXEC_MIME_TYPE][\"id\"] !== undefined) {\n",
       "      toinsert[toinsert.length - 1].firstChild.textContent = output.data[JS_MIME_TYPE];\n",
       "      // store reference to embed id on output_area\n",
       "      output_area._bokeh_element_id = output.metadata[EXEC_MIME_TYPE][\"id\"];\n",
       "    }\n",
       "    if (output.metadata[EXEC_MIME_TYPE][\"server_id\"] !== undefined) {\n",
       "      const bk_div = document.createElement(\"div\");\n",
       "      bk_div.innerHTML = output.data[HTML_MIME_TYPE];\n",
       "      const script_attrs = bk_div.children[0].attributes;\n",
       "      for (let i = 0; i < script_attrs.length; i++) {\n",
       "        toinsert[toinsert.length - 1].firstChild.setAttribute(script_attrs[i].name, script_attrs[i].value);\n",
       "        toinsert[toinsert.length - 1].firstChild.textContent = bk_div.children[0].textContent\n",
       "      }\n",
       "      // store reference to server id on output_area\n",
       "      output_area._bokeh_server_id = output.metadata[EXEC_MIME_TYPE][\"server_id\"];\n",
       "    }\n",
       "  }\n",
       "\n",
       "  function register_renderer(events, OutputArea) {\n",
       "\n",
       "    function append_mime(data, metadata, element) {\n",
       "      // create a DOM node to render to\n",
       "      const toinsert = this.create_output_subarea(\n",
       "        metadata,\n",
       "        CLASS_NAME,\n",
       "        EXEC_MIME_TYPE\n",
       "      );\n",
       "      this.keyboard_manager.register_events(toinsert);\n",
       "      // Render to node\n",
       "      const props = {data: data, metadata: metadata[EXEC_MIME_TYPE]};\n",
       "      render(props, toinsert[toinsert.length - 1]);\n",
       "      element.append(toinsert);\n",
       "      return toinsert\n",
       "    }\n",
       "\n",
       "    /* Handle when an output is cleared or removed */\n",
       "    events.on('clear_output.CodeCell', handleClearOutput);\n",
       "    events.on('delete.Cell', handleClearOutput);\n",
       "\n",
       "    /* Handle when a new output is added */\n",
       "    events.on('output_added.OutputArea', handleAddOutput);\n",
       "\n",
       "    /**\n",
       "     * Register the mime type and append_mime function with output_area\n",
       "     */\n",
       "    OutputArea.prototype.register_mime_type(EXEC_MIME_TYPE, append_mime, {\n",
       "      /* Is output safe? */\n",
       "      safe: true,\n",
       "      /* Index of renderer in `output_area.display_order` */\n",
       "      index: 0\n",
       "    });\n",
       "  }\n",
       "\n",
       "  // register the mime type if in Jupyter Notebook environment and previously unregistered\n",
       "  if (root.Jupyter !== undefined) {\n",
       "    const events = require('base/js/events');\n",
       "    const OutputArea = require('notebook/js/outputarea').OutputArea;\n",
       "\n",
       "    if (OutputArea.prototype.mime_types().indexOf(EXEC_MIME_TYPE) == -1) {\n",
       "      register_renderer(events, OutputArea);\n",
       "    }\n",
       "  }\n",
       "\n",
       "  \n",
       "  if (typeof (root._bokeh_timeout) === \"undefined\" || force === true) {\n",
       "    root._bokeh_timeout = Date.now() + 5000;\n",
       "    root._bokeh_failed_load = false;\n",
       "  }\n",
       "\n",
       "  const NB_LOAD_WARNING = {'data': {'text/html':\n",
       "     \"<div style='background-color: #fdd'>\\n\"+\n",
       "     \"<p>\\n\"+\n",
       "     \"BokehJS does not appear to have successfully loaded. If loading BokehJS from CDN, this \\n\"+\n",
       "     \"may be due to a slow or bad network connection. Possible fixes:\\n\"+\n",
       "     \"</p>\\n\"+\n",
       "     \"<ul>\\n\"+\n",
       "     \"<li>re-rerun `output_notebook()` to attempt to load from CDN again, or</li>\\n\"+\n",
       "     \"<li>use INLINE resources instead, as so:</li>\\n\"+\n",
       "     \"</ul>\\n\"+\n",
       "     \"<code>\\n\"+\n",
       "     \"from bokeh.resources import INLINE\\n\"+\n",
       "     \"output_notebook(resources=INLINE)\\n\"+\n",
       "     \"</code>\\n\"+\n",
       "     \"</div>\"}};\n",
       "\n",
       "  function display_loaded() {\n",
       "    const el = document.getElementById(\"1113\");\n",
       "    if (el != null) {\n",
       "      el.textContent = \"BokehJS is loading...\";\n",
       "    }\n",
       "    if (root.Bokeh !== undefined) {\n",
       "      if (el != null) {\n",
       "        el.textContent = \"BokehJS \" + root.Bokeh.version + \" successfully loaded.\";\n",
       "      }\n",
       "    } else if (Date.now() < root._bokeh_timeout) {\n",
       "      setTimeout(display_loaded, 100)\n",
       "    }\n",
       "  }\n",
       "\n",
       "\n",
       "  function run_callbacks() {\n",
       "    try {\n",
       "      root._bokeh_onload_callbacks.forEach(function(callback) {\n",
       "        if (callback != null)\n",
       "          callback();\n",
       "      });\n",
       "    } finally {\n",
       "      delete root._bokeh_onload_callbacks\n",
       "    }\n",
       "    console.debug(\"Bokeh: all callbacks have finished\");\n",
       "  }\n",
       "\n",
       "  function load_libs(css_urls, js_urls, callback) {\n",
       "    if (css_urls == null) css_urls = [];\n",
       "    if (js_urls == null) js_urls = [];\n",
       "\n",
       "    root._bokeh_onload_callbacks.push(callback);\n",
       "    if (root._bokeh_is_loading > 0) {\n",
       "      console.debug(\"Bokeh: BokehJS is being loaded, scheduling callback at\", now());\n",
       "      return null;\n",
       "    }\n",
       "    if (js_urls == null || js_urls.length === 0) {\n",
       "      run_callbacks();\n",
       "      return null;\n",
       "    }\n",
       "    console.debug(\"Bokeh: BokehJS not loaded, scheduling load and callback at\", now());\n",
       "    root._bokeh_is_loading = css_urls.length + js_urls.length;\n",
       "\n",
       "    function on_load() {\n",
       "      root._bokeh_is_loading--;\n",
       "      if (root._bokeh_is_loading === 0) {\n",
       "        console.debug(\"Bokeh: all BokehJS libraries/stylesheets loaded\");\n",
       "        run_callbacks()\n",
       "      }\n",
       "    }\n",
       "\n",
       "    function on_error(url) {\n",
       "      console.error(\"failed to load \" + url);\n",
       "    }\n",
       "\n",
       "    for (let i = 0; i < css_urls.length; i++) {\n",
       "      const url = css_urls[i];\n",
       "      const element = document.createElement(\"link\");\n",
       "      element.onload = on_load;\n",
       "      element.onerror = on_error.bind(null, url);\n",
       "      element.rel = \"stylesheet\";\n",
       "      element.type = \"text/css\";\n",
       "      element.href = url;\n",
       "      console.debug(\"Bokeh: injecting link tag for BokehJS stylesheet: \", url);\n",
       "      document.body.appendChild(element);\n",
       "    }\n",
       "\n",
       "    for (let i = 0; i < js_urls.length; i++) {\n",
       "      const url = js_urls[i];\n",
       "      const element = document.createElement('script');\n",
       "      element.onload = on_load;\n",
       "      element.onerror = on_error.bind(null, url);\n",
       "      element.async = false;\n",
       "      element.src = url;\n",
       "      console.debug(\"Bokeh: injecting script tag for BokehJS library: \", url);\n",
       "      document.head.appendChild(element);\n",
       "    }\n",
       "  };\n",
       "\n",
       "  function inject_raw_css(css) {\n",
       "    const element = document.createElement(\"style\");\n",
       "    element.appendChild(document.createTextNode(css));\n",
       "    document.body.appendChild(element);\n",
       "  }\n",
       "\n",
       "  \n",
       "  const js_urls = [\"https://cdn.bokeh.org/bokeh/release/bokeh-2.4.1.min.js\", \"https://cdn.bokeh.org/bokeh/release/bokeh-gl-2.4.1.min.js\", \"https://cdn.bokeh.org/bokeh/release/bokeh-widgets-2.4.1.min.js\", \"https://cdn.bokeh.org/bokeh/release/bokeh-tables-2.4.1.min.js\", \"https://cdn.bokeh.org/bokeh/release/bokeh-mathjax-2.4.1.min.js\"];\n",
       "  const css_urls = [];\n",
       "  \n",
       "\n",
       "  const inline_js = [\n",
       "    function(Bokeh) {\n",
       "      Bokeh.set_log_level(\"info\");\n",
       "    },\n",
       "    function(Bokeh) {\n",
       "    \n",
       "    \n",
       "    }\n",
       "  ];\n",
       "\n",
       "  function run_inline_js() {\n",
       "    \n",
       "    if (root.Bokeh !== undefined || force === true) {\n",
       "      \n",
       "    for (let i = 0; i < inline_js.length; i++) {\n",
       "      inline_js[i].call(root, root.Bokeh);\n",
       "    }\n",
       "    if (force === true) {\n",
       "        display_loaded();\n",
       "      }} else if (Date.now() < root._bokeh_timeout) {\n",
       "      setTimeout(run_inline_js, 100);\n",
       "    } else if (!root._bokeh_failed_load) {\n",
       "      console.log(\"Bokeh: BokehJS failed to load within specified timeout.\");\n",
       "      root._bokeh_failed_load = true;\n",
       "    } else if (force !== true) {\n",
       "      const cell = $(document.getElementById(\"1113\")).parents('.cell').data().cell;\n",
       "      cell.output_area.append_execute_result(NB_LOAD_WARNING)\n",
       "    }\n",
       "\n",
       "  }\n",
       "\n",
       "  if (root._bokeh_is_loading === 0) {\n",
       "    console.debug(\"Bokeh: BokehJS loaded, going straight to plotting\");\n",
       "    run_inline_js();\n",
       "  } else {\n",
       "    load_libs(css_urls, js_urls, function() {\n",
       "      console.debug(\"Bokeh: BokehJS plotting callback run at\", now());\n",
       "      run_inline_js();\n",
       "    });\n",
       "  }\n",
       "}(window));"
      ],
      "application/vnd.bokehjs_load.v0+json": "\n(function(root) {\n  function now() {\n    return new Date();\n  }\n\n  const force = true;\n\n  if (typeof root._bokeh_onload_callbacks === \"undefined\" || force === true) {\n    root._bokeh_onload_callbacks = [];\n    root._bokeh_is_loading = undefined;\n  }\n\n  \n\n  \n  if (typeof (root._bokeh_timeout) === \"undefined\" || force === true) {\n    root._bokeh_timeout = Date.now() + 5000;\n    root._bokeh_failed_load = false;\n  }\n\n  const NB_LOAD_WARNING = {'data': {'text/html':\n     \"<div style='background-color: #fdd'>\\n\"+\n     \"<p>\\n\"+\n     \"BokehJS does not appear to have successfully loaded. If loading BokehJS from CDN, this \\n\"+\n     \"may be due to a slow or bad network connection. Possible fixes:\\n\"+\n     \"</p>\\n\"+\n     \"<ul>\\n\"+\n     \"<li>re-rerun `output_notebook()` to attempt to load from CDN again, or</li>\\n\"+\n     \"<li>use INLINE resources instead, as so:</li>\\n\"+\n     \"</ul>\\n\"+\n     \"<code>\\n\"+\n     \"from bokeh.resources import INLINE\\n\"+\n     \"output_notebook(resources=INLINE)\\n\"+\n     \"</code>\\n\"+\n     \"</div>\"}};\n\n  function display_loaded() {\n    const el = document.getElementById(\"1113\");\n    if (el != null) {\n      el.textContent = \"BokehJS is loading...\";\n    }\n    if (root.Bokeh !== undefined) {\n      if (el != null) {\n        el.textContent = \"BokehJS \" + root.Bokeh.version + \" successfully loaded.\";\n      }\n    } else if (Date.now() < root._bokeh_timeout) {\n      setTimeout(display_loaded, 100)\n    }\n  }\n\n\n  function run_callbacks() {\n    try {\n      root._bokeh_onload_callbacks.forEach(function(callback) {\n        if (callback != null)\n          callback();\n      });\n    } finally {\n      delete root._bokeh_onload_callbacks\n    }\n    console.debug(\"Bokeh: all callbacks have finished\");\n  }\n\n  function load_libs(css_urls, js_urls, callback) {\n    if (css_urls == null) css_urls = [];\n    if (js_urls == null) js_urls = [];\n\n    root._bokeh_onload_callbacks.push(callback);\n    if (root._bokeh_is_loading > 0) {\n      console.debug(\"Bokeh: BokehJS is being loaded, scheduling callback at\", now());\n      return null;\n    }\n    if (js_urls == null || js_urls.length === 0) {\n      run_callbacks();\n      return null;\n    }\n    console.debug(\"Bokeh: BokehJS not loaded, scheduling load and callback at\", now());\n    root._bokeh_is_loading = css_urls.length + js_urls.length;\n\n    function on_load() {\n      root._bokeh_is_loading--;\n      if (root._bokeh_is_loading === 0) {\n        console.debug(\"Bokeh: all BokehJS libraries/stylesheets loaded\");\n        run_callbacks()\n      }\n    }\n\n    function on_error(url) {\n      console.error(\"failed to load \" + url);\n    }\n\n    for (let i = 0; i < css_urls.length; i++) {\n      const url = css_urls[i];\n      const element = document.createElement(\"link\");\n      element.onload = on_load;\n      element.onerror = on_error.bind(null, url);\n      element.rel = \"stylesheet\";\n      element.type = \"text/css\";\n      element.href = url;\n      console.debug(\"Bokeh: injecting link tag for BokehJS stylesheet: \", url);\n      document.body.appendChild(element);\n    }\n\n    for (let i = 0; i < js_urls.length; i++) {\n      const url = js_urls[i];\n      const element = document.createElement('script');\n      element.onload = on_load;\n      element.onerror = on_error.bind(null, url);\n      element.async = false;\n      element.src = url;\n      console.debug(\"Bokeh: injecting script tag for BokehJS library: \", url);\n      document.head.appendChild(element);\n    }\n  };\n\n  function inject_raw_css(css) {\n    const element = document.createElement(\"style\");\n    element.appendChild(document.createTextNode(css));\n    document.body.appendChild(element);\n  }\n\n  \n  const js_urls = [\"https://cdn.bokeh.org/bokeh/release/bokeh-2.4.1.min.js\", \"https://cdn.bokeh.org/bokeh/release/bokeh-gl-2.4.1.min.js\", \"https://cdn.bokeh.org/bokeh/release/bokeh-widgets-2.4.1.min.js\", \"https://cdn.bokeh.org/bokeh/release/bokeh-tables-2.4.1.min.js\", \"https://cdn.bokeh.org/bokeh/release/bokeh-mathjax-2.4.1.min.js\"];\n  const css_urls = [];\n  \n\n  const inline_js = [\n    function(Bokeh) {\n      Bokeh.set_log_level(\"info\");\n    },\n    function(Bokeh) {\n    \n    \n    }\n  ];\n\n  function run_inline_js() {\n    \n    if (root.Bokeh !== undefined || force === true) {\n      \n    for (let i = 0; i < inline_js.length; i++) {\n      inline_js[i].call(root, root.Bokeh);\n    }\n    if (force === true) {\n        display_loaded();\n      }} else if (Date.now() < root._bokeh_timeout) {\n      setTimeout(run_inline_js, 100);\n    } else if (!root._bokeh_failed_load) {\n      console.log(\"Bokeh: BokehJS failed to load within specified timeout.\");\n      root._bokeh_failed_load = true;\n    } else if (force !== true) {\n      const cell = $(document.getElementById(\"1113\")).parents('.cell').data().cell;\n      cell.output_area.append_execute_result(NB_LOAD_WARNING)\n    }\n\n  }\n\n  if (root._bokeh_is_loading === 0) {\n    console.debug(\"Bokeh: BokehJS loaded, going straight to plotting\");\n    run_inline_js();\n  } else {\n    load_libs(css_urls, js_urls, function() {\n      console.debug(\"Bokeh: BokehJS plotting callback run at\", now());\n      run_inline_js();\n    });\n  }\n}(window));"
     },
     "metadata": {},
     "output_type": "display_data"
    }
   ],
   "source": [
    "import bokeh.models as bm, bokeh.plotting as pl\n",
    "from bokeh.io import output_notebook\n",
    "output_notebook()\n",
    "\n",
    "def draw_vectors(x, y, radius=10, alpha=0.25, color='blue',\n",
    "                 width=600, height=400, show=True, **kwargs):\n",
    "    \"\"\" draws an interactive plot for data points with auxilirary info on hover \"\"\"\n",
    "    if isinstance(color, str): color = [color] * len(x)\n",
    "    data_source = bm.ColumnDataSource({ 'x' : x, 'y' : y, 'color': color, **kwargs })\n",
    "\n",
    "    fig = pl.figure(active_scroll='wheel_zoom', width=width, height=height)\n",
    "    fig.scatter('x', 'y', size=radius, color='color', alpha=alpha, source=data_source)\n",
    "\n",
    "    fig.add_tools(bm.HoverTool(tooltips=[(key, \"@\" + key) for key in kwargs.keys()]))\n",
    "    if show: pl.show(fig)\n",
    "    return fig"
   ]
  },
  {
   "cell_type": "code",
   "execution_count": 49,
   "metadata": {},
   "outputs": [
    {
     "data": {
      "text/html": [
       "\n",
       "\n",
       "\n",
       "\n",
       "\n",
       "\n",
       "  <div class=\"bk-root\" id=\"5eb0913e-0080-4fe4-97ee-ad937bfa8ae0\" data-root-id=\"1115\"></div>\n"
      ]
     },
     "metadata": {},
     "output_type": "display_data"
    },
    {
     "data": {
      "application/javascript": [
       "(function(root) {\n",
       "  function embed_document(root) {\n",
       "    \n",
       "  const docs_json = {\"3adb935f-c147-4806-bcda-191546aeedef\":{\"defs\":[],\"roots\":{\"references\":[{\"attributes\":{\"below\":[{\"id\":\"1124\"}],\"center\":[{\"id\":\"1127\"},{\"id\":\"1131\"}],\"height\":400,\"left\":[{\"id\":\"1128\"}],\"renderers\":[{\"id\":\"1150\"}],\"title\":{\"id\":\"1165\"},\"toolbar\":{\"id\":\"1139\"},\"x_range\":{\"id\":\"1116\"},\"x_scale\":{\"id\":\"1120\"},\"y_range\":{\"id\":\"1118\"},\"y_scale\":{\"id\":\"1122\"}},\"id\":\"1115\",\"subtype\":\"Figure\",\"type\":\"Plot\"},{\"attributes\":{\"source\":{\"id\":\"1114\"}},\"id\":\"1151\",\"type\":\"CDSView\"},{\"attributes\":{},\"id\":\"1132\",\"type\":\"PanTool\"},{\"attributes\":{},\"id\":\"1173\",\"type\":\"UnionRenderers\"},{\"attributes\":{\"fill_alpha\":{\"value\":0.25},\"fill_color\":{\"field\":\"color\"},\"hatch_alpha\":{\"value\":0.25},\"hatch_color\":{\"field\":\"color\"},\"line_alpha\":{\"value\":0.25},\"line_color\":{\"field\":\"color\"},\"size\":{\"value\":10},\"x\":{\"field\":\"x\"},\"y\":{\"field\":\"y\"}},\"id\":\"1147\",\"type\":\"Scatter\"},{\"attributes\":{},\"id\":\"1133\",\"type\":\"WheelZoomTool\"},{\"attributes\":{},\"id\":\"1136\",\"type\":\"ResetTool\"},{\"attributes\":{\"fill_alpha\":{\"value\":0.1},\"fill_color\":{\"field\":\"color\"},\"hatch_alpha\":{\"value\":0.1},\"hatch_color\":{\"field\":\"color\"},\"line_alpha\":{\"value\":0.1},\"line_color\":{\"field\":\"color\"},\"size\":{\"value\":10},\"x\":{\"field\":\"x\"},\"y\":{\"field\":\"y\"}},\"id\":\"1148\",\"type\":\"Scatter\"},{\"attributes\":{\"coordinates\":null,\"data_source\":{\"id\":\"1114\"},\"glyph\":{\"id\":\"1147\"},\"group\":null,\"hover_glyph\":null,\"muted_glyph\":{\"id\":\"1149\"},\"nonselection_glyph\":{\"id\":\"1148\"},\"view\":{\"id\":\"1151\"}},\"id\":\"1150\",\"type\":\"GlyphRenderer\"},{\"attributes\":{},\"id\":\"1137\",\"type\":\"HelpTool\"},{\"attributes\":{\"fill_alpha\":{\"value\":0.2},\"fill_color\":{\"field\":\"color\"},\"hatch_alpha\":{\"value\":0.2},\"hatch_color\":{\"field\":\"color\"},\"line_alpha\":{\"value\":0.2},\"line_color\":{\"field\":\"color\"},\"size\":{\"value\":10},\"x\":{\"field\":\"x\"},\"y\":{\"field\":\"y\"}},\"id\":\"1149\",\"type\":\"Scatter\"},{\"attributes\":{\"active_scroll\":{\"id\":\"1133\"},\"tools\":[{\"id\":\"1132\"},{\"id\":\"1133\"},{\"id\":\"1134\"},{\"id\":\"1135\"},{\"id\":\"1136\"},{\"id\":\"1137\"},{\"id\":\"1152\"}]},\"id\":\"1139\",\"type\":\"Toolbar\"},{\"attributes\":{},\"id\":\"1171\",\"type\":\"BasicTickFormatter\"},{\"attributes\":{},\"id\":\"1174\",\"type\":\"Selection\"},{\"attributes\":{\"bottom_units\":\"screen\",\"coordinates\":null,\"fill_alpha\":0.5,\"fill_color\":\"lightgrey\",\"group\":null,\"left_units\":\"screen\",\"level\":\"overlay\",\"line_alpha\":1.0,\"line_color\":\"black\",\"line_dash\":[4,4],\"line_width\":2,\"right_units\":\"screen\",\"syncable\":false,\"top_units\":\"screen\"},\"id\":\"1138\",\"type\":\"BoxAnnotation\"},{\"attributes\":{},\"id\":\"1172\",\"type\":\"AllLabels\"},{\"attributes\":{},\"id\":\"1168\",\"type\":\"BasicTickFormatter\"},{\"attributes\":{\"coordinates\":null,\"group\":null},\"id\":\"1165\",\"type\":\"Title\"},{\"attributes\":{},\"id\":\"1169\",\"type\":\"AllLabels\"},{\"attributes\":{\"data\":{\"color\":[\"blue\",\"blue\",\"blue\",\"blue\",\"blue\",\"blue\",\"blue\",\"blue\",\"blue\",\"blue\",\"blue\",\"blue\",\"blue\",\"blue\",\"blue\",\"blue\",\"blue\",\"blue\",\"blue\",\"blue\",\"blue\",\"blue\",\"blue\",\"blue\",\"blue\",\"blue\",\"blue\",\"blue\",\"blue\",\"blue\",\"blue\",\"blue\",\"blue\",\"blue\",\"blue\",\"blue\",\"blue\",\"blue\",\"blue\",\"blue\",\"blue\",\"blue\",\"blue\",\"blue\",\"blue\",\"blue\",\"blue\",\"blue\",\"blue\",\"blue\",\"blue\",\"blue\",\"blue\",\"blue\",\"blue\",\"blue\",\"blue\",\"blue\",\"blue\",\"blue\",\"blue\",\"blue\",\"blue\",\"blue\",\"blue\",\"blue\",\"blue\",\"blue\",\"blue\",\"blue\",\"blue\",\"blue\",\"blue\",\"blue\",\"blue\",\"blue\",\"blue\",\"blue\",\"blue\",\"blue\",\"blue\",\"blue\",\"blue\",\"blue\",\"blue\",\"blue\",\"blue\",\"blue\",\"blue\",\"blue\",\"blue\",\"blue\",\"blue\",\"blue\",\"blue\",\"blue\",\"blue\",\"blue\",\"blue\",\"blue\",\"blue\",\"blue\",\"blue\",\"blue\",\"blue\",\"blue\",\"blue\",\"blue\",\"blue\",\"blue\",\"blue\",\"blue\",\"blue\",\"blue\",\"blue\",\"blue\",\"blue\",\"blue\",\"blue\",\"blue\",\"blue\",\"blue\",\"blue\",\"blue\",\"blue\",\"blue\",\"blue\",\"blue\",\"blue\",\"blue\",\"blue\",\"blue\",\"blue\",\"blue\",\"blue\",\"blue\",\"blue\",\"blue\",\"blue\",\"blue\",\"blue\",\"blue\",\"blue\",\"blue\",\"blue\",\"blue\",\"blue\",\"blue\",\"blue\",\"blue\",\"blue\",\"blue\",\"blue\",\"blue\",\"blue\",\"blue\",\"blue\",\"blue\",\"blue\",\"blue\",\"blue\",\"blue\",\"blue\",\"blue\",\"blue\",\"blue\",\"blue\",\"blue\",\"blue\",\"blue\",\"blue\",\"blue\",\"blue\",\"blue\",\"blue\",\"blue\",\"blue\",\"blue\",\"blue\",\"blue\",\"blue\",\"blue\",\"blue\",\"blue\",\"blue\",\"blue\",\"blue\",\"blue\",\"blue\",\"blue\",\"blue\",\"blue\",\"blue\",\"blue\",\"blue\",\"blue\",\"blue\",\"blue\",\"blue\",\"blue\",\"blue\",\"blue\",\"blue\",\"blue\",\"blue\",\"blue\",\"blue\",\"blue\",\"blue\",\"blue\",\"blue\",\"blue\",\"blue\",\"blue\",\"blue\",\"blue\",\"blue\",\"blue\",\"blue\",\"blue\",\"blue\",\"blue\",\"blue\",\"blue\",\"blue\",\"blue\",\"blue\",\"blue\",\"blue\",\"blue\",\"blue\",\"blue\",\"blue\",\"blue\",\"blue\",\"blue\",\"blue\",\"blue\",\"blue\",\"blue\",\"blue\",\"blue\",\"blue\",\"blue\",\"blue\",\"blue\",\"blue\",\"blue\",\"blue\",\"blue\",\"blue\",\"blue\",\"blue\",\"blue\",\"blue\",\"blue\",\"blue\",\"blue\",\"blue\",\"blue\",\"blue\",\"blue\",\"blue\",\"blue\",\"blue\",\"blue\",\"blue\",\"blue\",\"blue\",\"blue\",\"blue\",\"blue\",\"blue\",\"blue\",\"blue\",\"blue\",\"blue\",\"blue\",\"blue\",\"blue\",\"blue\",\"blue\",\"blue\",\"blue\",\"blue\",\"blue\",\"blue\",\"blue\",\"blue\",\"blue\",\"blue\",\"blue\",\"blue\",\"blue\",\"blue\",\"blue\",\"blue\",\"blue\",\"blue\",\"blue\",\"blue\",\"blue\",\"blue\",\"blue\",\"blue\",\"blue\",\"blue\",\"blue\",\"blue\",\"blue\",\"blue\",\"blue\",\"blue\",\"blue\",\"blue\",\"blue\",\"blue\",\"blue\",\"blue\",\"blue\",\"blue\",\"blue\",\"blue\",\"blue\",\"blue\",\"blue\",\"blue\",\"blue\",\"blue\",\"blue\",\"blue\",\"blue\",\"blue\",\"blue\",\"blue\",\"blue\",\"blue\",\"blue\",\"blue\",\"blue\",\"blue\",\"blue\",\"blue\",\"blue\",\"blue\",\"blue\",\"blue\",\"blue\",\"blue\",\"blue\",\"blue\",\"blue\",\"blue\",\"blue\",\"blue\",\"blue\",\"blue\",\"blue\",\"blue\",\"blue\",\"blue\",\"blue\",\"blue\",\"blue\",\"blue\",\"blue\",\"blue\",\"blue\",\"blue\",\"blue\",\"blue\",\"blue\",\"blue\",\"blue\",\"blue\",\"blue\",\"blue\",\"blue\",\"blue\",\"blue\",\"blue\",\"blue\",\"blue\",\"blue\",\"blue\",\"blue\",\"blue\",\"blue\",\"blue\",\"blue\",\"blue\",\"blue\",\"blue\",\"blue\",\"blue\",\"blue\",\"blue\",\"blue\",\"blue\",\"blue\",\"blue\",\"blue\",\"blue\",\"blue\",\"blue\",\"blue\",\"blue\",\"blue\",\"blue\",\"blue\",\"blue\",\"blue\",\"blue\",\"blue\",\"blue\",\"blue\",\"blue\",\"blue\",\"blue\",\"blue\",\"blue\",\"blue\",\"blue\",\"blue\",\"blue\",\"blue\",\"blue\",\"blue\",\"blue\",\"blue\",\"blue\",\"blue\",\"blue\",\"blue\",\"blue\",\"blue\",\"blue\",\"blue\",\"blue\",\"blue\",\"blue\",\"blue\",\"blue\",\"blue\",\"blue\",\"blue\",\"blue\",\"blue\",\"blue\",\"blue\",\"blue\",\"blue\",\"blue\",\"blue\",\"blue\",\"blue\",\"blue\",\"blue\",\"blue\",\"blue\",\"blue\",\"blue\",\"blue\",\"blue\",\"blue\",\"blue\",\"blue\",\"blue\",\"blue\",\"blue\",\"blue\",\"blue\",\"blue\",\"blue\",\"blue\",\"blue\",\"blue\",\"blue\",\"blue\",\"blue\",\"blue\",\"blue\",\"blue\",\"blue\",\"blue\",\"blue\",\"blue\",\"blue\",\"blue\",\"blue\",\"blue\",\"blue\",\"blue\",\"blue\",\"blue\",\"blue\",\"blue\",\"blue\",\"blue\",\"blue\",\"blue\",\"blue\",\"blue\",\"blue\",\"blue\",\"blue\",\"blue\",\"blue\",\"blue\",\"blue\",\"blue\",\"blue\",\"blue\",\"blue\",\"blue\",\"blue\",\"blue\",\"blue\",\"blue\",\"blue\",\"blue\",\"blue\",\"blue\",\"blue\",\"blue\",\"blue\",\"blue\",\"blue\",\"blue\",\"blue\",\"blue\",\"blue\",\"blue\",\"blue\",\"blue\",\"blue\",\"blue\",\"blue\",\"blue\",\"blue\",\"blue\",\"blue\",\"blue\",\"blue\",\"blue\",\"blue\",\"blue\",\"blue\",\"blue\",\"blue\",\"blue\",\"blue\",\"blue\",\"blue\",\"blue\",\"blue\",\"blue\",\"blue\",\"blue\",\"blue\",\"blue\",\"blue\",\"blue\",\"blue\",\"blue\",\"blue\",\"blue\",\"blue\",\"blue\",\"blue\",\"blue\",\"blue\",\"blue\",\"blue\",\"blue\",\"blue\",\"blue\",\"blue\",\"blue\",\"blue\",\"blue\",\"blue\",\"blue\",\"blue\",\"blue\",\"blue\",\"blue\",\"blue\",\"blue\",\"blue\",\"blue\",\"blue\",\"blue\",\"blue\",\"blue\",\"blue\",\"blue\",\"blue\",\"blue\",\"blue\",\"blue\",\"blue\",\"blue\",\"blue\",\"blue\",\"blue\",\"blue\",\"blue\",\"blue\",\"blue\",\"blue\",\"blue\",\"blue\",\"blue\",\"blue\",\"blue\",\"blue\",\"blue\",\"blue\",\"blue\",\"blue\",\"blue\",\"blue\",\"blue\",\"blue\",\"blue\",\"blue\",\"blue\",\"blue\",\"blue\",\"blue\",\"blue\",\"blue\",\"blue\",\"blue\",\"blue\",\"blue\",\"blue\",\"blue\",\"blue\",\"blue\",\"blue\",\"blue\",\"blue\",\"blue\",\"blue\",\"blue\",\"blue\",\"blue\",\"blue\",\"blue\",\"blue\",\"blue\",\"blue\",\"blue\",\"blue\",\"blue\",\"blue\",\"blue\",\"blue\",\"blue\",\"blue\",\"blue\",\"blue\",\"blue\",\"blue\",\"blue\",\"blue\",\"blue\",\"blue\",\"blue\",\"blue\",\"blue\",\"blue\",\"blue\",\"blue\",\"blue\",\"blue\",\"blue\",\"blue\",\"blue\",\"blue\",\"blue\",\"blue\",\"blue\",\"blue\",\"blue\",\"blue\",\"blue\",\"blue\",\"blue\",\"blue\",\"blue\",\"blue\",\"blue\",\"blue\",\"blue\",\"blue\",\"blue\",\"blue\",\"blue\",\"blue\",\"blue\",\"blue\",\"blue\",\"blue\",\"blue\",\"blue\",\"blue\",\"blue\",\"blue\",\"blue\",\"blue\",\"blue\",\"blue\",\"blue\",\"blue\",\"blue\",\"blue\",\"blue\",\"blue\",\"blue\",\"blue\",\"blue\",\"blue\",\"blue\",\"blue\",\"blue\",\"blue\",\"blue\",\"blue\",\"blue\",\"blue\",\"blue\",\"blue\",\"blue\",\"blue\",\"blue\",\"blue\",\"blue\",\"blue\",\"blue\",\"blue\",\"blue\",\"blue\",\"blue\",\"blue\",\"blue\",\"blue\",\"blue\",\"blue\",\"blue\",\"blue\",\"blue\",\"blue\",\"blue\",\"blue\",\"blue\",\"blue\",\"blue\",\"blue\",\"blue\",\"blue\",\"blue\",\"blue\",\"blue\",\"blue\",\"blue\",\"blue\",\"blue\",\"blue\",\"blue\",\"blue\",\"blue\",\"blue\",\"blue\",\"blue\",\"blue\",\"blue\",\"blue\",\"blue\",\"blue\",\"blue\",\"blue\",\"blue\",\"blue\",\"blue\",\"blue\",\"blue\",\"blue\",\"blue\",\"blue\",\"blue\",\"blue\",\"blue\",\"blue\",\"blue\",\"blue\",\"blue\",\"blue\",\"blue\",\"blue\",\"blue\",\"blue\",\"blue\",\"blue\",\"blue\",\"blue\",\"blue\",\"blue\",\"blue\",\"blue\",\"blue\",\"blue\",\"blue\",\"blue\",\"blue\",\"blue\",\"blue\",\"blue\",\"blue\",\"blue\",\"blue\",\"blue\",\"blue\",\"blue\",\"blue\",\"blue\",\"blue\",\"blue\",\"blue\",\"blue\",\"blue\",\"blue\",\"blue\",\"blue\",\"blue\",\"blue\",\"blue\",\"blue\",\"blue\",\"blue\",\"blue\",\"blue\",\"blue\",\"blue\",\"blue\",\"blue\",\"blue\",\"blue\",\"blue\",\"blue\",\"blue\",\"blue\",\"blue\",\"blue\",\"blue\",\"blue\",\"blue\",\"blue\",\"blue\",\"blue\",\"blue\",\"blue\",\"blue\",\"blue\",\"blue\",\"blue\",\"blue\",\"blue\",\"blue\",\"blue\",\"blue\",\"blue\",\"blue\",\"blue\",\"blue\",\"blue\",\"blue\",\"blue\",\"blue\",\"blue\",\"blue\",\"blue\",\"blue\",\"blue\",\"blue\",\"blue\",\"blue\",\"blue\",\"blue\",\"blue\",\"blue\",\"blue\",\"blue\",\"blue\",\"blue\",\"blue\",\"blue\",\"blue\",\"blue\",\"blue\",\"blue\",\"blue\",\"blue\",\"blue\",\"blue\",\"blue\",\"blue\",\"blue\",\"blue\",\"blue\",\"blue\",\"blue\",\"blue\",\"blue\",\"blue\",\"blue\",\"blue\",\"blue\",\"blue\",\"blue\",\"blue\",\"blue\",\"blue\",\"blue\",\"blue\",\"blue\",\"blue\",\"blue\",\"blue\",\"blue\",\"blue\",\"blue\",\"blue\",\"blue\",\"blue\",\"blue\",\"blue\",\"blue\",\"blue\",\"blue\",\"blue\",\"blue\",\"blue\",\"blue\",\"blue\",\"blue\",\"blue\",\"blue\",\"blue\",\"blue\",\"blue\",\"blue\",\"blue\",\"blue\",\"blue\",\"blue\",\"blue\",\"blue\",\"blue\",\"blue\",\"blue\",\"blue\",\"blue\",\"blue\",\"blue\",\"blue\",\"blue\",\"blue\",\"blue\",\"blue\",\"blue\",\"blue\",\"blue\",\"blue\",\"blue\",\"blue\",\"blue\",\"blue\",\"blue\",\"blue\",\"blue\",\"blue\",\"blue\",\"blue\",\"blue\",\"blue\",\"blue\",\"blue\",\"blue\",\"blue\",\"blue\",\"blue\",\"blue\",\"blue\",\"blue\",\"blue\",\"blue\",\"blue\"],\"token\":[\"kargo\",\"\\u015fube\",\"teslim\",\"olmak\",\"ev\",\"gelmek\",\"\\u00fcr\\u00fcn\",\"etmek\",\"yok\",\"aramak\",\"i\\u00e7in\",\"yapmak\",\"adres\",\"i\\u015f\",\"ne\",\"telefon\",\"g\\u00fcn\",\"iade\",\"m\\u00fc\\u015fteri\",\"vermek\",\"gitmek\",\"da\\u011f\\u0131t\\u0131m\",\"diye\",\"kadar\",\"var\",\"edilmek\",\"\\u015fikayet\",\"sipari\\u015f\",\"beklemek\",\"gelmemek\",\"olmamak\",\"numara\",\"etmemek\",\"g\\u00f6ndermek\",\"\\u00e7al\\u0131\\u015fmak\",\"daha\",\"\\u00e7al\\u0131\\u015fan\",\"kap\\u0131\",\"bana\",\"s\\u00fcre\\u00e7\",\"mesaj\",\"b\\u0131rakmak\",\"gibi\",\"\\u015firket\",\"b\\u00f6yle\",\"geri\",\"sonra\",\"ula\\u015fmak\",\"getirmek\",\"olarak\",\"edilmemek\",\"ayn\\u0131\",\"de\\u011fil\",\"her\",\"hi\\u00e7bir\",\"g\\u00fcnd\\u00fcr\",\"kurye\",\"d\\u00f6nem\",\"\\u015fekilde\",\"bile\",\"bug\\u00fcn\",\"ma\\u011fdur\",\"hala\",\"\\u00e7\\u0131kmak\",\"getirmemek\",\"hizmetleri\",\"paket\",\"ge\\u00e7mek\",\"takip\",\"\\u00e7\\u0131kmamak\",\"vermemek\",\"neden\",\"di\\u011fer\",\"fakat\",\"al\\u0131\\u015fveri\\u015f\",\"benim\",\"ancak\",\"yapmamak\",\"\\u015fey\",\"halde\",\"zaman\",\"dolay\\u0131\",\"trendyol\",\"art\\u0131k\",\"beni\",\"gidip\",\"saat\",\"cevap\",\"aktarma\",\"hi\\u00e7\",\"tekrar\",\"ba\\u015fka\",\"yalan\",\"para\",\"g\\u00fcn\\u00fc\",\"ald\\u0131\\u011f\\u0131m\",\"sistem\",\"hizmet\",\"gelip\",\"personel\",\"ula\\u015fmamak\",\"ise\",\"internet\",\"firma\",\"te\\u015fekk\\u00fcr\",\"asla\",\"bilgi\",\"kabul\",\"bekletmek\",\"istanbul\",\"t\\u00fcm\",\"nedeniyle\",\"ilgili\",\"l\\u00fctfen\",\"istiyorum\",\"kaybolmak\",\"taraf\\u0131ndan\",\"arkada\\u015f\",\"ald\\u0131m\",\"iki\",\"elime\",\"i\\u00e7inde\",\"hafta\",\"bunu\",\"sorumsuz\",\"sorun\",\"zorunda\",\"\\u00fccret\",\"d\\u0131\\u015far\\u0131\",\"sizin\",\"almak\",\"not\",\"taraf\\u0131ma\",\"sadece\",\"nun\",\"sorunu\",\"d\\u00f6n\\u00fc\\u015f\",\"ula\\u015f\\u0131lmamak\",\"den\",\"bahane\",\"a\\u00e7mamak\",\"kimse\",\"may\\u0131s\",\"s\\u00f6yledilmek\",\"yanl\\u0131\\u015f\",\"yani\",\"\\u00e7\\u00f6z\\u00fcld\\u00fc\",\"al\\u0131n\",\"s\\u00f6yledi\",\"g\\u00fcnde\",\"kez\",\"diyorlar\",\"\\u00e7\\u00f6z\\u00fcm\",\"talep\",\"sebebiyle\",\"ki\\u015fi\",\"beri\",\"son\",\"yetkili\",\"ger\\u00e7ekten\",\"genel\",\"tek\",\"b\\u00fct\\u00fcn\",\"g\\u00f6nderi\",\"zor\",\"rica\",\"size\",\"al\\u0131c\\u0131\",\"zil\",\"durumu\",\"y\\u00fcz\\u00fcnden\",\"insanlar\\u0131\",\"yapabilmek\",\"durum\",\"\\u00f6deme\",\"ilk\",\"kendi\",\"\\u00e7a\\u011fr\\u0131\",\"izmir\",\"\\u00e7\\u00fcnk\\u00fc\",\"apartman\",\"g\\u00f6rmemek\",\"\\u00e7almak\",\"yere\",\"defalarca\",\"olmas\\u0131na\",\"i\\u00e7erisinde\",\"eleman\",\"deyip\",\"dakika\",\"hata\",\"haftad\\u0131r\",\"gecikme\",\"kere\",\"yard\\u0131mc\\u0131\",\"no\",\"\\u00fcstelik\",\"gereken\",\"do\\u011fru\",\"bunun\",\"firmas\\u0131\",\"sayg\\u0131s\\u0131z\",\"k\\u00f6t\\u00fc\",\"g\\u00f6re\",\"ye\",\"ka\\u011f\\u0131t\",\"kesinlikle\",\"maske\",\"ankara\",\"almaya\",\"temsilci\",\"merkezi\",\"herhangi\",\"yerine\",\"tl\",\"dahi\",\"soka\\u011fa\",\"bende\",\"dolay\\u0131s\\u0131yla\",\"maltepe\",\"gerekti\\u011fini\",\"nerede\",\"farkl\\u0131\",\"sizi\",\"\\u00fczerine\",\"bulamad\\u0131k\",\"haber\",\"yo\\u011funluk\",\"bize\",\"haziran\",\"sabah\",\"olmama\",\"verilen\",\"maalesef\",\"almam\",\"ge\\u00e7\",\"hepsiburada\",\"gerekli\",\"muhatap\",\"ka\\u00e7\",\"yaz\\u0131yor\",\"kendim\",\"g\\u00f6r\\u00fcn\\u00fcyor\",\"iyi\",\"insan\",\"\\u00e7\\u0131kma\",\"hemen\",\"verildi\",\"orada\",\"diyerek\",\"fazla\",\"bizi\",\"insanlar\",\"olmas\\u0131\",\"d\\u00fczg\\u00fcn\",\"acil\",\"gerekiyor\",\"e\\u011fer\",\"hakk\\u0131nda\",\"me\\u015fgul\",\"yar\\u0131n\",\"dair\",\"gelin\",\"yola\",\"bizim\",\"t\\u00fcrl\\u00fc\",\"\\u00fczere\",\"de\\u011filim\",\"m\\u00fcmk\\u00fcn\",\"k\\u0131sa\",\"biri\",\"d\\u00fcn\",\"merkez\",\"herkes\",\"s\\u00f6yledim\",\"a\\u00e7an\",\"\\u015feklinde\",\"diyorum\",\"ayd\\u0131r\",\"olmaz\",\"madem\",\"ileti\\u015fim\",\"bundan\",\"g\\u00f6nderim\",\"durumda\",\"g\\u00f6nderici\",\"vs\",\"yaz\\u0131k\",\"yakla\\u015f\\u0131k\",\"gitmemek\",\"g\\u00f6z\\u00fck\\u00fcyor\",\"g\\u00fcnlerdir\",\"merkezinde\",\"\\u00f6zellikle\",\"b\\u00fcy\\u00fck\",\"a\\u015fa\\u011f\\u0131\",\"yo\\u011fun\",\"kald\\u0131\",\"mesafe\",\"kapal\\u0131\",\"pazartesi\",\"alm\\u0131\\u015f\",\"vard\\u0131\",\"a\\u00e7\\u0131k\",\"ay\\u0131n\",\"te\\u015fekk\\u00fcrler\",\"istedim\",\"tercih\",\"kontrol\",\"devam\",\"nin\",\"belli\",\"zamanda\",\"nisan\",\"sa\\u00e7ma\",\"al\\u0131p\",\"bilgisi\",\"buna\",\"nedir\",\"ertesi\",\"yapamamak\",\"s\\u00f6ylendi\",\"uzun\",\"\\u00e7\\u0131kan\",\"yapmad\",\"falan\",\"bursa\",\"bilgilendirme\",\"olup\",\"\\u00e7\\u0131k\\u0131p\",\"kodu\",\"\\u00fcst\\u00fcne\",\"online\",\"s\\u0131k\\u0131nt\\u0131\",\"ya\\u015f\\u0131yorum\",\"esenyurt\",\"firmalar\\u0131\",\"g\\u00f6rd\\u00fcm\",\"belki\",\"oraya\",\"sms\",\"cumartesi\",\"niye\",\"site\",\"yukar\\u0131\",\"halen\",\"nedeni\",\"demek\",\"buraya\",\"resmen\",\"s\\u00f6yl\\u00fcyorlar\",\"imza\",\"hatta\",\"merkezine\",\"sebebi\",\"yerde\",\"oradan\",\"sa\\u011fl\\u0131k\",\"arama\",\"onu\",\"kar\\u015f\\u0131\",\"sonu\\u00e7\",\"sitesinden\",\"sat\\u0131n\",\"dalga\",\"g\\u00fcnlerde\",\"yeni\",\"eden\",\"gelir\",\"biraz\",\"kim\",\"ileti\\u015fime\",\"seferinde\",\"yap\\u0131n\",\"g\\u00f6r\",\"d\\u0131\\u015f\\u0131nda\",\"alam\\u0131yorum\",\"dendi\",\"birka\\u00e7\",\"s\\u0131ra\",\"yasa\\u011f\\u0131\",\"edin\",\"gerek\",\"\\u00f6n\\u00fcne\",\"yasak\",\"fatura\",\"bulunamad\\u0131\",\"uyar\\u0131\",\"sanki\",\"istemiyorum\",\"e\\u015fim\",\"boyunca\",\"konu\",\"yer\",\"sordu\\u011fumda\",\"k\\u00fc\\u00e7\\u00fck\",\"umar\\u0131m\",\"a\\u015fa\\u011f\\u0131ya\",\"yla\",\"yaz\\u0131klar\",\"bilmiyorum\",\"az\\u0131ndan\",\"beklememek\",\"eksik\",\"kp\",\"zaman\\u0131nda\",\"s\\u00fcre\",\"malum\",\"ona\",\"kald\\u0131m\",\"san\\u0131r\\u0131m\",\"karde\\u015fim\",\"ayr\\u0131\",\"firmaya\",\"g\\u00fcnlerinde\",\"ya\\u015fad\\u0131\\u011f\\u0131m\",\"bulundu\\u011fum\",\"y\\u00fczden\",\"sonras\\u0131nda\",\"aral\\u0131k\",\"aramama\",\"firmalar\",\"s\\u00f6yl\\u00fcyor\",\"s\\u00f6zde\",\"laz\\u0131m\",\"hadi\",\"varsa\",\"\\u00f6nlem\",\"\\u015feyi\",\"tav\\u0131r\",\"hareket\",\"kay\\u0131t\",\"yak\\u0131n\",\"iptal\",\"uzak\",\"sefer\",\"ak\\u015fam\",\"i\\u00e7i\",\"yeter\",\"ad\\u0131na\",\"par\\u00e7a\",\"normal\",\"mesai\",\"g\\u00f6revli\",\"s\\u00fcrede\",\"yurt\",\"g\\u00fcvenlik\",\"hangi\",\"allah\",\"adet\",\"maskesiz\",\"talebi\",\"bayan\",\"cuma\",\"alamad\\u0131m\",\"yetersiz\",\"ortada\",\"mail\",\"s\\u00f6z\",\"neyse\",\"firman\\u0131n\",\"tane\",\"memnuniyet\",\"konuda\",\"sa\\u00e7mal\\u0131k\",\"insanlar\\u0131n\",\"konusunda\",\"buradan\",\"merkezini\",\"sat\\u0131c\\u0131\",\"com\",\"firmadan\",\"bakt\\u0131\\u011f\\u0131mda\",\"tabi\",\"\\u00fc\\u00e7\",\"burada\",\"bulunan\",\"ge\\u00e7memek\",\"acilen\",\"a\\u00e7\\u0131lmamak\",\"s\\u0131f\\u0131r\",\"problem\",\"sonunda\",\"arada\",\"d\\u00fc\\u015f\\u00fcn\\u00fcyorum\",\"bari\",\"hasar\",\"bahanesi\",\"\\u00e7\\u0131kam\\u0131yorum\",\"kayseri\",\"almam\\u0131\",\"t\\u00fcketici\",\"transfer\",\"kocaeli\",\"s\\u00fcresi\",\"annem\",\"inip\",\"kayd\\u0131\",\"benden\",\"anda\",\"kas\\u0131m\",\"g\\u00f6revlisi\",\"gerekti\\u011fi\",\"kurumsal\",\"alaca\\u011f\\u0131m\",\"olmam\\u0131za\",\"olu\\u015fturdum\",\"merak\",\"antalya\",\"\\u00f6\\u011frendim\",\"anlam\\u0131yorum\",\"misiniz\",\"al\\u0131yorum\",\"deniyor\",\"\\u0131srarla\",\"barkod\",\"neredeyse\",\"\\u00f6n\\u00fcnde\",\"elimde\",\"oturuyorum\",\"yolda\",\"sordum\",\"a\\u00e7\\u0131klama\",\"denildi\",\"varken\",\"ikinci\",\"konusu\",\"hepsi\",\"\\u00e7\\u0131kam\\u0131yoruz\",\"kolay\",\"iddia\",\"bina\",\"gel\",\"t\\u00fcrkiye\",\"adam\",\"kendilerine\",\"deniliyor\",\"g\\u00f6nderimi\",\"tamamen\",\"alan\",\"ya\\u015fad\\u0131m\",\"anl\\u0131yorum\",\"imkans\\u0131z\",\"al\",\"tan\",\"kimlik\",\"b\\u0131kt\\u0131m\",\"alabilirsiniz\",\"hay\\u0131r\",\"benimle\",\"sosyal\",\"\\u00f6nemli\",\"sizden\",\"g\\u00f6ndermemek\",\"n\\u0131n\",\"g\\u00fcya\",\"tabii\",\"posta\",\"bence\",\"may\\u0131sta\",\"insanlara\",\"peki\",\"adana\",\"verin\",\"sizinle\",\"mevcut\",\"gere\\u011finin\",\"h\\u0131zl\\u0131\",\"s\\u00f6yleyip\",\"bulundum\",\"yerden\",\"\\u00fczerinde\",\"gerekirken\",\"ses\",\"ara\\u00e7\",\"ki\\u015fiye\",\"alacak\",\"mart\",\"\\u00f6zel\",\"herhalde\",\"hak\",\"sebep\",\"han\\u0131m\",\"konuyla\",\"anlamad\\u0131m\",\"destek\",\"merkeze\",\"durumunda\",\"alt\\u0131nda\",\"i\\u00e7eri\",\"\\u00e7\\u0131k\\u0131\\u015f\",\"biliyorum\",\"salg\\u0131n\\u0131\",\"saatleri\",\"al\\u0131c\\u0131ya\",\"kod\",\"al\\u0131m\",\"kad\\u0131n\",\"beyan\",\"alm\\u0131yor\",\"konya\",\"bizde\",\"olay\",\"a\\u00e7\\u0131p\",\"yasal\",\"gayet\",\"yol\",\"kendisi\",\"bebe\\u011fim\",\"i\\u00e7ine\",\"yar\\u0131m\",\"gaziantep\",\"alay\\u0131m\",\"birine\",\"ait\",\"mecbur\",\"bakt\\u0131m\",\"anlam\\u0131\\u015f\",\"anlay\\u0131\\u015f\",\"problemi\",\"kg\",\"bizzat\",\"ikitelli\",\"kata\",\"kimseye\",\"firmas\\u0131ndan\",\"kimsenin\",\"dahil\",\"daki\",\"edilmemesi\",\"kendileri\",\"ay\\u0131p\",\"d\\u0131\\u015far\\u0131ya\",\"temmuz\",\"yeri\",\"ilgisiz\",\"k\\u0131r\\u0131k\",\"ekran\",\"bunlar\",\"\\u015fehir\",\"s\\u00fcr\\u00fc\",\"karar\",\"zaman\\u0131\",\"g\\u00fczel\",\"cimer\",\"\\u00f6nceki\",\"kendisine\",\"b\\u00f6lge\",\"kronik\",\"kime\",\"sakarya\",\"ya\\u015f\",\"s\\u0131rada\",\"takdirde\",\"sal\\u0131\",\"yo\\u011funlu\\u011fu\",\"kat\",\"bakan\",\"ki\\u015finin\",\"giri\\u015f\",\"hasta\",\"izin\",\"bir\\u00e7ok\",\"a\\u011f\\u0131r\",\"hikmetse\",\"g\\u00fcnlerce\",\"g\\u00f6r\\u00fc\\u015ft\\u00fcm\",\"ke\\u015fke\",\"kaba\",\"kitap\",\"yi\",\"beyefendi\",\"yo\\u011funluktan\",\"olun\",\"yan\\u0131t\",\"soruyorum\",\"bo\\u015f\",\"duruyor\",\"diyorsunuz\",\"arand\\u0131m\",\"daire\",\"g\\u00fcnden\",\"yaparken\",\"d\\u0131\\u015f\\u0131\",\"gere\\u011fi\",\"yazd\\u0131m\",\"bahanesiyle\",\"birlikte\",\"\\u015faka\",\"ka\\u00e7\\u0131nc\\u0131\",\"giderilmesini\",\"saatte\",\"etmeme\",\"d\\u0131\\u015far\\u0131da\",\"duruma\",\"g\\u00fcnler\",\"kal\\u0131yorum\",\"\\u00e7ar\\u015famba\",\"defas\\u0131nda\",\"s\\u0131rf\",\"s\\u00f6yleniyor\",\"\\u015feyler\",\"ad\\u0131ma\",\"bey\",\"giri\\u015fine\",\"haziranda\",\"lakay\\u0131t\",\"dolmak\",\"el\",\"gider\",\"isim\",\"memnun\",\"belirttim\",\"dikkat\",\"alakal\\u0131\",\"hakk\\u0131m\\u0131\",\"keyfi\",\"zahmet\",\"direk\",\"ta\\u015f\\u0131ma\",\"gelince\",\"ula\\u015fm\\u0131\\u015f\",\"al\\u0131rken\",\"ard\\u0131ndan\",\"normalde\",\"nereye\",\"y\\u00fcz\\u00fcme\",\"ad\\u0131\",\"al\\u0131yor\",\"engel\",\"duymamak\",\"ortam\",\"yapaca\\u011f\\u0131m\",\"ya\\u015fl\\u0131\",\"ald\\u0131\",\"bilgisini\",\"han\\u0131mefendi\",\"ya\\u015famad\\u0131m\",\"\\u00fcst\\u00fc\",\"alma\",\"sonu\",\"istedi\",\"at\\u0131yorlar\",\"g\\u00fcvenli\\u011fe\",\"durumun\",\"firmay\\u0131\",\"ten\",\"\\u00fcst\",\"g\\u00fcnl\\u00fck\",\"haftada\",\"hayat\\u0131mda\",\"sitede\",\"pos\",\"sonraki\",\"herkesin\",\"hele\",\"anla\\u015fmal\\u0131\",\"babam\",\"canl\\u0131\",\"alman\\u0131z\",\"yazm\\u0131\\u015flar\",\"devlet\",\"m\\u0131s\\u0131n\\u0131z\",\"s\\u00f6yleyerek\",\"per\\u015fembe\",\"sizde\",\"kredi\",\"temass\\u0131z\",\"iken\",\"al\\u0131nd\\u0131\",\"at\\u0131p\",\"isterim\",\"al\\u0131r\\u0131m\",\"bo\\u015funa\",\"fark\",\"helal\",\"da\\u011f\\u0131t\\u0131c\\u0131\",\"insan\\u0131\",\"yana\",\"saati\",\"sitenin\",\"ula\\u015fan\",\"uygulama\",\"birisi\",\"yerlere\",\"\\u00f6ncelikle\",\"ald\\u0131k\",\"cep\",\"hediye\",\"sitesi\",\"yaz\\u0131yordu\",\"s\\u00f6yledi\\u011fimde\",\"otomatik\",\"kar\\u015f\\u0131la\\u015ft\\u0131m\",\"de\\u011fildir\",\"arac\\u0131l\\u0131\\u011f\\u0131yla\",\"ald\\u0131\\u011f\\u0131m\\u0131z\",\"almayaca\\u011f\\u0131m\",\"yava\\u015f\",\"k\\u00f6t\\u00fcbir\",\"eyl\\u00fcl\",\"mersin\",\"ifade\",\"karantina\",\"ho\\u015f\",\"ya\\u015f\\u0131nda\",\"sa\\u011f\",\"al\\u0131nmas\\u0131\",\"aksi\",\"g\\u00f6r\\u00fcyorum\",\"merkezinden\",\"haberim\",\"\\u00f6z\\u00fcr\",\"durumunu\",\"kimseyi\",\"itibariyle\",\"at\\u0131yor\",\"onlar\\u0131n\",\"zarar\",\"halinde\",\"dile\",\"oradaki\",\"kaynakl\\u0131\",\"istedi\\u011fim\",\"eski\\u015fehir\",\"maddi\",\"gelsin\",\"hen\\u00fcz\",\"\\u00f6t\\u00fcr\\u00fc\",\"kamera\",\"\\u00e7\\u00f6z\\u00fcme\",\"alal\\u0131m\",\"trabzon\",\"musunuz\",\"etmem\",\"\\u00f6\\u011frenmek\",\"ba\\u015flad\\u0131\",\"bulam\\u0131yorum\",\"ya\\u015fanan\",\"ekim\",\"saatlerinde\",\"ula\\u015fm\\u0131yor\",\"yaz\\u0131yorum\",\"lik\",\"halbuki\",\"ikamet\",\"onlara\",\"bak\\u0131n\",\"derece\",\"bakm\\u0131yor\",\"yard\\u0131m\",\"al\\u0131yoruz\",\"bulun\",\"sonu\\u00e7ta\",\"\\u00f6dedi\\u011fim\",\"sorunum\",\"yahu\",\"yo\\u011funuz\",\"firmas\\u0131n\\u0131n\",\"ba\\u015f\\u0131ma\",\"anlay\\u0131\\u015fla\",\"onlarda\",\"bildirim\",\"m\\u00fcd\\u00fcr\\u00fc\",\"lira\",\"ula\\u015fmas\\u0131\",\"riske\",\"var\\u0131\\u015f\",\"onun\",\"tekrardan\",\"koli\",\"su\",\"yapacak\",\"karantinada\",\"bulamam\\u0131\\u015f\",\"ederken\",\"i\\u00e7eride\",\"ba\\u015fkas\\u0131na\",\"alam\\u0131yoruz\",\"istiyor\",\"k\\u0131n\\u0131yorum\",\"elaz\\u0131\\u011f\",\"asans\\u00f6re\",\"elden\",\"risk\",\"ticaret\",\"al\\u0131m\\u0131\",\"git\",\"kapatt\\u0131\",\"insanlarla\",\"vard\\u0131r\",\"ayl\\u0131k\",\"istiyorlar\",\"samsun\",\"belirtti\",\"firmas\\u0131na\",\"bulamam\\u0131\\u015flar\",\"nereden\",\"anlay\\u0131\\u015f\\u0131\",\"ara\",\"ocak\",\"net\",\"arz\",\"ula\\u015f\\u0131m\",\"de\\u011fi\\u015fiklik\",\"aradan\",\"nedense\",\"aya\\u011f\\u0131na\",\"rezil\",\"isimli\",\"illa\",\"sapan\",\"pazar\",\"baz\\u0131\",\"inde\",\"ilgi\",\"\\u00e7ocu\\u011fum\",\"bulundu\\u011fumuz\",\"olmasa\",\"bug\\u00fcne\",\"ondan\",\"dolay\\u0131s\\u0131\",\"kart\\u0131\",\"g\\u00fcn\\u00fcnde\",\"d\\u00fc\\u015f\\u00fcyor\",\"konuyu\",\"bak\\u0131yorum\",\"bozuk\",\"teyit\",\"ya\\u015f\\u0131yoruz\",\"web\",\"haklar\\u0131\",\"kafalar\\u0131na\",\"dikkate\",\"yolu\",\"tenezz\\u00fcl\",\"yaz\\u0131lm\\u0131\\u015f\",\"\\u00e7\\u00f6z\\u00fclmesini\",\"tahmini\",\"girip\",\"acente\",\"talebinde\",\"kapat\\u0131n\",\"dolap\",\"neymi\\u015f\",\"ana\",\"ad\\u0131m\",\"arac\\u0131\",\"al\\u0131yorsunuz\",\"siteye\",\"tutanak\",\"sonras\\u0131\",\"y\\u0131l\",\"hakk\\u0131n\\u0131z\",\"muhtemelen\",\"ula\\u015fmaya\",\"bunlar\\u0131\",\"oturdu\\u011fum\",\"gitmem\",\"in\\u015fallah\",\"idi\",\"elimize\",\"y\\u00fcksek\",\"sahip\",\"g\\u00f6nderin\",\"zorla\",\"alakas\\u0131\",\"gidin\",\"almad\\u0131m\",\"bildirdim\",\"varm\\u0131\\u015f\",\"al\\u0131nan\",\"veriliyor\",\"galiba\",\"ba\\u011fl\\u0131\",\"sorunun\",\"b\\u00f6lgeye\",\"binaya\",\"gerek\\u00e7esiyle\",\"bakal\\u0131m\",\"salg\\u0131n\",\"kurum\",\"arkas\\u0131na\",\"hastas\\u0131\",\"konu\\u015fma\",\"\\u00f6nceden\",\"ismini\",\"emin\",\"kuyruk\",\"siteden\",\"ba\\u015f\\u0131na\",\"a\\u011fustos\",\"g\\u00f6rd\\u00fc\\u011f\\u00fcm\",\"diyen\",\"istedi\\u011fimde\",\"pes\",\"anlatt\\u0131m\",\"\\u00e7\\u0131kar\\u0131ld\\u0131\",\"a\\u015f\\u0131r\\u0131\",\"\\u00e7o\\u011fu\"],\"x\":{\"__ndarray__\":\"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\",\"dtype\":\"float32\",\"order\":\"little\",\"shape\":[1000]},\"y\":{\"__ndarray__\":\"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\",\"dtype\":\"float32\",\"order\":\"little\",\"shape\":[1000]}},\"selected\":{\"id\":\"1174\"},\"selection_policy\":{\"id\":\"1173\"}},\"id\":\"1114\",\"type\":\"ColumnDataSource\"},{\"attributes\":{},\"id\":\"1118\",\"type\":\"DataRange1d\"},{\"attributes\":{\"callback\":null,\"tooltips\":[[\"token\",\"@token\"]]},\"id\":\"1152\",\"type\":\"HoverTool\"},{\"attributes\":{},\"id\":\"1120\",\"type\":\"LinearScale\"},{\"attributes\":{\"coordinates\":null,\"formatter\":{\"id\":\"1168\"},\"group\":null,\"major_label_policy\":{\"id\":\"1169\"},\"ticker\":{\"id\":\"1129\"}},\"id\":\"1128\",\"type\":\"LinearAxis\"},{\"attributes\":{},\"id\":\"1122\",\"type\":\"LinearScale\"},{\"attributes\":{\"axis\":{\"id\":\"1128\"},\"coordinates\":null,\"dimension\":1,\"group\":null,\"ticker\":null},\"id\":\"1131\",\"type\":\"Grid\"},{\"attributes\":{\"coordinates\":null,\"formatter\":{\"id\":\"1171\"},\"group\":null,\"major_label_policy\":{\"id\":\"1172\"},\"ticker\":{\"id\":\"1125\"}},\"id\":\"1124\",\"type\":\"LinearAxis\"},{\"attributes\":{},\"id\":\"1129\",\"type\":\"BasicTicker\"},{\"attributes\":{},\"id\":\"1125\",\"type\":\"BasicTicker\"},{\"attributes\":{},\"id\":\"1116\",\"type\":\"DataRange1d\"},{\"attributes\":{\"axis\":{\"id\":\"1124\"},\"coordinates\":null,\"group\":null,\"ticker\":null},\"id\":\"1127\",\"type\":\"Grid\"},{\"attributes\":{},\"id\":\"1135\",\"type\":\"SaveTool\"},{\"attributes\":{\"overlay\":{\"id\":\"1138\"}},\"id\":\"1134\",\"type\":\"BoxZoomTool\"}],\"root_ids\":[\"1115\"]},\"title\":\"Bokeh Application\",\"version\":\"2.4.1\"}};\n",
       "  const render_items = [{\"docid\":\"3adb935f-c147-4806-bcda-191546aeedef\",\"root_ids\":[\"1115\"],\"roots\":{\"1115\":\"5eb0913e-0080-4fe4-97ee-ad937bfa8ae0\"}}];\n",
       "  root.Bokeh.embed.embed_items_notebook(docs_json, render_items);\n",
       "\n",
       "  }\n",
       "  if (root.Bokeh !== undefined) {\n",
       "    embed_document(root);\n",
       "  } else {\n",
       "    let attempts = 0;\n",
       "    const timer = setInterval(function(root) {\n",
       "      if (root.Bokeh !== undefined) {\n",
       "        clearInterval(timer);\n",
       "        embed_document(root);\n",
       "      } else {\n",
       "        attempts++;\n",
       "        if (attempts > 100) {\n",
       "          clearInterval(timer);\n",
       "          console.log(\"Bokeh: ERROR: Unable to run BokehJS code because BokehJS library is missing\");\n",
       "        }\n",
       "      }\n",
       "    }, 10, root)\n",
       "  }\n",
       "})(window);"
      ],
      "application/vnd.bokehjs_exec.v0+json": ""
     },
     "metadata": {
      "application/vnd.bokehjs_exec.v0+json": {
       "id": "1115"
      }
     },
     "output_type": "display_data"
    },
    {
     "data": {
      "text/html": [
       "<div style=\"display: table;\"><div style=\"display: table-row;\"><div style=\"display: table-cell;\"><b title=\"bokeh.plotting.figure.Figure\">Figure</b>(</div><div style=\"display: table-cell;\">id&nbsp;=&nbsp;'1115', <span id=\"1232\" style=\"cursor: pointer;\">&hellip;)</span></div></div><div class=\"1231\" style=\"display: none;\"><div style=\"display: table-cell;\"></div><div style=\"display: table-cell;\">above&nbsp;=&nbsp;[],</div></div><div class=\"1231\" style=\"display: none;\"><div style=\"display: table-cell;\"></div><div style=\"display: table-cell;\">align&nbsp;=&nbsp;'start',</div></div><div class=\"1231\" style=\"display: none;\"><div style=\"display: table-cell;\"></div><div style=\"display: table-cell;\">aspect_ratio&nbsp;=&nbsp;None,</div></div><div class=\"1231\" style=\"display: none;\"><div style=\"display: table-cell;\"></div><div style=\"display: table-cell;\">aspect_scale&nbsp;=&nbsp;1,</div></div><div class=\"1231\" style=\"display: none;\"><div style=\"display: table-cell;\"></div><div style=\"display: table-cell;\">background&nbsp;=&nbsp;None,</div></div><div class=\"1231\" style=\"display: none;\"><div style=\"display: table-cell;\"></div><div style=\"display: table-cell;\">background_fill_alpha&nbsp;=&nbsp;1.0,</div></div><div class=\"1231\" style=\"display: none;\"><div style=\"display: table-cell;\"></div><div style=\"display: table-cell;\">background_fill_color&nbsp;=&nbsp;'#ffffff',</div></div><div class=\"1231\" style=\"display: none;\"><div style=\"display: table-cell;\"></div><div style=\"display: table-cell;\">below&nbsp;=&nbsp;[LinearAxis(id='1124', ...)],</div></div><div class=\"1231\" style=\"display: none;\"><div style=\"display: table-cell;\"></div><div style=\"display: table-cell;\">border_fill_alpha&nbsp;=&nbsp;1.0,</div></div><div class=\"1231\" style=\"display: none;\"><div style=\"display: table-cell;\"></div><div style=\"display: table-cell;\">border_fill_color&nbsp;=&nbsp;'#ffffff',</div></div><div class=\"1231\" style=\"display: none;\"><div style=\"display: table-cell;\"></div><div style=\"display: table-cell;\">center&nbsp;=&nbsp;[Grid(id='1127', ...), Grid(id='1131', ...)],</div></div><div class=\"1231\" style=\"display: none;\"><div style=\"display: table-cell;\"></div><div style=\"display: table-cell;\">css_classes&nbsp;=&nbsp;[],</div></div><div class=\"1231\" style=\"display: none;\"><div style=\"display: table-cell;\"></div><div style=\"display: table-cell;\">disabled&nbsp;=&nbsp;False,</div></div><div class=\"1231\" style=\"display: none;\"><div style=\"display: table-cell;\"></div><div style=\"display: table-cell;\">extra_x_ranges&nbsp;=&nbsp;{},</div></div><div class=\"1231\" style=\"display: none;\"><div style=\"display: table-cell;\"></div><div style=\"display: table-cell;\">extra_x_scales&nbsp;=&nbsp;{},</div></div><div class=\"1231\" style=\"display: none;\"><div style=\"display: table-cell;\"></div><div style=\"display: table-cell;\">extra_y_ranges&nbsp;=&nbsp;{},</div></div><div class=\"1231\" style=\"display: none;\"><div style=\"display: table-cell;\"></div><div style=\"display: table-cell;\">extra_y_scales&nbsp;=&nbsp;{},</div></div><div class=\"1231\" style=\"display: none;\"><div style=\"display: table-cell;\"></div><div style=\"display: table-cell;\">frame_height&nbsp;=&nbsp;None,</div></div><div class=\"1231\" style=\"display: none;\"><div style=\"display: table-cell;\"></div><div style=\"display: table-cell;\">frame_width&nbsp;=&nbsp;None,</div></div><div class=\"1231\" style=\"display: none;\"><div style=\"display: table-cell;\"></div><div style=\"display: table-cell;\">height&nbsp;=&nbsp;400,</div></div><div class=\"1231\" style=\"display: none;\"><div style=\"display: table-cell;\"></div><div style=\"display: table-cell;\">height_policy&nbsp;=&nbsp;'auto',</div></div><div class=\"1231\" style=\"display: none;\"><div style=\"display: table-cell;\"></div><div style=\"display: table-cell;\">hidpi&nbsp;=&nbsp;True,</div></div><div class=\"1231\" style=\"display: none;\"><div style=\"display: table-cell;\"></div><div style=\"display: table-cell;\">inner_height&nbsp;=&nbsp;0,</div></div><div class=\"1231\" style=\"display: none;\"><div style=\"display: table-cell;\"></div><div style=\"display: table-cell;\">inner_width&nbsp;=&nbsp;0,</div></div><div class=\"1231\" style=\"display: none;\"><div style=\"display: table-cell;\"></div><div style=\"display: table-cell;\">js_event_callbacks&nbsp;=&nbsp;{},</div></div><div class=\"1231\" style=\"display: none;\"><div style=\"display: table-cell;\"></div><div style=\"display: table-cell;\">js_property_callbacks&nbsp;=&nbsp;{},</div></div><div class=\"1231\" style=\"display: none;\"><div style=\"display: table-cell;\"></div><div style=\"display: table-cell;\">left&nbsp;=&nbsp;[LinearAxis(id='1128', ...)],</div></div><div class=\"1231\" style=\"display: none;\"><div style=\"display: table-cell;\"></div><div style=\"display: table-cell;\">lod_factor&nbsp;=&nbsp;10,</div></div><div class=\"1231\" style=\"display: none;\"><div style=\"display: table-cell;\"></div><div style=\"display: table-cell;\">lod_interval&nbsp;=&nbsp;300,</div></div><div class=\"1231\" style=\"display: none;\"><div style=\"display: table-cell;\"></div><div style=\"display: table-cell;\">lod_threshold&nbsp;=&nbsp;2000,</div></div><div class=\"1231\" style=\"display: none;\"><div style=\"display: table-cell;\"></div><div style=\"display: table-cell;\">lod_timeout&nbsp;=&nbsp;500,</div></div><div class=\"1231\" style=\"display: none;\"><div style=\"display: table-cell;\"></div><div style=\"display: table-cell;\">margin&nbsp;=&nbsp;(0, 0, 0, 0),</div></div><div class=\"1231\" style=\"display: none;\"><div style=\"display: table-cell;\"></div><div style=\"display: table-cell;\">match_aspect&nbsp;=&nbsp;False,</div></div><div class=\"1231\" style=\"display: none;\"><div style=\"display: table-cell;\"></div><div style=\"display: table-cell;\">max_height&nbsp;=&nbsp;None,</div></div><div class=\"1231\" style=\"display: none;\"><div style=\"display: table-cell;\"></div><div style=\"display: table-cell;\">max_width&nbsp;=&nbsp;None,</div></div><div class=\"1231\" style=\"display: none;\"><div style=\"display: table-cell;\"></div><div style=\"display: table-cell;\">min_border&nbsp;=&nbsp;5,</div></div><div class=\"1231\" style=\"display: none;\"><div style=\"display: table-cell;\"></div><div style=\"display: table-cell;\">min_border_bottom&nbsp;=&nbsp;None,</div></div><div class=\"1231\" style=\"display: none;\"><div style=\"display: table-cell;\"></div><div style=\"display: table-cell;\">min_border_left&nbsp;=&nbsp;None,</div></div><div class=\"1231\" style=\"display: none;\"><div style=\"display: table-cell;\"></div><div style=\"display: table-cell;\">min_border_right&nbsp;=&nbsp;None,</div></div><div class=\"1231\" style=\"display: none;\"><div style=\"display: table-cell;\"></div><div style=\"display: table-cell;\">min_border_top&nbsp;=&nbsp;None,</div></div><div class=\"1231\" style=\"display: none;\"><div style=\"display: table-cell;\"></div><div style=\"display: table-cell;\">min_height&nbsp;=&nbsp;None,</div></div><div class=\"1231\" style=\"display: none;\"><div style=\"display: table-cell;\"></div><div style=\"display: table-cell;\">min_width&nbsp;=&nbsp;None,</div></div><div class=\"1231\" style=\"display: none;\"><div style=\"display: table-cell;\"></div><div style=\"display: table-cell;\">name&nbsp;=&nbsp;None,</div></div><div class=\"1231\" style=\"display: none;\"><div style=\"display: table-cell;\"></div><div style=\"display: table-cell;\">outer_height&nbsp;=&nbsp;0,</div></div><div class=\"1231\" style=\"display: none;\"><div style=\"display: table-cell;\"></div><div style=\"display: table-cell;\">outer_width&nbsp;=&nbsp;0,</div></div><div class=\"1231\" style=\"display: none;\"><div style=\"display: table-cell;\"></div><div style=\"display: table-cell;\">outline_line_alpha&nbsp;=&nbsp;1.0,</div></div><div class=\"1231\" style=\"display: none;\"><div style=\"display: table-cell;\"></div><div style=\"display: table-cell;\">outline_line_cap&nbsp;=&nbsp;'butt',</div></div><div class=\"1231\" style=\"display: none;\"><div style=\"display: table-cell;\"></div><div style=\"display: table-cell;\">outline_line_color&nbsp;=&nbsp;'#e5e5e5',</div></div><div class=\"1231\" style=\"display: none;\"><div style=\"display: table-cell;\"></div><div style=\"display: table-cell;\">outline_line_dash&nbsp;=&nbsp;[],</div></div><div class=\"1231\" style=\"display: none;\"><div style=\"display: table-cell;\"></div><div style=\"display: table-cell;\">outline_line_dash_offset&nbsp;=&nbsp;0,</div></div><div class=\"1231\" style=\"display: none;\"><div style=\"display: table-cell;\"></div><div style=\"display: table-cell;\">outline_line_join&nbsp;=&nbsp;'bevel',</div></div><div class=\"1231\" style=\"display: none;\"><div style=\"display: table-cell;\"></div><div style=\"display: table-cell;\">outline_line_width&nbsp;=&nbsp;1,</div></div><div class=\"1231\" style=\"display: none;\"><div style=\"display: table-cell;\"></div><div style=\"display: table-cell;\">output_backend&nbsp;=&nbsp;'canvas',</div></div><div class=\"1231\" style=\"display: none;\"><div style=\"display: table-cell;\"></div><div style=\"display: table-cell;\">renderers&nbsp;=&nbsp;[GlyphRenderer(id='1150', ...)],</div></div><div class=\"1231\" style=\"display: none;\"><div style=\"display: table-cell;\"></div><div style=\"display: table-cell;\">reset_policy&nbsp;=&nbsp;'standard',</div></div><div class=\"1231\" style=\"display: none;\"><div style=\"display: table-cell;\"></div><div style=\"display: table-cell;\">right&nbsp;=&nbsp;[],</div></div><div class=\"1231\" style=\"display: none;\"><div style=\"display: table-cell;\"></div><div style=\"display: table-cell;\">sizing_mode&nbsp;=&nbsp;None,</div></div><div class=\"1231\" style=\"display: none;\"><div style=\"display: table-cell;\"></div><div style=\"display: table-cell;\">subscribed_events&nbsp;=&nbsp;[],</div></div><div class=\"1231\" style=\"display: none;\"><div style=\"display: table-cell;\"></div><div style=\"display: table-cell;\">syncable&nbsp;=&nbsp;True,</div></div><div class=\"1231\" style=\"display: none;\"><div style=\"display: table-cell;\"></div><div style=\"display: table-cell;\">tags&nbsp;=&nbsp;[],</div></div><div class=\"1231\" style=\"display: none;\"><div style=\"display: table-cell;\"></div><div style=\"display: table-cell;\">title&nbsp;=&nbsp;Title(id='1165', ...),</div></div><div class=\"1231\" style=\"display: none;\"><div style=\"display: table-cell;\"></div><div style=\"display: table-cell;\">title_location&nbsp;=&nbsp;'above',</div></div><div class=\"1231\" style=\"display: none;\"><div style=\"display: table-cell;\"></div><div style=\"display: table-cell;\">toolbar&nbsp;=&nbsp;Toolbar(id='1139', ...),</div></div><div class=\"1231\" style=\"display: none;\"><div style=\"display: table-cell;\"></div><div style=\"display: table-cell;\">toolbar_location&nbsp;=&nbsp;'right',</div></div><div class=\"1231\" style=\"display: none;\"><div style=\"display: table-cell;\"></div><div style=\"display: table-cell;\">toolbar_sticky&nbsp;=&nbsp;True,</div></div><div class=\"1231\" style=\"display: none;\"><div style=\"display: table-cell;\"></div><div style=\"display: table-cell;\">visible&nbsp;=&nbsp;True,</div></div><div class=\"1231\" style=\"display: none;\"><div style=\"display: table-cell;\"></div><div style=\"display: table-cell;\">width&nbsp;=&nbsp;600,</div></div><div class=\"1231\" style=\"display: none;\"><div style=\"display: table-cell;\"></div><div style=\"display: table-cell;\">width_policy&nbsp;=&nbsp;'auto',</div></div><div class=\"1231\" style=\"display: none;\"><div style=\"display: table-cell;\"></div><div style=\"display: table-cell;\">x_range&nbsp;=&nbsp;DataRange1d(id='1116', ...),</div></div><div class=\"1231\" style=\"display: none;\"><div style=\"display: table-cell;\"></div><div style=\"display: table-cell;\">x_scale&nbsp;=&nbsp;LinearScale(id='1120', ...),</div></div><div class=\"1231\" style=\"display: none;\"><div style=\"display: table-cell;\"></div><div style=\"display: table-cell;\">y_range&nbsp;=&nbsp;DataRange1d(id='1118', ...),</div></div><div class=\"1231\" style=\"display: none;\"><div style=\"display: table-cell;\"></div><div style=\"display: table-cell;\">y_scale&nbsp;=&nbsp;LinearScale(id='1122', ...))</div></div></div>\n",
       "<script>\n",
       "(function() {\n",
       "  let expanded = false;\n",
       "  const ellipsis = document.getElementById(\"1232\");\n",
       "  ellipsis.addEventListener(\"click\", function() {\n",
       "    const rows = document.getElementsByClassName(\"1231\");\n",
       "    for (let i = 0; i < rows.length; i++) {\n",
       "      const el = rows[i];\n",
       "      el.style.display = expanded ? \"none\" : \"table-row\";\n",
       "    }\n",
       "    ellipsis.innerHTML = expanded ? \"&hellip;)\" : \"&lsaquo;&lsaquo;&lsaquo;\";\n",
       "    expanded = !expanded;\n",
       "  });\n",
       "})();\n",
       "</script>\n"
      ],
      "text/plain": [
       "Figure(id='1115', ...)"
      ]
     },
     "execution_count": 49,
     "metadata": {},
     "output_type": "execute_result"
    }
   ],
   "source": [
    "draw_vectors(word_vectors_pca[:, 0], word_vectors_pca[:, 1], token=words)\n",
    "\n",
    "# hover a mouse over there and see if you can identify the clusters"
   ]
  },
  {
   "cell_type": "markdown",
   "metadata": {},
   "source": [
    "### Visualizing neighbors with t-SNE\n",
    "PCA is nice but it's strictly linear and thus only able to capture coarse high-level structure of the data.\n",
    "\n",
    "If we instead want to focus on keeping neighboring points near, we could use TSNE, which is itself an embedding method. Here you can read __[more on TSNE](https://distill.pub/2016/misread-tsne/)__."
   ]
  },
  {
   "cell_type": "code",
   "execution_count": null,
   "metadata": {},
   "outputs": [],
   "source": [
    "from sklearn.manifold import TSNE\n",
    "\n",
    "# map word vectors onto 2d plane with TSNE. hint: don't panic it may take a minute or two to fit.\n",
    "# normalize them as just lke with pca\n",
    "\n",
    "\n",
    "word_tsne = #YOUR CODE"
   ]
  },
  {
   "cell_type": "code",
   "execution_count": null,
   "metadata": {
    "scrolled": false
   },
   "outputs": [],
   "source": [
    "draw_vectors(word_tsne[:, 0], word_tsne[:, 1], color='green', token=words)"
   ]
  },
  {
   "cell_type": "markdown",
   "metadata": {},
   "source": [
    "### Visualizing phrases\n",
    "\n",
    "Word embeddings can also be used to represent short phrases. The simplest way is to take __an average__ of vectors for all tokens in the phrase with some weights.\n",
    "\n",
    "This trick is useful to identify what data are you working with: find if there are any outliers, clusters or other artefacts.\n",
    "\n",
    "Let's try this new hammer on our data!\n"
   ]
  },
  {
   "cell_type": "code",
   "execution_count": null,
   "metadata": {},
   "outputs": [],
   "source": [
    "def get_phrase_embedding(phrase):\n",
    "    \"\"\"\n",
    "    Convert phrase to a vector by aggregating it's word embeddings. See description above.\n",
    "    \"\"\"\n",
    "    # 1. lowercase phrase\n",
    "    # 2. tokenize phrase\n",
    "    # 3. average word vectors for all words in tokenized phrase\n",
    "    # skip words that are not in model's vocabulary\n",
    "    # if all words are missing from vocabulary, return zeros\n",
    "    \n",
    "    vector = np.zeros([model.vector_size], dtype='float32')\n",
    "    \n",
    "    # YOUR CODE\n",
    "    \n",
    "    return vector\n",
    "        \n",
    "    "
   ]
  },
  {
   "cell_type": "code",
   "execution_count": null,
   "metadata": {},
   "outputs": [],
   "source": [
    "vector = get_phrase_embedding(\"I'm very sure. This never happened to me before...\")\n",
    "\n",
    "assert np.allclose(vector[::10],\n",
    "                   np.array([ 0.31807372, -0.02558171,  0.0933293 , -0.1002182 , -1.0278689 ,\n",
    "                             -0.16621883,  0.05083408,  0.17989802,  1.3701859 ,  0.08655966],\n",
    "                              dtype=np.float32))"
   ]
  },
  {
   "cell_type": "code",
   "execution_count": null,
   "metadata": {},
   "outputs": [],
   "source": [
    "# let's only consider ~5k phrases for a first run.\n",
    "chosen_phrases = data[::len(data) // 1000]\n",
    "\n",
    "# compute vectors for chosen phrases\n",
    "phrase_vectors = # YOUR CODE"
   ]
  },
  {
   "cell_type": "code",
   "execution_count": null,
   "metadata": {},
   "outputs": [],
   "source": [
    "assert isinstance(phrase_vectors, np.ndarray) and np.isfinite(phrase_vectors).all()\n",
    "assert phrase_vectors.shape == (len(chosen_phrases), model.vector_size)"
   ]
  },
  {
   "cell_type": "code",
   "execution_count": null,
   "metadata": {},
   "outputs": [],
   "source": [
    "# map vectors into 2d space with pca, tsne or your other method of choice\n",
    "# don't forget to normalize\n",
    "\n",
    "phrase_vectors_2d = TSNE().fit_transform(phrase_vectors)\n",
    "\n",
    "phrase_vectors_2d = (phrase_vectors_2d - phrase_vectors_2d.mean(axis=0)) / phrase_vectors_2d.std(axis=0)"
   ]
  },
  {
   "cell_type": "code",
   "execution_count": null,
   "metadata": {},
   "outputs": [],
   "source": [
    "draw_vectors(phrase_vectors_2d[:, 0], phrase_vectors_2d[:, 1],\n",
    "             phrase=[phrase[:50] for phrase in chosen_phrases],\n",
    "             radius=20,)"
   ]
  },
  {
   "cell_type": "markdown",
   "metadata": {},
   "source": [
    "Finally, let's build a simple \"similar question\" engine with phrase embeddings we've built."
   ]
  },
  {
   "cell_type": "code",
   "execution_count": null,
   "metadata": {},
   "outputs": [],
   "source": [
    "# compute vector embedding for all lines in data\n",
    "data_vectors = np.array([get_phrase_embedding(l) for l in data])"
   ]
  },
  {
   "cell_type": "code",
   "execution_count": null,
   "metadata": {},
   "outputs": [],
   "source": [
    "def find_nearest(query, k=10):\n",
    "    \"\"\"\n",
    "    given text line (query), return k most similar lines from data, sorted from most to least similar\n",
    "    similarity should be measured as cosine between query and line embedding vectors\n",
    "    hint: it's okay to use global variables: data and data_vectors. see also: np.argpartition, np.argsort\n",
    "    \"\"\"\n",
    "    # YOUR CODE\n",
    "    \n",
    "    return <YOUR CODE: top-k lines starting from most similar>"
   ]
  },
  {
   "cell_type": "code",
   "execution_count": null,
   "metadata": {},
   "outputs": [],
   "source": [
    "results = find_nearest(query=\"How do i enter the matrix?\", k=10)\n",
    "\n",
    "print(''.join(results))\n",
    "\n",
    "assert len(results) == 10 and isinstance(results[0], str)\n",
    "assert results[0] == 'How do I get to the dark web?\\n'\n",
    "assert results[3] == 'What can I do to save the world?\\n'"
   ]
  },
  {
   "cell_type": "code",
   "execution_count": null,
   "metadata": {},
   "outputs": [],
   "source": [
    "find_nearest(query=\"How does Trump?\", k=10)"
   ]
  },
  {
   "cell_type": "code",
   "execution_count": null,
   "metadata": {},
   "outputs": [],
   "source": [
    "find_nearest(query=\"Why don't i ask a question myself?\", k=10)"
   ]
  },
  {
   "cell_type": "markdown",
   "metadata": {
    "collapsed": true
   },
   "source": [
    "__Now what?__\n",
    "* Try running TSNE on all data, not just 1000 phrases\n",
    "* See what other embeddings are there in the model zoo: `gensim.downloader.info()`\n",
    "* Take a look at [FastText](https://github.com/facebookresearch/fastText) embeddings\n",
    "* Optimize find_nearest with locality-sensitive hashing: use [nearpy](https://github.com/pixelogik/NearPy) or `sklearn.neighbors`."
   ]
  }
 ],
 "metadata": {
  "kernelspec": {
   "display_name": "Python 3",
   "language": "python",
   "name": "python3"
  },
  "language_info": {
   "codemirror_mode": {
    "name": "ipython",
    "version": 3
   },
   "file_extension": ".py",
   "mimetype": "text/x-python",
   "name": "python",
   "nbconvert_exporter": "python",
   "pygments_lexer": "ipython3",
   "version": "3.7.2"
  }
 },
 "nbformat": 4,
 "nbformat_minor": 2
}
