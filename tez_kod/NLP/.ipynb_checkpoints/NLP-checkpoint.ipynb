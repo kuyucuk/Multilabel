{
 "cells": [
  {
   "cell_type": "code",
   "execution_count": 113,
   "metadata": {},
   "outputs": [],
   "source": [
    "import xlwt\n",
    "from openpyxl import Workbook,load_workbook\n",
    "from xlwt import Workbook\n",
    "\n",
    "\n",
    "wb = Workbook()\n",
    "sheet1 = wb.add_sheet('Sheet 1')\n",
    "\n",
    "wb2 = load_workbook(\"Tüm kargo verileri.xlsx\")\n",
    "ws = wb2.active\n",
    "\n",
    "sheet1.write(0, 0, \"İçerik\")\n",
    "toplamkelime=0\n",
    "toplamicerik=\" \"\n",
    "\n",
    "dosya_ismi = \"acik1\"\n",
    "\n",
    "toplam = open(\"\"+dosya_ismi+\".txt\", \"r\", encoding=\"utf-8\")\n",
    "icerik = toplam.read()\n",
    "\n",
    "\n",
    "#icerik=\"Sürat Kargo Müşteri Memnuniyeti tarih başlık Umurlarında Değil--> Korona virüs belası sebebiyle tüm aile bireyleri olarak Eve ® hapis olduğumuz bir günde gelen kargomu teslim etmeyip işin kolayına kaçarak not bırakıp giden işgüzar personellerden, buna prim veren kargo şirketinden şikayetçiyim. Sürat kelimesi jet hızıyla dağıtıma çıkıp geri dönmek anlamına geliyor onlar için. Müşteri memnuniyeti umurlarında değil.\"\n"
   ]
  },
  {
   "cell_type": "code",
   "execution_count": 114,
   "metadata": {},
   "outputs": [],
   "source": [
    "icerik = icerik.replace(\"İ\", \"i\")\n",
    "icerik = icerik.replace(\"I\", \"ı\")\n",
    "icerik = icerik.replace(\"Ö\", \"ö\")\n",
    "icerik = icerik.replace(\"Ü\", \"ü\")\n",
    "icerik = icerik.replace(\"Ç\", \"ç\")\n",
    "icerik = icerik.replace(\"Ş\", \"ş\")\n",
    "icerik = icerik.lower()"
   ]
  },
  {
   "cell_type": "code",
   "execution_count": 115,
   "metadata": {},
   "outputs": [],
   "source": [
    "noktalama=\", ; . \\\" ' : - ! % ( ) [ ] * / ? ’ ” “ + _ = % # £ ^ $ ½ & { } \\ < > | ® ®\"\n",
    "\n",
    "numbers=\"0 1 2 3 4 5 6 7 8 9\"\n",
    "\n",
    "stopwords=\"\"\"ve veya yada lakin ama veyahut zaten oysa ki oysaki hep şimdi diyor \n",
    "tarih yok derdi öyleyse öyle yine yeniden yu sinde hizmet işlem sürekli ayrıca zaten orum çok çoktan sı de da tam nasıl\n",
    "itibaren sız siz ben biz ıyorlar ıyor edi nuz mu diyor önce dedi geldi tamam merhaba \n",
    "üzerinden yaptım edip lerinin defa acaba tarih başlık bu ® ® rağmen mı mi mu mü km dan \n",
    "mng ﻿mng surat sürat yurtiçi yurtici yurtıcı yurtıçı ptt ﻿ptt aras\"\"\"\n",
    "\n",
    "kelimekokleri=\"\"\"korona corona covid pandemi dağıtım trendyol n11 gecikme telefon iade \n",
    "parça sipariş huysuz laubali kayıp hasar adres demet kargo kurye maske yetkili önlem \n",
    "şube işletme teslimat teslim çalışan personel memnuniyet eleman sıramatik ortam bekleme bağırma saygısız \n",
    "şikayet alışveriş ürün tarih getirmeme ankara istanbul bursa paket engel kapı apartman \n",
    "süreç gönderici irsaliye fatura sistem aktarma cevap internet ödeme hizmet müşteri para \n",
    "sorumsuz imza meşgul mağdur parmak parmağ dönem şube ücret yalan oyalayama numara hata uyarı yapmay açmıy \n",
    "duymuy görmüy edilm getirm kağıd edil temsilci\"\"\""
   ]
  },
  {
   "cell_type": "code",
   "execution_count": 116,
   "metadata": {},
   "outputs": [],
   "source": [
    "for nokta in noktalama.split(\" \"):\n",
    "    icerik = icerik.replace(nokta, \" \")\n",
    "\n",
    "for number in numbers.split(\" \"):\n",
    "    icerik = icerik.replace(number, \" \")"
   ]
  },
  {
   "cell_type": "code",
   "execution_count": 117,
   "metadata": {},
   "outputs": [],
   "source": [
    "sadeicerik=\"\"\n",
    "kelimeler=icerik.split()\n",
    "for kelime in kelimeler:\n",
    "\n",
    "    for kok in kelimekokleri.split(\" \"):\n",
    "        if kok in kelime:\n",
    "            kelime = kelime.replace(kelime, kok)\n",
    "\n",
    "    for baglac in stopwords.split(\" \"):\n",
    "        if baglac == kelime:\n",
    "            kelime = kelime.replace(kelime, \"\")\n",
    "\n",
    "    sadeicerik = sadeicerik + kelime + \" \""
   ]
  },
  {
   "cell_type": "code",
   "execution_count": 118,
   "metadata": {},
   "outputs": [],
   "source": [
    "sadeicerik = sadeicerik.replace(\"kağıd\", \"kağıt\")\n",
    "sadeicerik = sadeicerik.replace(\"parmağ\", \"parmak\")\n",
    "sadeicerik = sadeicerik.replace(\"duymuy\", \"duymamak\")\n",
    "sadeicerik = sadeicerik.replace(\"görmüy\", \"görmemek\")\n",
    "sadeicerik = sadeicerik.replace(\"açmıy\", \"açmamak\")\n",
    "sadeicerik = sadeicerik.replace(\"yapmay\", \"yapmamak\")\n",
    "sadeicerik = sadeicerik.replace(\"edilm\", \"edilmemek\")\n",
    "sadeicerik = sadeicerik.replace(\"getirm\", \"getirmemek\")\n",
    "sadeicerik = sadeicerik.replace(\"edil\", \"edilmek\")\n",
    "\n",
    "sadeicerik = sadeicerik.replace(\" kargo\", \"kargo\")\n",
    "sadeicerik = sadeicerik.replace(\"teşekkür mesajı\", \"\")\n",
    "sadeicerik = sadeicerik.replace(\"diğer gelişmeleri gör\", \"\")"
   ]
  },
  {
   "cell_type": "code",
   "execution_count": 119,
   "metadata": {
    "scrolled": true
   },
   "outputs": [
    {
     "name": "stdout",
     "output_type": "stream",
     "text": [
      "kargo nezaketsiz çalışan covid dönem ne yapar pazartesi günü antalya manavgat şelale şube ne civarı umarım kapanmamıştır diyerek gittim gişe görevlilerine açık olup olmadığını sordum açık olduklarını söyleyince sevindim hemen kapı yapan iki beyefendiden biri uygunsuzluk bir dille dışarı davet etti geri dönüp kulak verince maske içeride yapılmadığını söyledi ne yapacağım dedim maske tak merkezden demek böyle talimat gelmiş böyle teslim varsa eğer maske vereceksiniz maske olmadığını söyleyince o zaman dışarıdan yap davranışı mesaisinin bitimine yakın gelen işten midir bilmiyorum pek hoş değildi kapı içerideki gişe görevlisinin yaptığı işleme seslenerek karşılık veriyordum o sırada dışarıdaki uyarı yapan beyefendinin yanındaki diğer beyefendi içeriye girdi hem maske takın diyorsunuz hem metre yakından geçiyorsunuz dedim kapı çekil o zaman burası kapı giriş çıkış yapılır izin isteseydiniz dedim kapı izin isteyeceğim o sırada fiziki temas olmasa fiziki üstünlük kurma çabamız vardı karşılıklı olarak dedim görürsünüz göster diyerek karşılıklı taciz devam etti o sırada ö sakin diyen beni uyaran beyefendinin dediğine göre adı ö manavgat şelale şube çalışan işlemi aldım gişe görevlisi biraz o anın verdiği gerginliği almak için bana kadar gelip ödeme işlemini aldı almalıydı malum maske vermiyorlar içeri almıyorlar internet satışı yapan firmaların bana üzerinden gönderim yaptıkları haricinde son işlemimdi ile memleketin her yerinde nezaketsizlik şiar edinmiş balık baştan kokar korkarım baş değilsiniz \n"
     ]
    }
   ],
   "source": [
    "for i in range(0, 50):\n",
    "    sadeicerik = str(sadeicerik).replace(\"  \", \" \")\n",
    "print(sadeicerik)"
   ]
  },
  {
   "cell_type": "code",
   "execution_count": null,
   "metadata": {},
   "outputs": [],
   "source": []
  }
 ],
 "metadata": {
  "kernelspec": {
   "display_name": "Python 3",
   "language": "python",
   "name": "python3"
  },
  "language_info": {
   "codemirror_mode": {
    "name": "ipython",
    "version": 3
   },
   "file_extension": ".py",
   "mimetype": "text/x-python",
   "name": "python",
   "nbconvert_exporter": "python",
   "pygments_lexer": "ipython3",
   "version": "3.7.2"
  }
 },
 "nbformat": 4,
 "nbformat_minor": 4
}
