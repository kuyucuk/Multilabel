{
 "cells": [
  {
   "cell_type": "code",
   "execution_count": 523,
   "metadata": {},
   "outputs": [],
   "source": [
    "import xlwt\n",
    "from openpyxl import Workbook,load_workbook\n",
    "from xlwt import Workbook\n",
    "\n",
    "\n",
    "wb = Workbook()\n",
    "sheet1 = wb.add_sheet('Sheet 1')\n",
    "\n",
    "wb2 = load_workbook(\"Tüm kargo verileri.xlsx\")\n",
    "ws = wb2.active\n",
    "\n",
    "sheet1.write(0, 0, \"İçerik\")\n",
    "toplamkelime=0\n",
    "toplamicerik=\" \"\n",
    "\n",
    "dosya_ismi = \"acik1\"\n",
    "\n",
    "toplam = open(\"\"+dosya_ismi+\".txt\", \"r\", encoding=\"utf-8\")\n",
    "icerik = toplam.read()\n",
    "\n",
    "\n",
    "icerik=\"\"\"\n",
    "\n",
    "PTT Kargo Aynı Yakadan Bir Kargo 4 Günde Nasıl Gelemez?--> Kargom 4 gündür kartaldan çekmeköye ancak ulaşıyor. Ulaşıyor ulaşmasına da bu sefer de evde yok kağıdı bıraktıklarını yazmışlar kargo takip ekranına. Ama öyle bir kağıt da yok. Hep evdeydik corona virüs var diye az çıkıyoruz zaten. Bu kaçıncı ya ulaştırın artık şu kargoları.\n",
    "\n",
    "\"\"\""
   ]
  },
  {
   "cell_type": "code",
   "execution_count": 524,
   "metadata": {},
   "outputs": [],
   "source": [
    "icerik = icerik.replace(\"İ\", \"i\")\n",
    "icerik = icerik.replace(\"I\", \"ı\")\n",
    "icerik = icerik.replace(\"Ö\", \"ö\")\n",
    "icerik = icerik.replace(\"Ü\", \"ü\")\n",
    "icerik = icerik.replace(\"Ç\", \"ç\")\n",
    "icerik = icerik.replace(\"Ş\", \"ş\")\n",
    "icerik = icerik.lower()"
   ]
  },
  {
   "cell_type": "code",
   "execution_count": 525,
   "metadata": {},
   "outputs": [],
   "source": [
    "noktalama=\", ; . \\\" ' : - ! % ( ) [ ] * / ? ’ ” “ + _ = % # £ ^ $ ½ & { } \\ < > | ® ®\"\n",
    "\n",
    "numbers=\"0 1 2 3 4 5 6 7 8 9\"\n",
    "\n",
    "stopwords=\"\"\"ve veya yada lakin ama veyahut zaten oysa ki oysaki hep şimdi diyor \n",
    " tarih yok derdi öyleyse öyle yine yeniden yu sinde hizmet işlem sürekli ayrıca zaten orum çok çoktan sı de da tam nasıl\n",
    " itibaren sız siz ben biz ıyorlar ıyor edi nuz mu diyor önce dedi geldi tamam merhaba \n",
    " üzerinden yaptım edip lerinin defa acaba tarih başlık bu ® ® rağmen mı mi mu mü km dan \n",
    " mng ﻿mng surat sürat yurtiçi yurtici yurtıcı yurtıçı ptt ﻿ptt aras kargo korona corona covid pandemi \n",
    "\"\"\"\n",
    "\n",
    "kelimekokleri=\"\"\"korona corona covid pandemi dönem şube ücret yalan oyalayama numara hata uyarı temsilci \n",
    " dağıtım trendyol n11 gecikme telefon iade parça sipariş huysuz laubali kayıp hasar adres demet kargo kurye maske yetkili önlem \n",
    " şube işletme teslimat teslim çalışan personel şirket memnuniyet eleman sıramatik ortam bekleme bağırma saygısız \n",
    " şikayet alışveriş ürün tarih ankara istanbul bursa paket engel kapı apartman süreç gönderici irsaliye fatura \n",
    " sistem aktarma cevap internet ödeme hizmet müşteri para sorumsuz imza meşgul mağdur kolay kelime ekran \n",
    " edilm etmed etmem etmiy \n",
    " etmey etmem etmiy etmed \n",
    " bırakt bırakı bıraka bıraks bırakc bırakç bırakmal bırakmas bırakmad bırakmış \n",
    " bırakmamas bırakmamal bırakmad bırakmıy bırakmay bırakmas bırakmıc bırakmamak \n",
    " parmak parmağ \n",
    " yapmay \n",
    " açmıy \n",
    " duymuy \n",
    " görmüy \n",
    " getirm \n",
    " kağıd \n",
    "\"\"\""
   ]
  },
  {
   "cell_type": "code",
   "execution_count": 526,
   "metadata": {},
   "outputs": [],
   "source": [
    "for nokta in noktalama.split(\" \"):\n",
    "    icerik = icerik.replace(nokta, \" \")\n",
    "\n",
    "for number in numbers.split(\" \"):\n",
    "    icerik = icerik.replace(number, \" \")"
   ]
  },
  {
   "cell_type": "code",
   "execution_count": 527,
   "metadata": {},
   "outputs": [],
   "source": [
    "sadeicerik=\"\"\n",
    "kelimeler=icerik.split()\n",
    "for kelime in kelimeler:\n",
    "\n",
    "    for kok in kelimekokleri.split(\" \"):\n",
    "        if kok in kelime:\n",
    "            kelime = kelime.replace(kelime, kok)\n",
    "\n",
    "    for baglac in stopwords.split(\" \"):\n",
    "        if baglac == kelime:\n",
    "            kelime = kelime.replace(kelime, \" \")\n",
    "\n",
    "    sadeicerik = sadeicerik + kelime + \" \""
   ]
  },
  {
   "cell_type": "code",
   "execution_count": 528,
   "metadata": {},
   "outputs": [],
   "source": [
    "sadeicerik = sadeicerik.replace(\"kağıd\", \"kağıt\")\n",
    "sadeicerik = sadeicerik.replace(\"parmağ\", \"parmak\")\n",
    "sadeicerik = sadeicerik.replace(\"duymuy\", \"duymamak\")\n",
    "sadeicerik = sadeicerik.replace(\"duymam\", \"duymamak\")\n",
    "sadeicerik = sadeicerik.replace(\"görmüy\", \"görmemek\")\n",
    "sadeicerik = sadeicerik.replace(\"açmıy\", \"açmamak\")\n",
    "sadeicerik = sadeicerik.replace(\"yapmay\", \"yapmamak\")\n",
    "sadeicerik = sadeicerik.replace(\"getirm\", \"getirmemek\")\n",
    "\n",
    "sadeicerik = sadeicerik.replace(\"edilm\", \"edilmemek\")\n",
    "sadeicerik = sadeicerik.replace(\"etmed\", \"edilmemek\")\n",
    "sadeicerik = sadeicerik.replace(\"etmem\", \"edilmemek\")\n",
    "sadeicerik = sadeicerik.replace(\"etmiy\", \"edilmemek\")\n",
    "\n",
    "sadeicerik = sadeicerik.replace(\"etmey\", \"etmemek\")\n",
    "sadeicerik = sadeicerik.replace(\"etmiy\", \"etmemek\")\n",
    "sadeicerik = sadeicerik.replace(\"etmed\", \"etmemek\")\n",
    "sadeicerik = sadeicerik.replace(\"etmemel\", \"etmemek\")\n",
    "sadeicerik = sadeicerik.replace(\"etmemes\", \"etmemek\")\n",
    "\n",
    "sadeicerik = sadeicerik.replace(\"bırakt\", \"bırakmak\")\n",
    "sadeicerik = sadeicerik.replace(\"bıraka\", \"bırakmak\")\n",
    "sadeicerik = sadeicerik.replace(\"bırakı\", \"bırakmak\")\n",
    "sadeicerik = sadeicerik.replace(\"bıraks\", \"bırakmak\")\n",
    "sadeicerik = sadeicerik.replace(\"bırakc\", \"bırakmak\")\n",
    "sadeicerik = sadeicerik.replace(\"bırakç\", \"bırakmak\")\n",
    "sadeicerik = sadeicerik.replace(\"bırakmal\", \"bırakmak\")\n",
    "sadeicerik = sadeicerik.replace(\"bırakmas\", \"bırakmak\")\n",
    "sadeicerik = sadeicerik.replace(\"bırakmış\", \"bırakmak\")\n",
    "\n",
    "sadeicerik = sadeicerik.replace(\"bırakmad\", \"bırakmamak\")\n",
    "sadeicerik = sadeicerik.replace(\"bırakmamas\", \"bırakmamak\")\n",
    "sadeicerik = sadeicerik.replace(\"bırakmamal\", \"bırakmamak\")\n",
    "sadeicerik = sadeicerik.replace(\"bırakmad\", \"bırakmamak\")\n",
    "sadeicerik = sadeicerik.replace(\"bırakmıy\", \"bırakmamak\")\n",
    "sadeicerik = sadeicerik.replace(\"bırakmay\", \"bırakmamak\")\n",
    "sadeicerik = sadeicerik.replace(\"bırakmas\", \"bırakmamak\")\n",
    "sadeicerik = sadeicerik.replace(\"bırakmıc\", \"bırakmamak\")\n",
    "sadeicerik = sadeicerik.replace(\"bırakmamak\", \"bırakmamak\")\n",
    "\n",
    "sadeicerik = sadeicerik.replace(\"teşekkür mesajı\", \"\")\n",
    "sadeicerik = sadeicerik.replace(\"diğer gelişmeleri gör\", \"\")"
   ]
  },
  {
   "cell_type": "code",
   "execution_count": 529,
   "metadata": {},
   "outputs": [],
   "source": [
    "for i in range(0, 50):\n",
    "    sadeicerik = str(sadeicerik).replace(\"  \", \" \")\n",
    "if sadeicerik[0] == \" \":\n",
    "    sadeicerik = str(sadeicerik).replace(\" \", \"\", 1)"
   ]
  },
  {
   "cell_type": "code",
   "execution_count": 530,
   "metadata": {
    "scrolled": true
   },
   "outputs": [
    {
     "name": "stdout",
     "output_type": "stream",
     "text": [
      "aynı yakadan bir günde nasıl gelemez gündür kartaldan çekmeköye ancak ulaşıyor ulaşıyor ulaşmasına sefer evde kağıt bırakmak yazmışlar takip ekran bir kağıt evdeydik virüs var diye az çıkıyoruz kaçıncı ya ulaştırın artık şu \n"
     ]
    }
   ],
   "source": [
    "print(sadeicerik)"
   ]
  },
  {
   "cell_type": "code",
   "execution_count": null,
   "metadata": {},
   "outputs": [],
   "source": []
  }
 ],
 "metadata": {
  "kernelspec": {
   "display_name": "Python 3",
   "language": "python",
   "name": "python3"
  },
  "language_info": {
   "codemirror_mode": {
    "name": "ipython",
    "version": 3
   },
   "file_extension": ".py",
   "mimetype": "text/x-python",
   "name": "python",
   "nbconvert_exporter": "python",
   "pygments_lexer": "ipython3",
   "version": "3.7.2"
  }
 },
 "nbformat": 4,
 "nbformat_minor": 4
}
